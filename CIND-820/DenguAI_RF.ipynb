{
 "cells": [
  {
   "cell_type": "code",
   "execution_count": 83,
   "metadata": {},
   "outputs": [],
   "source": [
    "import pandas as pd\n",
    "import numpy as np\n",
    "import matplotlib.pyplot as plt\n",
    "import seaborn as sns\n",
    "%matplotlib inline"
   ]
  },
  {
   "cell_type": "code",
   "execution_count": 84,
   "metadata": {},
   "outputs": [],
   "source": [
    "# Reading the training file\n",
    "RawData1= pd.read_csv('DengAI_Predicting_Disease_Spread_-_Training_Data_Features.csv')"
   ]
  },
  {
   "cell_type": "code",
   "execution_count": 85,
   "metadata": {},
   "outputs": [
    {
     "data": {
      "text/html": [
       "<div>\n",
       "<style scoped>\n",
       "    .dataframe tbody tr th:only-of-type {\n",
       "        vertical-align: middle;\n",
       "    }\n",
       "\n",
       "    .dataframe tbody tr th {\n",
       "        vertical-align: top;\n",
       "    }\n",
       "\n",
       "    .dataframe thead th {\n",
       "        text-align: right;\n",
       "    }\n",
       "</style>\n",
       "<table border=\"1\" class=\"dataframe\">\n",
       "  <thead>\n",
       "    <tr style=\"text-align: right;\">\n",
       "      <th></th>\n",
       "      <th>city</th>\n",
       "      <th>year</th>\n",
       "      <th>weekofyear</th>\n",
       "      <th>total_cases</th>\n",
       "    </tr>\n",
       "  </thead>\n",
       "  <tbody>\n",
       "    <tr>\n",
       "      <td>0</td>\n",
       "      <td>sj</td>\n",
       "      <td>1990</td>\n",
       "      <td>18</td>\n",
       "      <td>4</td>\n",
       "    </tr>\n",
       "    <tr>\n",
       "      <td>1</td>\n",
       "      <td>sj</td>\n",
       "      <td>1990</td>\n",
       "      <td>19</td>\n",
       "      <td>5</td>\n",
       "    </tr>\n",
       "    <tr>\n",
       "      <td>2</td>\n",
       "      <td>sj</td>\n",
       "      <td>1990</td>\n",
       "      <td>20</td>\n",
       "      <td>4</td>\n",
       "    </tr>\n",
       "    <tr>\n",
       "      <td>3</td>\n",
       "      <td>sj</td>\n",
       "      <td>1990</td>\n",
       "      <td>21</td>\n",
       "      <td>3</td>\n",
       "    </tr>\n",
       "    <tr>\n",
       "      <td>4</td>\n",
       "      <td>sj</td>\n",
       "      <td>1990</td>\n",
       "      <td>22</td>\n",
       "      <td>6</td>\n",
       "    </tr>\n",
       "    <tr>\n",
       "      <td>5</td>\n",
       "      <td>sj</td>\n",
       "      <td>1990</td>\n",
       "      <td>23</td>\n",
       "      <td>2</td>\n",
       "    </tr>\n",
       "    <tr>\n",
       "      <td>6</td>\n",
       "      <td>sj</td>\n",
       "      <td>1990</td>\n",
       "      <td>24</td>\n",
       "      <td>4</td>\n",
       "    </tr>\n",
       "    <tr>\n",
       "      <td>7</td>\n",
       "      <td>sj</td>\n",
       "      <td>1990</td>\n",
       "      <td>25</td>\n",
       "      <td>5</td>\n",
       "    </tr>\n",
       "    <tr>\n",
       "      <td>8</td>\n",
       "      <td>sj</td>\n",
       "      <td>1990</td>\n",
       "      <td>26</td>\n",
       "      <td>10</td>\n",
       "    </tr>\n",
       "    <tr>\n",
       "      <td>9</td>\n",
       "      <td>sj</td>\n",
       "      <td>1990</td>\n",
       "      <td>27</td>\n",
       "      <td>6</td>\n",
       "    </tr>\n",
       "  </tbody>\n",
       "</table>\n",
       "</div>"
      ],
      "text/plain": [
       "  city  year  weekofyear  total_cases\n",
       "0   sj  1990          18            4\n",
       "1   sj  1990          19            5\n",
       "2   sj  1990          20            4\n",
       "3   sj  1990          21            3\n",
       "4   sj  1990          22            6\n",
       "5   sj  1990          23            2\n",
       "6   sj  1990          24            4\n",
       "7   sj  1990          25            5\n",
       "8   sj  1990          26           10\n",
       "9   sj  1990          27            6"
      ]
     },
     "execution_count": 85,
     "metadata": {},
     "output_type": "execute_result"
    }
   ],
   "source": [
    "#Importing Total number of cases from the Total cases file\n",
    "dn_cases_RF= pd.read_csv('DengAI_Predicting_Disease_Spread_-_Training_Data_Labels.csv')\n",
    "dn_cases_RF.head(10)"
   ]
  },
  {
   "cell_type": "code",
   "execution_count": 86,
   "metadata": {},
   "outputs": [
    {
     "data": {
      "text/html": [
       "<div>\n",
       "<style scoped>\n",
       "    .dataframe tbody tr th:only-of-type {\n",
       "        vertical-align: middle;\n",
       "    }\n",
       "\n",
       "    .dataframe tbody tr th {\n",
       "        vertical-align: top;\n",
       "    }\n",
       "\n",
       "    .dataframe thead th {\n",
       "        text-align: right;\n",
       "    }\n",
       "</style>\n",
       "<table border=\"1\" class=\"dataframe\">\n",
       "  <thead>\n",
       "    <tr style=\"text-align: right;\">\n",
       "      <th></th>\n",
       "      <th>city</th>\n",
       "      <th>year</th>\n",
       "      <th>weekofyear</th>\n",
       "      <th>week_start_date</th>\n",
       "      <th>ndvi_ne</th>\n",
       "      <th>ndvi_nw</th>\n",
       "      <th>ndvi_se</th>\n",
       "      <th>ndvi_sw</th>\n",
       "      <th>precipitation_amt_mm</th>\n",
       "      <th>reanalysis_air_temp_k</th>\n",
       "      <th>...</th>\n",
       "      <th>reanalysis_relative_humidity_percent</th>\n",
       "      <th>reanalysis_sat_precip_amt_mm</th>\n",
       "      <th>reanalysis_specific_humidity_g_per_kg</th>\n",
       "      <th>reanalysis_tdtr_k</th>\n",
       "      <th>station_avg_temp_c</th>\n",
       "      <th>station_diur_temp_rng_c</th>\n",
       "      <th>station_max_temp_c</th>\n",
       "      <th>station_min_temp_c</th>\n",
       "      <th>station_precip_mm</th>\n",
       "      <th>Total_Cases</th>\n",
       "    </tr>\n",
       "  </thead>\n",
       "  <tbody>\n",
       "    <tr>\n",
       "      <td>0</td>\n",
       "      <td>sj</td>\n",
       "      <td>1990</td>\n",
       "      <td>18</td>\n",
       "      <td>1990-04-30</td>\n",
       "      <td>0.122600</td>\n",
       "      <td>0.103725</td>\n",
       "      <td>0.198483</td>\n",
       "      <td>0.177617</td>\n",
       "      <td>12.42</td>\n",
       "      <td>297.572857</td>\n",
       "      <td>...</td>\n",
       "      <td>73.365714</td>\n",
       "      <td>12.42</td>\n",
       "      <td>14.012857</td>\n",
       "      <td>2.628571</td>\n",
       "      <td>25.442857</td>\n",
       "      <td>6.900000</td>\n",
       "      <td>29.4</td>\n",
       "      <td>20.0</td>\n",
       "      <td>16.0</td>\n",
       "      <td>4</td>\n",
       "    </tr>\n",
       "    <tr>\n",
       "      <td>1</td>\n",
       "      <td>sj</td>\n",
       "      <td>1990</td>\n",
       "      <td>19</td>\n",
       "      <td>1990-05-07</td>\n",
       "      <td>0.169900</td>\n",
       "      <td>0.142175</td>\n",
       "      <td>0.162357</td>\n",
       "      <td>0.155486</td>\n",
       "      <td>22.82</td>\n",
       "      <td>298.211429</td>\n",
       "      <td>...</td>\n",
       "      <td>77.368571</td>\n",
       "      <td>22.82</td>\n",
       "      <td>15.372857</td>\n",
       "      <td>2.371429</td>\n",
       "      <td>26.714286</td>\n",
       "      <td>6.371429</td>\n",
       "      <td>31.7</td>\n",
       "      <td>22.2</td>\n",
       "      <td>8.6</td>\n",
       "      <td>5</td>\n",
       "    </tr>\n",
       "    <tr>\n",
       "      <td>2</td>\n",
       "      <td>sj</td>\n",
       "      <td>1990</td>\n",
       "      <td>20</td>\n",
       "      <td>1990-05-14</td>\n",
       "      <td>0.032250</td>\n",
       "      <td>0.172967</td>\n",
       "      <td>0.157200</td>\n",
       "      <td>0.170843</td>\n",
       "      <td>34.54</td>\n",
       "      <td>298.781429</td>\n",
       "      <td>...</td>\n",
       "      <td>82.052857</td>\n",
       "      <td>34.54</td>\n",
       "      <td>16.848571</td>\n",
       "      <td>2.300000</td>\n",
       "      <td>26.714286</td>\n",
       "      <td>6.485714</td>\n",
       "      <td>32.2</td>\n",
       "      <td>22.8</td>\n",
       "      <td>41.4</td>\n",
       "      <td>4</td>\n",
       "    </tr>\n",
       "    <tr>\n",
       "      <td>3</td>\n",
       "      <td>sj</td>\n",
       "      <td>1990</td>\n",
       "      <td>21</td>\n",
       "      <td>1990-05-21</td>\n",
       "      <td>0.128633</td>\n",
       "      <td>0.245067</td>\n",
       "      <td>0.227557</td>\n",
       "      <td>0.235886</td>\n",
       "      <td>15.36</td>\n",
       "      <td>298.987143</td>\n",
       "      <td>...</td>\n",
       "      <td>80.337143</td>\n",
       "      <td>15.36</td>\n",
       "      <td>16.672857</td>\n",
       "      <td>2.428571</td>\n",
       "      <td>27.471429</td>\n",
       "      <td>6.771429</td>\n",
       "      <td>33.3</td>\n",
       "      <td>23.3</td>\n",
       "      <td>4.0</td>\n",
       "      <td>3</td>\n",
       "    </tr>\n",
       "    <tr>\n",
       "      <td>4</td>\n",
       "      <td>sj</td>\n",
       "      <td>1990</td>\n",
       "      <td>22</td>\n",
       "      <td>1990-05-28</td>\n",
       "      <td>0.196200</td>\n",
       "      <td>0.262200</td>\n",
       "      <td>0.251200</td>\n",
       "      <td>0.247340</td>\n",
       "      <td>7.52</td>\n",
       "      <td>299.518571</td>\n",
       "      <td>...</td>\n",
       "      <td>80.460000</td>\n",
       "      <td>7.52</td>\n",
       "      <td>17.210000</td>\n",
       "      <td>3.014286</td>\n",
       "      <td>28.942857</td>\n",
       "      <td>9.371429</td>\n",
       "      <td>35.0</td>\n",
       "      <td>23.9</td>\n",
       "      <td>5.8</td>\n",
       "      <td>6</td>\n",
       "    </tr>\n",
       "    <tr>\n",
       "      <td>5</td>\n",
       "      <td>sj</td>\n",
       "      <td>1990</td>\n",
       "      <td>23</td>\n",
       "      <td>1990-06-04</td>\n",
       "      <td>0.142294</td>\n",
       "      <td>0.174850</td>\n",
       "      <td>0.254314</td>\n",
       "      <td>0.181743</td>\n",
       "      <td>9.58</td>\n",
       "      <td>299.630000</td>\n",
       "      <td>...</td>\n",
       "      <td>79.891429</td>\n",
       "      <td>9.58</td>\n",
       "      <td>17.212857</td>\n",
       "      <td>2.100000</td>\n",
       "      <td>28.114286</td>\n",
       "      <td>6.942857</td>\n",
       "      <td>34.4</td>\n",
       "      <td>23.9</td>\n",
       "      <td>39.1</td>\n",
       "      <td>2</td>\n",
       "    </tr>\n",
       "    <tr>\n",
       "      <td>6</td>\n",
       "      <td>sj</td>\n",
       "      <td>1990</td>\n",
       "      <td>24</td>\n",
       "      <td>1990-06-11</td>\n",
       "      <td>0.112900</td>\n",
       "      <td>0.092800</td>\n",
       "      <td>0.205071</td>\n",
       "      <td>0.210271</td>\n",
       "      <td>3.48</td>\n",
       "      <td>299.207143</td>\n",
       "      <td>...</td>\n",
       "      <td>82.000000</td>\n",
       "      <td>3.48</td>\n",
       "      <td>17.234286</td>\n",
       "      <td>2.042857</td>\n",
       "      <td>27.414286</td>\n",
       "      <td>6.771429</td>\n",
       "      <td>32.2</td>\n",
       "      <td>23.3</td>\n",
       "      <td>29.7</td>\n",
       "      <td>4</td>\n",
       "    </tr>\n",
       "    <tr>\n",
       "      <td>7</td>\n",
       "      <td>sj</td>\n",
       "      <td>1990</td>\n",
       "      <td>25</td>\n",
       "      <td>1990-06-18</td>\n",
       "      <td>0.072500</td>\n",
       "      <td>0.072500</td>\n",
       "      <td>0.151471</td>\n",
       "      <td>0.133029</td>\n",
       "      <td>151.12</td>\n",
       "      <td>299.591429</td>\n",
       "      <td>...</td>\n",
       "      <td>83.375714</td>\n",
       "      <td>151.12</td>\n",
       "      <td>17.977143</td>\n",
       "      <td>1.571429</td>\n",
       "      <td>28.371429</td>\n",
       "      <td>7.685714</td>\n",
       "      <td>33.9</td>\n",
       "      <td>22.8</td>\n",
       "      <td>21.1</td>\n",
       "      <td>5</td>\n",
       "    </tr>\n",
       "    <tr>\n",
       "      <td>8</td>\n",
       "      <td>sj</td>\n",
       "      <td>1990</td>\n",
       "      <td>26</td>\n",
       "      <td>1990-06-25</td>\n",
       "      <td>0.102450</td>\n",
       "      <td>0.146175</td>\n",
       "      <td>0.125571</td>\n",
       "      <td>0.123600</td>\n",
       "      <td>19.32</td>\n",
       "      <td>299.578571</td>\n",
       "      <td>...</td>\n",
       "      <td>82.768571</td>\n",
       "      <td>19.32</td>\n",
       "      <td>17.790000</td>\n",
       "      <td>1.885714</td>\n",
       "      <td>28.328571</td>\n",
       "      <td>7.385714</td>\n",
       "      <td>33.9</td>\n",
       "      <td>22.8</td>\n",
       "      <td>21.1</td>\n",
       "      <td>10</td>\n",
       "    </tr>\n",
       "    <tr>\n",
       "      <td>9</td>\n",
       "      <td>sj</td>\n",
       "      <td>1990</td>\n",
       "      <td>27</td>\n",
       "      <td>1990-07-02</td>\n",
       "      <td>0.142294</td>\n",
       "      <td>0.121550</td>\n",
       "      <td>0.160683</td>\n",
       "      <td>0.202567</td>\n",
       "      <td>14.41</td>\n",
       "      <td>300.154286</td>\n",
       "      <td>...</td>\n",
       "      <td>81.281429</td>\n",
       "      <td>14.41</td>\n",
       "      <td>18.071429</td>\n",
       "      <td>2.014286</td>\n",
       "      <td>28.328571</td>\n",
       "      <td>6.514286</td>\n",
       "      <td>33.9</td>\n",
       "      <td>24.4</td>\n",
       "      <td>1.1</td>\n",
       "      <td>6</td>\n",
       "    </tr>\n",
       "  </tbody>\n",
       "</table>\n",
       "<p>10 rows × 25 columns</p>\n",
       "</div>"
      ],
      "text/plain": [
       "  city  year  weekofyear week_start_date   ndvi_ne   ndvi_nw   ndvi_se  \\\n",
       "0   sj  1990          18      1990-04-30  0.122600  0.103725  0.198483   \n",
       "1   sj  1990          19      1990-05-07  0.169900  0.142175  0.162357   \n",
       "2   sj  1990          20      1990-05-14  0.032250  0.172967  0.157200   \n",
       "3   sj  1990          21      1990-05-21  0.128633  0.245067  0.227557   \n",
       "4   sj  1990          22      1990-05-28  0.196200  0.262200  0.251200   \n",
       "5   sj  1990          23      1990-06-04  0.142294  0.174850  0.254314   \n",
       "6   sj  1990          24      1990-06-11  0.112900  0.092800  0.205071   \n",
       "7   sj  1990          25      1990-06-18  0.072500  0.072500  0.151471   \n",
       "8   sj  1990          26      1990-06-25  0.102450  0.146175  0.125571   \n",
       "9   sj  1990          27      1990-07-02  0.142294  0.121550  0.160683   \n",
       "\n",
       "    ndvi_sw  precipitation_amt_mm  reanalysis_air_temp_k  ...  \\\n",
       "0  0.177617                 12.42             297.572857  ...   \n",
       "1  0.155486                 22.82             298.211429  ...   \n",
       "2  0.170843                 34.54             298.781429  ...   \n",
       "3  0.235886                 15.36             298.987143  ...   \n",
       "4  0.247340                  7.52             299.518571  ...   \n",
       "5  0.181743                  9.58             299.630000  ...   \n",
       "6  0.210271                  3.48             299.207143  ...   \n",
       "7  0.133029                151.12             299.591429  ...   \n",
       "8  0.123600                 19.32             299.578571  ...   \n",
       "9  0.202567                 14.41             300.154286  ...   \n",
       "\n",
       "   reanalysis_relative_humidity_percent  reanalysis_sat_precip_amt_mm  \\\n",
       "0                             73.365714                         12.42   \n",
       "1                             77.368571                         22.82   \n",
       "2                             82.052857                         34.54   \n",
       "3                             80.337143                         15.36   \n",
       "4                             80.460000                          7.52   \n",
       "5                             79.891429                          9.58   \n",
       "6                             82.000000                          3.48   \n",
       "7                             83.375714                        151.12   \n",
       "8                             82.768571                         19.32   \n",
       "9                             81.281429                         14.41   \n",
       "\n",
       "   reanalysis_specific_humidity_g_per_kg  reanalysis_tdtr_k  \\\n",
       "0                              14.012857           2.628571   \n",
       "1                              15.372857           2.371429   \n",
       "2                              16.848571           2.300000   \n",
       "3                              16.672857           2.428571   \n",
       "4                              17.210000           3.014286   \n",
       "5                              17.212857           2.100000   \n",
       "6                              17.234286           2.042857   \n",
       "7                              17.977143           1.571429   \n",
       "8                              17.790000           1.885714   \n",
       "9                              18.071429           2.014286   \n",
       "\n",
       "   station_avg_temp_c  station_diur_temp_rng_c  station_max_temp_c  \\\n",
       "0           25.442857                 6.900000                29.4   \n",
       "1           26.714286                 6.371429                31.7   \n",
       "2           26.714286                 6.485714                32.2   \n",
       "3           27.471429                 6.771429                33.3   \n",
       "4           28.942857                 9.371429                35.0   \n",
       "5           28.114286                 6.942857                34.4   \n",
       "6           27.414286                 6.771429                32.2   \n",
       "7           28.371429                 7.685714                33.9   \n",
       "8           28.328571                 7.385714                33.9   \n",
       "9           28.328571                 6.514286                33.9   \n",
       "\n",
       "   station_min_temp_c  station_precip_mm  Total_Cases  \n",
       "0                20.0               16.0            4  \n",
       "1                22.2                8.6            5  \n",
       "2                22.8               41.4            4  \n",
       "3                23.3                4.0            3  \n",
       "4                23.9                5.8            6  \n",
       "5                23.9               39.1            2  \n",
       "6                23.3               29.7            4  \n",
       "7                22.8               21.1            5  \n",
       "8                22.8               21.1           10  \n",
       "9                24.4                1.1            6  \n",
       "\n",
       "[10 rows x 25 columns]"
      ]
     },
     "execution_count": 86,
     "metadata": {},
     "output_type": "execute_result"
    }
   ],
   "source": [
    "# Importing the Total Number of cases \n",
    "RawData1['Total_Cases'] = dn_cases_RF['total_cases']\n",
    "RawData1 = RawData1.fillna(value=RawData1.mean())\n",
    "RawData1.head(5)\n",
    "RawData1.head(10)"
   ]
  },
  {
   "cell_type": "code",
   "execution_count": 87,
   "metadata": {},
   "outputs": [],
   "source": [
    "#WE are removing the Yean and City Column as they do mot hae any correlation with the rest of the data\n",
    "x = RawData1[[  'precipitation_amt_mm', 'reanalysis_air_temp_k',\n",
    "       'reanalysis_avg_temp_k', 'reanalysis_dew_point_temp_k',\n",
    "       'reanalysis_precip_amt_kg_per_m2',\n",
    "       'reanalysis_relative_humidity_percent', 'reanalysis_sat_precip_amt_mm',\n",
    "       'reanalysis_specific_humidity_g_per_kg', \n",
    "       'station_avg_temp_c',  'station_max_temp_c',\n",
    "       'station_min_temp_c', 'station_precip_mm',]]"
   ]
  },
  {
   "cell_type": "code",
   "execution_count": 88,
   "metadata": {},
   "outputs": [],
   "source": [
    "# We are assigning the Y values to the Total Cases as we need to train the Data for running the model on TEST dataset\n",
    "y = RawData1['Total_Cases'].values"
   ]
  },
  {
   "cell_type": "code",
   "execution_count": 89,
   "metadata": {},
   "outputs": [],
   "source": [
    "from sklearn.model_selection import train_test_split\n",
    "x_train, x_test, y_train, y_test= train_test_split(x,y, test_size = 0.2, random_state = 200)"
   ]
  },
  {
   "cell_type": "code",
   "execution_count": 90,
   "metadata": {},
   "outputs": [],
   "source": [
    "#importing Random forest library from SKlearn to tarin and test my dataset\n",
    "from sklearn.ensemble import RandomForestRegressor "
   ]
  },
  {
   "cell_type": "code",
   "execution_count": 91,
   "metadata": {},
   "outputs": [],
   "source": [
    "regressor = RandomForestRegressor(n_estimators=50)"
   ]
  },
  {
   "cell_type": "code",
   "execution_count": 92,
   "metadata": {},
   "outputs": [
    {
     "data": {
      "text/plain": [
       "RandomForestRegressor(bootstrap=True, criterion='mse', max_depth=None,\n",
       "                      max_features='auto', max_leaf_nodes=None,\n",
       "                      min_impurity_decrease=0.0, min_impurity_split=None,\n",
       "                      min_samples_leaf=1, min_samples_split=2,\n",
       "                      min_weight_fraction_leaf=0.0, n_estimators=50,\n",
       "                      n_jobs=None, oob_score=False, random_state=None,\n",
       "                      verbose=0, warm_start=False)"
      ]
     },
     "execution_count": 92,
     "metadata": {},
     "output_type": "execute_result"
    }
   ],
   "source": [
    "regressor.fit(x_train,y_train)"
   ]
  },
  {
   "cell_type": "code",
   "execution_count": 93,
   "metadata": {},
   "outputs": [
    {
     "data": {
      "text/plain": [
       "0.8734168438915532"
      ]
     },
     "execution_count": 93,
     "metadata": {},
     "output_type": "execute_result"
    }
   ],
   "source": [
    "regressor.score(x_train, y_train)"
   ]
  },
  {
   "cell_type": "code",
   "execution_count": 94,
   "metadata": {},
   "outputs": [
    {
     "data": {
      "text/plain": [
       "0.15127064034391435"
      ]
     },
     "execution_count": 94,
     "metadata": {},
     "output_type": "execute_result"
    }
   ],
   "source": [
    "regressor.score(x_test, y_test)"
   ]
  },
  {
   "cell_type": "code",
   "execution_count": 95,
   "metadata": {},
   "outputs": [],
   "source": [
    "pr = regressor.predict(x_test)"
   ]
  },
  {
   "cell_type": "code",
   "execution_count": 96,
   "metadata": {},
   "outputs": [
    {
     "data": {
      "text/plain": [
       "array([ 14.14      ,  37.8       ,  30.08      ,  18.        ,\n",
       "         2.96      ,  71.92      ,   6.76      ,  65.24      ,\n",
       "        29.12      ,  25.15264502,  53.06      ,  49.94      ,\n",
       "        37.08      ,  39.89333333,  44.14      ,  47.28      ,\n",
       "        48.04      ,  53.04      ,  29.72      ,  40.02      ,\n",
       "        32.14      ,  22.12      ,  14.86      ,  14.52      ,\n",
       "        46.38      ,  33.        ,   6.54      ,  39.1       ,\n",
       "        28.16      ,  62.72      ,  11.7       ,  35.56      ,\n",
       "         3.18      ,  19.68      ,   8.7       ,  10.1       ,\n",
       "        72.76      ,  14.4       ,  16.28      ,  18.34      ,\n",
       "        13.24      ,  36.98      ,   8.78      ,   7.78      ,\n",
       "        16.98      ,  25.15264502,  21.76      , 110.82      ,\n",
       "        33.38      ,  34.96      ,  13.3       ,  20.26      ,\n",
       "        62.54      ,  22.12      ,  11.88      ,  20.94      ,\n",
       "        25.62      ,  27.06      ,  28.38      ,   4.        ,\n",
       "        14.92      ,  24.14      ,   1.74      ,  19.02      ,\n",
       "        18.78      ,  54.26      ,   5.54      ,   4.4       ,\n",
       "        75.52      ,  34.4       ,  26.88      ,  26.92      ,\n",
       "        18.        ,  43.8       ,   7.08      ,  19.48      ,\n",
       "        15.34      ,   2.38      ,   8.46      ,   7.66      ,\n",
       "        46.22      ,  17.28      ,  43.98      ,   7.48      ,\n",
       "        27.42      ,  50.58      ,  27.18      ,  25.26      ,\n",
       "        27.44      ,  24.24      ,  34.4       ,  28.48      ,\n",
       "        40.76      ,  46.7       ,  25.54      ,  37.92      ,\n",
       "        15.88      ,   9.22      ,  36.22      ,  31.04      ,\n",
       "        72.        ,  49.18      ,  12.82      ,  17.06      ,\n",
       "        14.32      ,  51.6       ,   4.6       ,  36.02666667,\n",
       "        54.2       ,  43.52      ,  17.74      ,  28.72      ,\n",
       "        22.54      ,   3.36      ,   3.68      ,  30.1025    ,\n",
       "         4.9       ,   5.8       ,  57.5       ,  18.34      ,\n",
       "        17.378     ,   6.        ,  13.86      ,   6.76      ,\n",
       "         5.558     ,   6.9875    ,   9.58      ,  10.        ,\n",
       "        12.84      ,   5.4       ,  39.        ,   7.82      ,\n",
       "        35.28      ,  37.36      ,  11.18      ,  12.16      ,\n",
       "        20.68      ,  69.92      ,  24.18      ,  26.2       ,\n",
       "         4.305     ,   1.48      ,  32.16      ,  66.28      ,\n",
       "        22.54      ,  20.92      ,  55.76      ,  30.56      ,\n",
       "        12.44      ,  15.68      ,  22.68      ,  22.3       ,\n",
       "        22.24      ,   8.2       ,  17.5       ,  24.64      ,\n",
       "        15.        ,  20.88      ,  22.14      ,  76.6       ,\n",
       "        30.46      ,  11.36      ,  21.1       ,  25.46      ,\n",
       "        24.86      ,  50.        ,  30.32      ,  29.84      ,\n",
       "        16.98      ,  21.92      ,  15.56      ,  49.44      ,\n",
       "        27.2       , 148.        ,  29.3       ,  34.5       ,\n",
       "        37.22      ,  45.84      ,  36.32      ,  33.04      ,\n",
       "        10.8       ,   7.04      ,  25.15264502,  35.41266667,\n",
       "        43.64      ,   7.58      ,  12.04      ,   2.98      ,\n",
       "        36.76      ,  33.06      ,  25.6       ,  60.82      ,\n",
       "        11.06      ,  24.32      ,  64.62      ,   3.06      ,\n",
       "        10.4       ,  18.12      ,  47.68      ,  48.82      ,\n",
       "        21.88      ,  17.96      ,  27.48      , 171.8       ,\n",
       "        40.8       ,  90.        ,  29.18      ,  18.4       ,\n",
       "        40.18      ,  43.34      ,  35.78      ,  16.62      ,\n",
       "        27.86      ,  77.24      ,  11.58      ,  48.98      ,\n",
       "         5.22      ,  55.52      ,  47.44      ,  32.56      ,\n",
       "         6.54      ,  53.9       ,  61.54      ,  12.9       ,\n",
       "        52.02      ,  40.56      ,  25.22      ,   7.76      ,\n",
       "        22.22      ,  30.5       ,   3.3       ,  12.        ,\n",
       "        14.76      ,  12.64      ,  14.94      ,   7.18      ,\n",
       "        15.3       ,  62.86      ,   6.48      ,  15.34      ,\n",
       "        28.52      ,   7.94      ,   6.74      ,  34.7       ,\n",
       "        22.9       ,  18.66      ,  81.76      ,   9.76      ,\n",
       "         6.6       ,   9.64      ,  59.82      ,  46.12      ,\n",
       "        11.04      ,   6.04      ,  29.26      ,  20.14      ,\n",
       "        14.34      ,  24.72      ,   9.66      ,  24.        ,\n",
       "       129.68      ,   6.1875    ,  14.62      ,  10.12      ,\n",
       "         8.46      ,  15.88      ,   6.06333333,  40.492     ,\n",
       "        14.24      ,  68.42      ,  83.24      ,  24.48      ,\n",
       "        38.76      ,   2.86      ,   7.92      ,  10.2       ,\n",
       "        61.86      ,  35.16      ,  36.22      ,  46.36      ,\n",
       "        13.22      ,  29.3       ,  27.9       ,   8.48      ,\n",
       "        43.68      ,  64.64      ,  40.52      ,   3.2       ,\n",
       "        29.8       ,  23.04      ,  11.74      ,  22.16      ])"
      ]
     },
     "execution_count": 96,
     "metadata": {},
     "output_type": "execute_result"
    }
   ],
   "source": [
    "pr"
   ]
  },
  {
   "cell_type": "code",
   "execution_count": 76,
   "metadata": {},
   "outputs": [
    {
     "data": {
      "text/plain": [
       "array([ 17,   0,  30,  53,   7, 126,  18,  23,   3,  81,  38,  14,  40,\n",
       "         7,   7,  16,  48,  28,  18,   0,  19,   1,  58,   8,  19,  13,\n",
       "         0,   8,  11,  21,   6,   5,   0,  12,  13,   1, 106,  83,  46,\n",
       "         5,   4,   5,   6,   0,  21,   9,   7, 137,  20,  30,   5,   2,\n",
       "        75,   5,   1,  62,  19,  51,   9,   5,  26,   5,   3,  12,  16,\n",
       "        73,   2,   0,  14,  48,   6,  21,   7,  40,   5,  15,   0,   5,\n",
       "        18,   5,  34,  17,   6,   0,   2,   3, 333,   5,   1,  14,  21,\n",
       "         2,   5,  13,  59,  14,  14,   3,  71,   2,  52,  56,  17,  30,\n",
       "         2,  68,   1,   4,  38,  66,   9,  13,  18,   0,   8,   7,   0,\n",
       "         4,  54,  27,  46,   3,   3,  28,   7,  10,  18,  12,  11,   0,\n",
       "        17,  11,  18,   7,   8,   0,  47,  15,  84,  43,   0,   3,   4,\n",
       "        11,   7,   9,   9,  47,   5,  50, 353,   0,  14,   3,  11,  28,\n",
       "         7,  18,  18,  45,   2,  10,  10,  21,  13,   2,  61,  23,   0,\n",
       "        15,   6,  54,  14, 220,   7,  65,  21,  85,   2,  17,   8,  26,\n",
       "         4,  17,  10,   3,  23,   0,  32,   8,  35,  31,  22,  19,  49,\n",
       "         1,   2,  20,  21,  18,   4,   6,  14,   6,  31,  99,  17,  16,\n",
       "        29,  34,   2,   6,  13,  29,   1,  21,   5,  24,  19,  19,   3,\n",
       "        30,  33,   4,  11,  14,  25,   6,  62,  18,   5,   2,   1,   3,\n",
       "         3,   5,  19,  23,   4,  41,  55,   0,   1,  53,  11,   5,  17,\n",
       "         3,  11,   3,  40,  43,   9,  28,  67,   3,   6,   6,   4,   7,\n",
       "       381,  16,  28,   3,   0,  34,   5,  33,  17,  21,  80,  26,  46,\n",
       "         0,  25,  19,  56, 364,   9,   5,   2,   1,  40,   2,   5,  67,\n",
       "        89,   0,   7,  12,   7,  61], dtype=int64)"
      ]
     },
     "execution_count": 76,
     "metadata": {},
     "output_type": "execute_result"
    }
   ],
   "source": [
    "(y_test)"
   ]
  },
  {
   "cell_type": "code",
   "execution_count": 77,
   "metadata": {},
   "outputs": [
    {
     "data": {
      "text/plain": [
       "20.71039617080028"
      ]
     },
     "execution_count": 77,
     "metadata": {},
     "output_type": "execute_result"
    }
   ],
   "source": [
    "from sklearn import metrics\n",
    "metrics.mean_absolute_error(y_test, pr)"
   ]
  },
  {
   "cell_type": "code",
   "execution_count": 78,
   "metadata": {},
   "outputs": [
    {
     "data": {
      "text/plain": [
       "1820.3294652738339"
      ]
     },
     "execution_count": 78,
     "metadata": {},
     "output_type": "execute_result"
    }
   ],
   "source": [
    "metrics.mean_squared_error(y_test, pr)"
   ]
  },
  {
   "cell_type": "code",
   "execution_count": 79,
   "metadata": {},
   "outputs": [
    {
     "data": {
      "text/plain": [
       "42.66531923323478"
      ]
     },
     "execution_count": 79,
     "metadata": {},
     "output_type": "execute_result"
    }
   ],
   "source": [
    "np.sqrt(metrics.mean_squared_error(y_test, pr))"
   ]
  },
  {
   "cell_type": "code",
   "execution_count": 80,
   "metadata": {},
   "outputs": [
    {
     "data": {
      "text/plain": [
       "<matplotlib.collections.PathCollection at 0x18ddcddc288>"
      ]
     },
     "execution_count": 80,
     "metadata": {},
     "output_type": "execute_result"
    },
    {
     "data": {
      "image/png": "[encoded data removed]",
      "text/plain": [
       "<Figure size 432x288 with 1 Axes>"
      ]
     },
     "metadata": {
      "needs_background": "light"
     },
     "output_type": "display_data"
    }
   ],
   "source": [
    "plt.scatter(y_test,pr)"
   ]
  },
  {
   "cell_type": "code",
   "execution_count": 81,
   "metadata": {},
   "outputs": [
    {
     "data": {
      "text/plain": [
       "<matplotlib.axes._subplots.AxesSubplot at 0x18ddddf2488>"
      ]
     },
     "execution_count": 81,
     "metadata": {},
     "output_type": "execute_result"
    },
    {
     "data": {
      "image/png": "[encoded data removed]",
      "text/plain": [
       "<Figure size 432x288 with 1 Axes>"
      ]
     },
     "metadata": {
      "needs_background": "light"
     },
     "output_type": "display_data"
    }
   ],
   "source": [
    "sns.distplot(y_test-pr)"
   ]
  },
  {
   "cell_type": "code",
   "execution_count": 82,
   "metadata": {},
   "outputs": [
    {
     "data": {
      "text/plain": [
       "0.1704183439199468"
      ]
     },
     "execution_count": 82,
     "metadata": {},
     "output_type": "execute_result"
    }
   ],
   "source": [
    "from sklearn.metrics import r2_score\n",
    "R2 = r2_score(y_test, pr)\n",
    "R2"
   ]
  },
  {
   "cell_type": "code",
   "execution_count": null,
   "metadata": {},
   "outputs": [],
   "source": []
  }
 ],
 "metadata": {
  "kernelspec": {
   "display_name": "Python 3",
   "language": "python",
   "name": "python3"
  },
  "language_info": {
   "codemirror_mode": {
    "name": "ipython",
    "version": 3
   },
   "file_extension": ".py",
   "mimetype": "text/x-python",
   "name": "python",
   "nbconvert_exporter": "python",
   "pygments_lexer": "ipython3",
   "version": "3.7.4"
  }
 },
 "nbformat": 4,
 "nbformat_minor": 4
}
