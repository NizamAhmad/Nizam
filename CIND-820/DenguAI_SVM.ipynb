{
 "cells": [
  {
   "cell_type": "code",
   "execution_count": 140,
   "metadata": {},
   "outputs": [],
   "source": [
    "#importing the python libraries for ML\n",
    "import pandas as pd\n",
    "import numpy as np\n",
    "import matplotlib.pyplot as plt\n",
    "import seaborn as sns\n",
    "%matplotlib inline"
   ]
  },
  {
   "cell_type": "code",
   "execution_count": 141,
   "metadata": {},
   "outputs": [],
   "source": [
    "# Reading the training file\n",
    "SVM= pd.read_csv('DengAI_Predicting_Disease_Spread_-_Training_Data_Features.csv')"
   ]
  },
  {
   "cell_type": "code",
   "execution_count": 142,
   "metadata": {},
   "outputs": [
    {
     "data": {
      "text/html": [
       "<div>\n",
       "<style scoped>\n",
       "    .dataframe tbody tr th:only-of-type {\n",
       "        vertical-align: middle;\n",
       "    }\n",
       "\n",
       "    .dataframe tbody tr th {\n",
       "        vertical-align: top;\n",
       "    }\n",
       "\n",
       "    .dataframe thead th {\n",
       "        text-align: right;\n",
       "    }\n",
       "</style>\n",
       "<table border=\"1\" class=\"dataframe\">\n",
       "  <thead>\n",
       "    <tr style=\"text-align: right;\">\n",
       "      <th></th>\n",
       "      <th>city</th>\n",
       "      <th>year</th>\n",
       "      <th>weekofyear</th>\n",
       "      <th>total_cases</th>\n",
       "    </tr>\n",
       "  </thead>\n",
       "  <tbody>\n",
       "    <tr>\n",
       "      <td>0</td>\n",
       "      <td>sj</td>\n",
       "      <td>1990</td>\n",
       "      <td>18</td>\n",
       "      <td>4</td>\n",
       "    </tr>\n",
       "    <tr>\n",
       "      <td>1</td>\n",
       "      <td>sj</td>\n",
       "      <td>1990</td>\n",
       "      <td>19</td>\n",
       "      <td>5</td>\n",
       "    </tr>\n",
       "    <tr>\n",
       "      <td>2</td>\n",
       "      <td>sj</td>\n",
       "      <td>1990</td>\n",
       "      <td>20</td>\n",
       "      <td>4</td>\n",
       "    </tr>\n",
       "    <tr>\n",
       "      <td>3</td>\n",
       "      <td>sj</td>\n",
       "      <td>1990</td>\n",
       "      <td>21</td>\n",
       "      <td>3</td>\n",
       "    </tr>\n",
       "    <tr>\n",
       "      <td>4</td>\n",
       "      <td>sj</td>\n",
       "      <td>1990</td>\n",
       "      <td>22</td>\n",
       "      <td>6</td>\n",
       "    </tr>\n",
       "    <tr>\n",
       "      <td>5</td>\n",
       "      <td>sj</td>\n",
       "      <td>1990</td>\n",
       "      <td>23</td>\n",
       "      <td>2</td>\n",
       "    </tr>\n",
       "    <tr>\n",
       "      <td>6</td>\n",
       "      <td>sj</td>\n",
       "      <td>1990</td>\n",
       "      <td>24</td>\n",
       "      <td>4</td>\n",
       "    </tr>\n",
       "    <tr>\n",
       "      <td>7</td>\n",
       "      <td>sj</td>\n",
       "      <td>1990</td>\n",
       "      <td>25</td>\n",
       "      <td>5</td>\n",
       "    </tr>\n",
       "    <tr>\n",
       "      <td>8</td>\n",
       "      <td>sj</td>\n",
       "      <td>1990</td>\n",
       "      <td>26</td>\n",
       "      <td>10</td>\n",
       "    </tr>\n",
       "    <tr>\n",
       "      <td>9</td>\n",
       "      <td>sj</td>\n",
       "      <td>1990</td>\n",
       "      <td>27</td>\n",
       "      <td>6</td>\n",
       "    </tr>\n",
       "  </tbody>\n",
       "</table>\n",
       "</div>"
      ],
      "text/plain": [
       "  city  year  weekofyear  total_cases\n",
       "0   sj  1990          18            4\n",
       "1   sj  1990          19            5\n",
       "2   sj  1990          20            4\n",
       "3   sj  1990          21            3\n",
       "4   sj  1990          22            6\n",
       "5   sj  1990          23            2\n",
       "6   sj  1990          24            4\n",
       "7   sj  1990          25            5\n",
       "8   sj  1990          26           10\n",
       "9   sj  1990          27            6"
      ]
     },
     "execution_count": 142,
     "metadata": {},
     "output_type": "execute_result"
    }
   ],
   "source": [
    "#Importing Total number of cases from the Total cases file\n",
    "SVM_Cases= pd.read_csv('DengAI_Predicting_Disease_Spread_-_Training_Data_Labels.csv')\n",
    "SVM_Cases.head(10)"
   ]
  },
  {
   "cell_type": "code",
   "execution_count": 143,
   "metadata": {},
   "outputs": [
    {
     "data": {
      "text/plain": [
       "1456"
      ]
     },
     "execution_count": 143,
     "metadata": {},
     "output_type": "execute_result"
    }
   ],
   "source": [
    "len(SVM)"
   ]
  },
  {
   "cell_type": "code",
   "execution_count": 144,
   "metadata": {},
   "outputs": [],
   "source": [
    "#RawData1.count()"
   ]
  },
  {
   "cell_type": "code",
   "execution_count": 145,
   "metadata": {},
   "outputs": [
    {
     "data": {
      "text/plain": [
       "city                                     1456\n",
       "year                                     1456\n",
       "weekofyear                               1456\n",
       "week_start_date                          1456\n",
       "ndvi_ne                                  1262\n",
       "ndvi_nw                                  1404\n",
       "ndvi_se                                  1434\n",
       "ndvi_sw                                  1434\n",
       "precipitation_amt_mm                     1443\n",
       "reanalysis_air_temp_k                    1446\n",
       "reanalysis_avg_temp_k                    1446\n",
       "reanalysis_dew_point_temp_k              1446\n",
       "reanalysis_max_air_temp_k                1446\n",
       "reanalysis_min_air_temp_k                1446\n",
       "reanalysis_precip_amt_kg_per_m2          1446\n",
       "reanalysis_relative_humidity_percent     1446\n",
       "reanalysis_sat_precip_amt_mm             1443\n",
       "reanalysis_specific_humidity_g_per_kg    1446\n",
       "reanalysis_tdtr_k                        1446\n",
       "station_avg_temp_c                       1413\n",
       "station_diur_temp_rng_c                  1413\n",
       "station_max_temp_c                       1436\n",
       "station_min_temp_c                       1442\n",
       "station_precip_mm                        1434\n",
       "Total_Cases                              1456\n",
       "dtype: int64"
      ]
     },
     "execution_count": 145,
     "metadata": {},
     "output_type": "execute_result"
    }
   ],
   "source": [
    "# Importing the Total Number of cases \n",
    "SVM['Total_Cases'] = SVM_Cases['total_cases']\n",
    "SVM.count()"
   ]
  },
  {
   "cell_type": "code",
   "execution_count": 146,
   "metadata": {},
   "outputs": [
    {
     "data": {
      "text/html": [
       "<div>\n",
       "<style scoped>\n",
       "    .dataframe tbody tr th:only-of-type {\n",
       "        vertical-align: middle;\n",
       "    }\n",
       "\n",
       "    .dataframe tbody tr th {\n",
       "        vertical-align: top;\n",
       "    }\n",
       "\n",
       "    .dataframe thead th {\n",
       "        text-align: right;\n",
       "    }\n",
       "</style>\n",
       "<table border=\"1\" class=\"dataframe\">\n",
       "  <thead>\n",
       "    <tr style=\"text-align: right;\">\n",
       "      <th></th>\n",
       "      <th>city</th>\n",
       "      <th>year</th>\n",
       "      <th>weekofyear</th>\n",
       "      <th>week_start_date</th>\n",
       "      <th>ndvi_ne</th>\n",
       "      <th>ndvi_nw</th>\n",
       "      <th>ndvi_se</th>\n",
       "      <th>ndvi_sw</th>\n",
       "      <th>precipitation_amt_mm</th>\n",
       "      <th>reanalysis_air_temp_k</th>\n",
       "      <th>...</th>\n",
       "      <th>reanalysis_relative_humidity_percent</th>\n",
       "      <th>reanalysis_sat_precip_amt_mm</th>\n",
       "      <th>reanalysis_specific_humidity_g_per_kg</th>\n",
       "      <th>reanalysis_tdtr_k</th>\n",
       "      <th>station_avg_temp_c</th>\n",
       "      <th>station_diur_temp_rng_c</th>\n",
       "      <th>station_max_temp_c</th>\n",
       "      <th>station_min_temp_c</th>\n",
       "      <th>station_precip_mm</th>\n",
       "      <th>Total_Cases</th>\n",
       "    </tr>\n",
       "  </thead>\n",
       "  <tbody>\n",
       "    <tr>\n",
       "      <td>0</td>\n",
       "      <td>sj</td>\n",
       "      <td>1990</td>\n",
       "      <td>18</td>\n",
       "      <td>1990-04-30</td>\n",
       "      <td>0.122600</td>\n",
       "      <td>0.103725</td>\n",
       "      <td>0.198483</td>\n",
       "      <td>0.177617</td>\n",
       "      <td>12.42</td>\n",
       "      <td>297.572857</td>\n",
       "      <td>...</td>\n",
       "      <td>73.365714</td>\n",
       "      <td>12.42</td>\n",
       "      <td>14.012857</td>\n",
       "      <td>2.628571</td>\n",
       "      <td>25.442857</td>\n",
       "      <td>6.900000</td>\n",
       "      <td>29.4</td>\n",
       "      <td>20.0</td>\n",
       "      <td>16.0</td>\n",
       "      <td>4</td>\n",
       "    </tr>\n",
       "    <tr>\n",
       "      <td>1</td>\n",
       "      <td>sj</td>\n",
       "      <td>1990</td>\n",
       "      <td>19</td>\n",
       "      <td>1990-05-07</td>\n",
       "      <td>0.169900</td>\n",
       "      <td>0.142175</td>\n",
       "      <td>0.162357</td>\n",
       "      <td>0.155486</td>\n",
       "      <td>22.82</td>\n",
       "      <td>298.211429</td>\n",
       "      <td>...</td>\n",
       "      <td>77.368571</td>\n",
       "      <td>22.82</td>\n",
       "      <td>15.372857</td>\n",
       "      <td>2.371429</td>\n",
       "      <td>26.714286</td>\n",
       "      <td>6.371429</td>\n",
       "      <td>31.7</td>\n",
       "      <td>22.2</td>\n",
       "      <td>8.6</td>\n",
       "      <td>5</td>\n",
       "    </tr>\n",
       "    <tr>\n",
       "      <td>2</td>\n",
       "      <td>sj</td>\n",
       "      <td>1990</td>\n",
       "      <td>20</td>\n",
       "      <td>1990-05-14</td>\n",
       "      <td>0.032250</td>\n",
       "      <td>0.172967</td>\n",
       "      <td>0.157200</td>\n",
       "      <td>0.170843</td>\n",
       "      <td>34.54</td>\n",
       "      <td>298.781429</td>\n",
       "      <td>...</td>\n",
       "      <td>82.052857</td>\n",
       "      <td>34.54</td>\n",
       "      <td>16.848571</td>\n",
       "      <td>2.300000</td>\n",
       "      <td>26.714286</td>\n",
       "      <td>6.485714</td>\n",
       "      <td>32.2</td>\n",
       "      <td>22.8</td>\n",
       "      <td>41.4</td>\n",
       "      <td>4</td>\n",
       "    </tr>\n",
       "    <tr>\n",
       "      <td>3</td>\n",
       "      <td>sj</td>\n",
       "      <td>1990</td>\n",
       "      <td>21</td>\n",
       "      <td>1990-05-21</td>\n",
       "      <td>0.128633</td>\n",
       "      <td>0.245067</td>\n",
       "      <td>0.227557</td>\n",
       "      <td>0.235886</td>\n",
       "      <td>15.36</td>\n",
       "      <td>298.987143</td>\n",
       "      <td>...</td>\n",
       "      <td>80.337143</td>\n",
       "      <td>15.36</td>\n",
       "      <td>16.672857</td>\n",
       "      <td>2.428571</td>\n",
       "      <td>27.471429</td>\n",
       "      <td>6.771429</td>\n",
       "      <td>33.3</td>\n",
       "      <td>23.3</td>\n",
       "      <td>4.0</td>\n",
       "      <td>3</td>\n",
       "    </tr>\n",
       "    <tr>\n",
       "      <td>4</td>\n",
       "      <td>sj</td>\n",
       "      <td>1990</td>\n",
       "      <td>22</td>\n",
       "      <td>1990-05-28</td>\n",
       "      <td>0.196200</td>\n",
       "      <td>0.262200</td>\n",
       "      <td>0.251200</td>\n",
       "      <td>0.247340</td>\n",
       "      <td>7.52</td>\n",
       "      <td>299.518571</td>\n",
       "      <td>...</td>\n",
       "      <td>80.460000</td>\n",
       "      <td>7.52</td>\n",
       "      <td>17.210000</td>\n",
       "      <td>3.014286</td>\n",
       "      <td>28.942857</td>\n",
       "      <td>9.371429</td>\n",
       "      <td>35.0</td>\n",
       "      <td>23.9</td>\n",
       "      <td>5.8</td>\n",
       "      <td>6</td>\n",
       "    </tr>\n",
       "  </tbody>\n",
       "</table>\n",
       "<p>5 rows × 25 columns</p>\n",
       "</div>"
      ],
      "text/plain": [
       "  city  year  weekofyear week_start_date   ndvi_ne   ndvi_nw   ndvi_se  \\\n",
       "0   sj  1990          18      1990-04-30  0.122600  0.103725  0.198483   \n",
       "1   sj  1990          19      1990-05-07  0.169900  0.142175  0.162357   \n",
       "2   sj  1990          20      1990-05-14  0.032250  0.172967  0.157200   \n",
       "3   sj  1990          21      1990-05-21  0.128633  0.245067  0.227557   \n",
       "4   sj  1990          22      1990-05-28  0.196200  0.262200  0.251200   \n",
       "\n",
       "    ndvi_sw  precipitation_amt_mm  reanalysis_air_temp_k  ...  \\\n",
       "0  0.177617                 12.42             297.572857  ...   \n",
       "1  0.155486                 22.82             298.211429  ...   \n",
       "2  0.170843                 34.54             298.781429  ...   \n",
       "3  0.235886                 15.36             298.987143  ...   \n",
       "4  0.247340                  7.52             299.518571  ...   \n",
       "\n",
       "   reanalysis_relative_humidity_percent  reanalysis_sat_precip_amt_mm  \\\n",
       "0                             73.365714                         12.42   \n",
       "1                             77.368571                         22.82   \n",
       "2                             82.052857                         34.54   \n",
       "3                             80.337143                         15.36   \n",
       "4                             80.460000                          7.52   \n",
       "\n",
       "   reanalysis_specific_humidity_g_per_kg  reanalysis_tdtr_k  \\\n",
       "0                              14.012857           2.628571   \n",
       "1                              15.372857           2.371429   \n",
       "2                              16.848571           2.300000   \n",
       "3                              16.672857           2.428571   \n",
       "4                              17.210000           3.014286   \n",
       "\n",
       "   station_avg_temp_c  station_diur_temp_rng_c  station_max_temp_c  \\\n",
       "0           25.442857                 6.900000                29.4   \n",
       "1           26.714286                 6.371429                31.7   \n",
       "2           26.714286                 6.485714                32.2   \n",
       "3           27.471429                 6.771429                33.3   \n",
       "4           28.942857                 9.371429                35.0   \n",
       "\n",
       "   station_min_temp_c  station_precip_mm  Total_Cases  \n",
       "0                20.0               16.0            4  \n",
       "1                22.2                8.6            5  \n",
       "2                22.8               41.4            4  \n",
       "3                23.3                4.0            3  \n",
       "4                23.9                5.8            6  \n",
       "\n",
       "[5 rows x 25 columns]"
      ]
     },
     "execution_count": 146,
     "metadata": {},
     "output_type": "execute_result"
    }
   ],
   "source": [
    "SVM = SVM.fillna(value=SVM.mean())\n",
    "SVM.head(5)"
   ]
  },
  {
   "cell_type": "code",
   "execution_count": 147,
   "metadata": {},
   "outputs": [],
   "source": [
    "#WE are removing the Yean and City Column as they do mot hae any correlation with the rest of the data\n",
    "#x = np.delete(x1,[0,3],1)\n",
    "#x = np.delete(x,0,1)\n",
    "x = SVM[[ 'weekofyear',  'reanalysis_air_temp_k','reanalysis_dew_point_temp_k',\n",
    "          'reanalysis_max_air_temp_k', 'reanalysis_min_air_temp_k',\n",
    "          'reanalysis_relative_humidity_percent', 'reanalysis_sat_precip_amt_mm',\n",
    "          'reanalysis_specific_humidity_g_per_kg', 'station_max_temp_c','station_min_temp_c', ]]"
   ]
  },
  {
   "cell_type": "code",
   "execution_count": 148,
   "metadata": {},
   "outputs": [],
   "source": [
    "# We are assigning the Y values to the Total Cases as we need to train the Data for running the model on TEST dataset\n",
    "y = SVM['Total_Cases'].values"
   ]
  },
  {
   "cell_type": "code",
   "execution_count": 149,
   "metadata": {},
   "outputs": [
    {
     "data": {
      "text/plain": [
       "array([4, 5, 4, ..., 1, 1, 4], dtype=int64)"
      ]
     },
     "execution_count": 149,
     "metadata": {},
     "output_type": "execute_result"
    }
   ],
   "source": [
    "y"
   ]
  },
  {
   "cell_type": "code",
   "execution_count": 150,
   "metadata": {},
   "outputs": [
    {
     "data": {
      "text/plain": [
       "array([  1, 220,  11,  16,   3,  18,  19,   6,  27,   5,   5,   9,   5,\n",
       "         9,   2,   4,  72,   1,   3,  22,  10,   9,   3,  31,   2,   6,\n",
       "        30,  33,  11,   7,   4,   3,   6,   1,  18,   4,   4,  53,   3,\n",
       "        28,   5,  46,   2,  51,  16,  50,   6,  14,  23,   1,   0,   8,\n",
       "        22,  18,   4,  19,   0,   1,  12,   6,  17,  17,  22,  11,  10,\n",
       "        44,  10,   9,  60,  67,   2,  30,  11,  34,   0,  17,  38,   6,\n",
       "        16,  16,   1,   9,  34,  20,  32,   3,  56,  19,  18,  13,   0,\n",
       "       461,  33,  12,   7,  47,  24,   4, 149,   5,  22,  10,  14,   2,\n",
       "        50,   2,  13,   0,  36,   1,  44,   7,  11,   7,   4,   4,   8,\n",
       "        23,  21,  12,  25,  12,   9,  23,  28,   2,   6,  43,  91,   9,\n",
       "         5,   3,   6,  17,   6,   8, 115,  12,   4,   0,  19,  14,   3,\n",
       "        19,   9,   7,  17,  35,  24,   2,  25,  59, 359,   2,  40,   1,\n",
       "         4,  46,   9,   7,  26,  11,   3,   2,  11,  18,   9,   1,  35,\n",
       "         0,  29,  16,   6,  16,  28,  13,  29,   4,  20,   6,   0,  31,\n",
       "       137,  71,  12,  52, 127,  13,   7,   4,  23, 272,  33,  36,   0,\n",
       "       116,  32,  30,  25,  23,   3,  10,  19,  36,  37,  38,   8,  28,\n",
       "        33,  21,   5,  33,   7,   6,   0,  23,   6,  12,   7,   7,  13,\n",
       "         0,  45,   4,  36,   9,  15,   0,   0,  20,   5,   3,   7,   0,\n",
       "         1,  31,  31,  13,  47,  25,   1,  26,  46,  83,   5,   4,   5,\n",
       "         3,   6,   3,  23,   6,   1,   4,  19,  19,   2,  17,   5,   6,\n",
       "        14,  76,   0,  20,  11,   2,   4,   1,  11,  20,  29,  21,  16,\n",
       "         3,   2,  27,   2,  30,  10,   3,  10, 170,  13,  92,   5, 135,\n",
       "        47,   9,  13,   0,  68,   1], dtype=int64)"
      ]
     },
     "execution_count": 150,
     "metadata": {},
     "output_type": "execute_result"
    }
   ],
   "source": [
    "from sklearn.model_selection import train_test_split\n",
    "x_train, x_test, y_train, y_test= train_test_split(x,y, test_size = 0.2, random_state = 100)\n",
    "y_test"
   ]
  },
  {
   "cell_type": "code",
   "execution_count": 151,
   "metadata": {},
   "outputs": [
    {
     "name": "stderr",
     "output_type": "stream",
     "text": [
      "C:\\Users\\niahmad\\AppData\\Local\\Continuum\\anaconda3\\lib\\site-packages\\sklearn\\svm\\base.py:193: FutureWarning: The default value of gamma will change from 'auto' to 'scale' in version 0.22 to account better for unscaled features. Set gamma explicitly to 'auto' or 'scale' to avoid this warning.\n",
      "  \"avoid this warning.\", FutureWarning)\n"
     ]
    },
    {
     "data": {
      "text/plain": [
       "SVC(C=10, cache_size=200, class_weight=None, coef0=0.0,\n",
       "    decision_function_shape='ovr', degree=3, gamma='auto_deprecated',\n",
       "    kernel='rbf', max_iter=-1, probability=False, random_state=None,\n",
       "    shrinking=True, tol=0.001, verbose=False)"
      ]
     },
     "execution_count": 151,
     "metadata": {},
     "output_type": "execute_result"
    }
   ],
   "source": [
    "# Linear Regression\n",
    "from sklearn.svm import SVC\n",
    "SVM = SVC(C=10)\n",
    "SVM.fit(x_train, y_train)"
   ]
  },
  {
   "cell_type": "code",
   "execution_count": 152,
   "metadata": {},
   "outputs": [
    {
     "data": {
      "text/plain": [
       "0.0684931506849315"
      ]
     },
     "execution_count": 152,
     "metadata": {},
     "output_type": "execute_result"
    }
   ],
   "source": [
    "SVM.score(x_test,y_test)"
   ]
  },
  {
   "cell_type": "code",
   "execution_count": 153,
   "metadata": {},
   "outputs": [
    {
     "data": {
      "text/plain": [
       "0.993127147766323"
      ]
     },
     "execution_count": 153,
     "metadata": {},
     "output_type": "execute_result"
    }
   ],
   "source": [
    "SVM.score(x_train,y_train)"
   ]
  },
  {
   "cell_type": "code",
   "execution_count": 154,
   "metadata": {},
   "outputs": [
    {
     "data": {
      "text/plain": [
       "Index(['weekofyear', 'reanalysis_air_temp_k', 'reanalysis_dew_point_temp_k',\n",
       "       'reanalysis_max_air_temp_k', 'reanalysis_min_air_temp_k',\n",
       "       'reanalysis_relative_humidity_percent', 'reanalysis_sat_precip_amt_mm',\n",
       "       'reanalysis_specific_humidity_g_per_kg', 'station_max_temp_c',\n",
       "       'station_min_temp_c'],\n",
       "      dtype='object')"
      ]
     },
     "execution_count": 154,
     "metadata": {},
     "output_type": "execute_result"
    }
   ],
   "source": [
    "x_train.columns"
   ]
  },
  {
   "cell_type": "code",
   "execution_count": 155,
   "metadata": {},
   "outputs": [
    {
     "data": {
      "text/plain": [
       "array([  0,   0,   0,   7,   0,  75,  10,   0,  12,   1,   0,   0,  27,\n",
       "        11,   0,   0,  14,   1,   6,   0,   7,   0,   0,   5,   0,  14,\n",
       "         0,  17,  28,   0,   0,   0,  21,   0,   9,   5,   0,   0,  18,\n",
       "        37,   0,   7,   0,  18,   0,  34,   7,  18,   0,   1,   0,  10,\n",
       "         0,  28,  47,   0,   1,   0,   0,   0,  62,   4,   6,   0,  29,\n",
       "        47,   1,   0,   0,   0,   0,   3,   5,  20,   0,  14,  18,   1,\n",
       "         0,   5,   0,   6,   0,   2,  35,   0,  23,  12,   0,  13,   2,\n",
       "         0,   2,   0,   0,   0,   9,   1,  36,   5,   0,   0,   9,   0,\n",
       "        17,  50,   0,   2,  26,   0,  11,   0,   6,  16,   0,   0,  13,\n",
       "        12,   0,  28,   0,   0,  25,  55,   3,   0,   0,   0,   7,   0,\n",
       "        20,   7,   0,  10,   0,  29,  16,   0,   1,   0,   0,   7,   7,\n",
       "         0,   0,   1,   0,   0,  10,   0,  21,  37,   0,   0,   0,   2,\n",
       "         8,   0,   0,   0,  14,   0,   4,   4,   0,   0,   5,   0,   0,\n",
       "         0,   0,   0,   0,   0,   2,   0,  37,   0,   0,   5,   0,   0,\n",
       "         0,   0,   5,   0,   8,   3,   0,   0,   8,  67,   0,   0,   0,\n",
       "         0,   0,   5,   0,   0,   0,  13,  42,   3,   0,   9,   0,  46,\n",
       "        35,  55,  40,  85,   0,   0,   2,   0,   6,   0,   0,   6,   0,\n",
       "         0,   0,   0,  26,  20,   0,   0,   0,  49,   4,  17,   8,   0,\n",
       "         0,   0,  40,   7,   0,   0,   0,  19,  65,   0,   0,   0,   5,\n",
       "         3,   0,   0,   3,   0,   0,  17,   0,   0,   0,   0,   0,  14,\n",
       "         0,   7,   0,  64,   0,   0,   0,   0,  14,  72,   3,   5,   0,\n",
       "         0,   6,   0, 150,   0,   0,  10,   3,   0,  13,  14,  17,   0,\n",
       "         0,  50,   0,   0,  22,   3], dtype=int64)"
      ]
     },
     "execution_count": 155,
     "metadata": {},
     "output_type": "execute_result"
    }
   ],
   "source": [
    "#predicting Linear Regression\n",
    "y_pred=SVM.predict(x_test)\n",
    "y_pred"
   ]
  },
  {
   "cell_type": "code",
   "execution_count": 156,
   "metadata": {},
   "outputs": [
    {
     "data": {
      "text/plain": [
       "array([  1, 220,  11,  16,   3,  18,  19,   6,  27,   5,   5,   9,   5,\n",
       "         9,   2,   4,  72,   1,   3,  22,  10,   9,   3,  31,   2,   6,\n",
       "        30,  33,  11,   7,   4,   3,   6,   1,  18,   4,   4,  53,   3,\n",
       "        28,   5,  46,   2,  51,  16,  50,   6,  14,  23,   1,   0,   8,\n",
       "        22,  18,   4,  19,   0,   1,  12,   6,  17,  17,  22,  11,  10,\n",
       "        44,  10,   9,  60,  67,   2,  30,  11,  34,   0,  17,  38,   6,\n",
       "        16,  16,   1,   9,  34,  20,  32,   3,  56,  19,  18,  13,   0,\n",
       "       461,  33,  12,   7,  47,  24,   4, 149,   5,  22,  10,  14,   2,\n",
       "        50,   2,  13,   0,  36,   1,  44,   7,  11,   7,   4,   4,   8,\n",
       "        23,  21,  12,  25,  12,   9,  23,  28,   2,   6,  43,  91,   9,\n",
       "         5,   3,   6,  17,   6,   8, 115,  12,   4,   0,  19,  14,   3,\n",
       "        19,   9,   7,  17,  35,  24,   2,  25,  59, 359,   2,  40,   1,\n",
       "         4,  46,   9,   7,  26,  11,   3,   2,  11,  18,   9,   1,  35,\n",
       "         0,  29,  16,   6,  16,  28,  13,  29,   4,  20,   6,   0,  31,\n",
       "       137,  71,  12,  52, 127,  13,   7,   4,  23, 272,  33,  36,   0,\n",
       "       116,  32,  30,  25,  23,   3,  10,  19,  36,  37,  38,   8,  28,\n",
       "        33,  21,   5,  33,   7,   6,   0,  23,   6,  12,   7,   7,  13,\n",
       "         0,  45,   4,  36,   9,  15,   0,   0,  20,   5,   3,   7,   0,\n",
       "         1,  31,  31,  13,  47,  25,   1,  26,  46,  83,   5,   4,   5,\n",
       "         3,   6,   3,  23,   6,   1,   4,  19,  19,   2,  17,   5,   6,\n",
       "        14,  76,   0,  20,  11,   2,   4,   1,  11,  20,  29,  21,  16,\n",
       "         3,   2,  27,   2,  30,  10,   3,  10, 170,  13,  92,   5, 135,\n",
       "        47,   9,  13,   0,  68,   1], dtype=int64)"
      ]
     },
     "execution_count": 156,
     "metadata": {},
     "output_type": "execute_result"
    }
   ],
   "source": [
    "#Linear Regression\n",
    "(y_test)"
   ]
  },
  {
   "cell_type": "code",
   "execution_count": 157,
   "metadata": {},
   "outputs": [],
   "source": [
    "from sklearn import metrics"
   ]
  },
  {
   "cell_type": "code",
   "execution_count": 158,
   "metadata": {},
   "outputs": [
    {
     "data": {
      "text/plain": [
       "22.21917808219178"
      ]
     },
     "execution_count": 158,
     "metadata": {},
     "output_type": "execute_result"
    }
   ],
   "source": [
    "metrics.mean_absolute_error(y_test, y_pred)"
   ]
  },
  {
   "cell_type": "code",
   "execution_count": 159,
   "metadata": {},
   "outputs": [
    {
     "data": {
      "text/plain": [
       "2421.9109589041095"
      ]
     },
     "execution_count": 159,
     "metadata": {},
     "output_type": "execute_result"
    }
   ],
   "source": [
    "metrics.mean_squared_error(y_test, y_pred)"
   ]
  },
  {
   "cell_type": "code",
   "execution_count": 160,
   "metadata": {},
   "outputs": [
    {
     "data": {
      "text/plain": [
       "49.212914554048815"
      ]
     },
     "execution_count": 160,
     "metadata": {},
     "output_type": "execute_result"
    }
   ],
   "source": [
    "np.sqrt(metrics.mean_squared_error(y_test, y_pred))"
   ]
  },
  {
   "cell_type": "code",
   "execution_count": 161,
   "metadata": {},
   "outputs": [],
   "source": [
    "from sklearn.model_selection import train_test_split"
   ]
  },
  {
   "cell_type": "code",
   "execution_count": 162,
   "metadata": {},
   "outputs": [],
   "source": [
    "from sklearn.ensemble import RandomForestRegressor "
   ]
  },
  {
   "cell_type": "code",
   "execution_count": 163,
   "metadata": {},
   "outputs": [],
   "source": [
    "regressor = RandomForestRegressor(n_estimators=300)"
   ]
  },
  {
   "cell_type": "code",
   "execution_count": 164,
   "metadata": {},
   "outputs": [
    {
     "data": {
      "text/plain": [
       "-0.19806059076944726"
      ]
     },
     "execution_count": 164,
     "metadata": {},
     "output_type": "execute_result"
    }
   ],
   "source": [
    "from sklearn.metrics import r2_score\n",
    "R2 = r2_score(y_test, y_pred)\n",
    "R2"
   ]
  },
  {
   "cell_type": "code",
   "execution_count": 165,
   "metadata": {},
   "outputs": [
    {
     "data": {
      "text/plain": [
       "-0.19806059076944726"
      ]
     },
     "execution_count": 165,
     "metadata": {},
     "output_type": "execute_result"
    }
   ],
   "source": [
    "from sklearn.metrics import r2_score\n",
    "R2 = r2_score(y_test, y_pred)\n",
    "R2"
   ]
  },
  {
   "cell_type": "code",
   "execution_count": null,
   "metadata": {},
   "outputs": [],
   "source": []
  },
  {
   "cell_type": "code",
   "execution_count": null,
   "metadata": {},
   "outputs": [],
   "source": []
  }
 ],
 "metadata": {
  "kernelspec": {
   "display_name": "Python 3",
   "language": "python",
   "name": "python3"
  },
  "language_info": {
   "codemirror_mode": {
    "name": "ipython",
    "version": 3
   },
   "file_extension": ".py",
   "mimetype": "text/x-python",
   "name": "python",
   "nbconvert_exporter": "python",
   "pygments_lexer": "ipython3",
   "version": "3.7.4"
  }
 },
 "nbformat": 4,
 "nbformat_minor": 4
}
