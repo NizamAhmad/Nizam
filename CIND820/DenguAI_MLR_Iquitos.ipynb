{
 "cells": [
  {
   "cell_type": "code",
   "execution_count": 106,
   "metadata": {},
   "outputs": [],
   "source": [
    "import pandas as pd\n",
    "import numpy as np\n",
    "import matplotlib.pyplot as plt\n",
    "import seaborn as sns\n",
    "%matplotlib inline"
   ]
  },
  {
   "cell_type": "code",
   "execution_count": 107,
   "metadata": {},
   "outputs": [],
   "source": [
    "# Reading the training file\n",
    "IRD_MLR= pd.read_csv('DengAI_Predicting_Disease_Spread_-_Training_Data_Features.csv')"
   ]
  },
  {
   "cell_type": "code",
   "execution_count": 108,
   "metadata": {},
   "outputs": [
    {
     "data": {
      "text/html": [
       "<div>\n",
       "<style scoped>\n",
       "    .dataframe tbody tr th:only-of-type {\n",
       "        vertical-align: middle;\n",
       "    }\n",
       "\n",
       "    .dataframe tbody tr th {\n",
       "        vertical-align: top;\n",
       "    }\n",
       "\n",
       "    .dataframe thead th {\n",
       "        text-align: right;\n",
       "    }\n",
       "</style>\n",
       "<table border=\"1\" class=\"dataframe\">\n",
       "  <thead>\n",
       "    <tr style=\"text-align: right;\">\n",
       "      <th></th>\n",
       "      <th>city</th>\n",
       "      <th>year</th>\n",
       "      <th>weekofyear</th>\n",
       "      <th>total_cases</th>\n",
       "    </tr>\n",
       "  </thead>\n",
       "  <tbody>\n",
       "    <tr>\n",
       "      <td>0</td>\n",
       "      <td>sj</td>\n",
       "      <td>1990</td>\n",
       "      <td>18</td>\n",
       "      <td>4</td>\n",
       "    </tr>\n",
       "    <tr>\n",
       "      <td>1</td>\n",
       "      <td>sj</td>\n",
       "      <td>1990</td>\n",
       "      <td>19</td>\n",
       "      <td>5</td>\n",
       "    </tr>\n",
       "    <tr>\n",
       "      <td>2</td>\n",
       "      <td>sj</td>\n",
       "      <td>1990</td>\n",
       "      <td>20</td>\n",
       "      <td>4</td>\n",
       "    </tr>\n",
       "    <tr>\n",
       "      <td>3</td>\n",
       "      <td>sj</td>\n",
       "      <td>1990</td>\n",
       "      <td>21</td>\n",
       "      <td>3</td>\n",
       "    </tr>\n",
       "    <tr>\n",
       "      <td>4</td>\n",
       "      <td>sj</td>\n",
       "      <td>1990</td>\n",
       "      <td>22</td>\n",
       "      <td>6</td>\n",
       "    </tr>\n",
       "    <tr>\n",
       "      <td>5</td>\n",
       "      <td>sj</td>\n",
       "      <td>1990</td>\n",
       "      <td>23</td>\n",
       "      <td>2</td>\n",
       "    </tr>\n",
       "    <tr>\n",
       "      <td>6</td>\n",
       "      <td>sj</td>\n",
       "      <td>1990</td>\n",
       "      <td>24</td>\n",
       "      <td>4</td>\n",
       "    </tr>\n",
       "    <tr>\n",
       "      <td>7</td>\n",
       "      <td>sj</td>\n",
       "      <td>1990</td>\n",
       "      <td>25</td>\n",
       "      <td>5</td>\n",
       "    </tr>\n",
       "    <tr>\n",
       "      <td>8</td>\n",
       "      <td>sj</td>\n",
       "      <td>1990</td>\n",
       "      <td>26</td>\n",
       "      <td>10</td>\n",
       "    </tr>\n",
       "    <tr>\n",
       "      <td>9</td>\n",
       "      <td>sj</td>\n",
       "      <td>1990</td>\n",
       "      <td>27</td>\n",
       "      <td>6</td>\n",
       "    </tr>\n",
       "  </tbody>\n",
       "</table>\n",
       "</div>"
      ],
      "text/plain": [
       "  city  year  weekofyear  total_cases\n",
       "0   sj  1990          18            4\n",
       "1   sj  1990          19            5\n",
       "2   sj  1990          20            4\n",
       "3   sj  1990          21            3\n",
       "4   sj  1990          22            6\n",
       "5   sj  1990          23            2\n",
       "6   sj  1990          24            4\n",
       "7   sj  1990          25            5\n",
       "8   sj  1990          26           10\n",
       "9   sj  1990          27            6"
      ]
     },
     "execution_count": 108,
     "metadata": {},
     "output_type": "execute_result"
    }
   ],
   "source": [
    "#Importing Total number of cases from the Total cases file\n",
    "Idn_cases= pd.read_csv('DengAI_Predicting_Disease_Spread_-_Training_Data_Labels.csv')\n",
    "Idn_cases.head(10)"
   ]
  },
  {
   "cell_type": "code",
   "execution_count": 109,
   "metadata": {},
   "outputs": [
    {
     "data": {
      "text/html": [
       "<div>\n",
       "<style scoped>\n",
       "    .dataframe tbody tr th:only-of-type {\n",
       "        vertical-align: middle;\n",
       "    }\n",
       "\n",
       "    .dataframe tbody tr th {\n",
       "        vertical-align: top;\n",
       "    }\n",
       "\n",
       "    .dataframe thead th {\n",
       "        text-align: right;\n",
       "    }\n",
       "</style>\n",
       "<table border=\"1\" class=\"dataframe\">\n",
       "  <thead>\n",
       "    <tr style=\"text-align: right;\">\n",
       "      <th></th>\n",
       "      <th>year</th>\n",
       "      <th>weekofyear</th>\n",
       "      <th>ndvi_ne</th>\n",
       "      <th>ndvi_nw</th>\n",
       "      <th>ndvi_se</th>\n",
       "      <th>ndvi_sw</th>\n",
       "      <th>precipitation_amt_mm</th>\n",
       "      <th>reanalysis_air_temp_k</th>\n",
       "      <th>reanalysis_avg_temp_k</th>\n",
       "      <th>reanalysis_dew_point_temp_k</th>\n",
       "      <th>...</th>\n",
       "      <th>reanalysis_precip_amt_kg_per_m2</th>\n",
       "      <th>reanalysis_relative_humidity_percent</th>\n",
       "      <th>reanalysis_sat_precip_amt_mm</th>\n",
       "      <th>reanalysis_specific_humidity_g_per_kg</th>\n",
       "      <th>reanalysis_tdtr_k</th>\n",
       "      <th>station_avg_temp_c</th>\n",
       "      <th>station_diur_temp_rng_c</th>\n",
       "      <th>station_max_temp_c</th>\n",
       "      <th>station_min_temp_c</th>\n",
       "      <th>station_precip_mm</th>\n",
       "    </tr>\n",
       "  </thead>\n",
       "  <tbody>\n",
       "    <tr>\n",
       "      <td>count</td>\n",
       "      <td>1456.000000</td>\n",
       "      <td>1456.000000</td>\n",
       "      <td>1262.000000</td>\n",
       "      <td>1404.000000</td>\n",
       "      <td>1434.000000</td>\n",
       "      <td>1434.000000</td>\n",
       "      <td>1443.000000</td>\n",
       "      <td>1446.000000</td>\n",
       "      <td>1446.000000</td>\n",
       "      <td>1446.000000</td>\n",
       "      <td>...</td>\n",
       "      <td>1446.000000</td>\n",
       "      <td>1446.000000</td>\n",
       "      <td>1443.000000</td>\n",
       "      <td>1446.000000</td>\n",
       "      <td>1446.000000</td>\n",
       "      <td>1413.000000</td>\n",
       "      <td>1413.000000</td>\n",
       "      <td>1436.000000</td>\n",
       "      <td>1442.000000</td>\n",
       "      <td>1434.000000</td>\n",
       "    </tr>\n",
       "    <tr>\n",
       "      <td>mean</td>\n",
       "      <td>2001.031593</td>\n",
       "      <td>26.503434</td>\n",
       "      <td>0.142294</td>\n",
       "      <td>0.130553</td>\n",
       "      <td>0.203783</td>\n",
       "      <td>0.202305</td>\n",
       "      <td>45.760388</td>\n",
       "      <td>298.701852</td>\n",
       "      <td>299.225578</td>\n",
       "      <td>295.246356</td>\n",
       "      <td>...</td>\n",
       "      <td>40.151819</td>\n",
       "      <td>82.161959</td>\n",
       "      <td>45.760388</td>\n",
       "      <td>16.746427</td>\n",
       "      <td>4.903754</td>\n",
       "      <td>27.185783</td>\n",
       "      <td>8.059328</td>\n",
       "      <td>32.452437</td>\n",
       "      <td>22.102150</td>\n",
       "      <td>39.326360</td>\n",
       "    </tr>\n",
       "    <tr>\n",
       "      <td>std</td>\n",
       "      <td>5.408314</td>\n",
       "      <td>15.019437</td>\n",
       "      <td>0.140531</td>\n",
       "      <td>0.119999</td>\n",
       "      <td>0.073860</td>\n",
       "      <td>0.083903</td>\n",
       "      <td>43.715537</td>\n",
       "      <td>1.362420</td>\n",
       "      <td>1.261715</td>\n",
       "      <td>1.527810</td>\n",
       "      <td>...</td>\n",
       "      <td>43.434399</td>\n",
       "      <td>7.153897</td>\n",
       "      <td>43.715537</td>\n",
       "      <td>1.542494</td>\n",
       "      <td>3.546445</td>\n",
       "      <td>1.292347</td>\n",
       "      <td>2.128568</td>\n",
       "      <td>1.959318</td>\n",
       "      <td>1.574066</td>\n",
       "      <td>47.455314</td>\n",
       "    </tr>\n",
       "    <tr>\n",
       "      <td>min</td>\n",
       "      <td>1990.000000</td>\n",
       "      <td>1.000000</td>\n",
       "      <td>-0.406250</td>\n",
       "      <td>-0.456100</td>\n",
       "      <td>-0.015533</td>\n",
       "      <td>-0.063457</td>\n",
       "      <td>0.000000</td>\n",
       "      <td>294.635714</td>\n",
       "      <td>294.892857</td>\n",
       "      <td>289.642857</td>\n",
       "      <td>...</td>\n",
       "      <td>0.000000</td>\n",
       "      <td>57.787143</td>\n",
       "      <td>0.000000</td>\n",
       "      <td>11.715714</td>\n",
       "      <td>1.357143</td>\n",
       "      <td>21.400000</td>\n",
       "      <td>4.528571</td>\n",
       "      <td>26.700000</td>\n",
       "      <td>14.700000</td>\n",
       "      <td>0.000000</td>\n",
       "    </tr>\n",
       "    <tr>\n",
       "      <td>25%</td>\n",
       "      <td>1997.000000</td>\n",
       "      <td>13.750000</td>\n",
       "      <td>0.044950</td>\n",
       "      <td>0.049217</td>\n",
       "      <td>0.155087</td>\n",
       "      <td>0.144209</td>\n",
       "      <td>9.800000</td>\n",
       "      <td>297.658929</td>\n",
       "      <td>298.257143</td>\n",
       "      <td>294.118929</td>\n",
       "      <td>...</td>\n",
       "      <td>13.055000</td>\n",
       "      <td>77.177143</td>\n",
       "      <td>9.800000</td>\n",
       "      <td>15.557143</td>\n",
       "      <td>2.328571</td>\n",
       "      <td>26.300000</td>\n",
       "      <td>6.514286</td>\n",
       "      <td>31.100000</td>\n",
       "      <td>21.100000</td>\n",
       "      <td>8.700000</td>\n",
       "    </tr>\n",
       "    <tr>\n",
       "      <td>50%</td>\n",
       "      <td>2002.000000</td>\n",
       "      <td>26.500000</td>\n",
       "      <td>0.128817</td>\n",
       "      <td>0.121429</td>\n",
       "      <td>0.196050</td>\n",
       "      <td>0.189450</td>\n",
       "      <td>38.340000</td>\n",
       "      <td>298.646429</td>\n",
       "      <td>299.289286</td>\n",
       "      <td>295.640714</td>\n",
       "      <td>...</td>\n",
       "      <td>27.245000</td>\n",
       "      <td>80.301429</td>\n",
       "      <td>38.340000</td>\n",
       "      <td>17.087143</td>\n",
       "      <td>2.857143</td>\n",
       "      <td>27.414286</td>\n",
       "      <td>7.300000</td>\n",
       "      <td>32.800000</td>\n",
       "      <td>22.200000</td>\n",
       "      <td>23.850000</td>\n",
       "    </tr>\n",
       "    <tr>\n",
       "      <td>75%</td>\n",
       "      <td>2005.000000</td>\n",
       "      <td>39.250000</td>\n",
       "      <td>0.248483</td>\n",
       "      <td>0.216600</td>\n",
       "      <td>0.248846</td>\n",
       "      <td>0.246982</td>\n",
       "      <td>70.235000</td>\n",
       "      <td>299.833571</td>\n",
       "      <td>300.207143</td>\n",
       "      <td>296.460000</td>\n",
       "      <td>...</td>\n",
       "      <td>52.200000</td>\n",
       "      <td>86.357857</td>\n",
       "      <td>70.235000</td>\n",
       "      <td>17.978214</td>\n",
       "      <td>7.625000</td>\n",
       "      <td>28.157143</td>\n",
       "      <td>9.566667</td>\n",
       "      <td>33.900000</td>\n",
       "      <td>23.300000</td>\n",
       "      <td>53.900000</td>\n",
       "    </tr>\n",
       "    <tr>\n",
       "      <td>max</td>\n",
       "      <td>2010.000000</td>\n",
       "      <td>53.000000</td>\n",
       "      <td>0.508357</td>\n",
       "      <td>0.454429</td>\n",
       "      <td>0.538314</td>\n",
       "      <td>0.546017</td>\n",
       "      <td>390.600000</td>\n",
       "      <td>302.200000</td>\n",
       "      <td>302.928571</td>\n",
       "      <td>298.450000</td>\n",
       "      <td>...</td>\n",
       "      <td>570.500000</td>\n",
       "      <td>98.610000</td>\n",
       "      <td>390.600000</td>\n",
       "      <td>20.461429</td>\n",
       "      <td>16.028571</td>\n",
       "      <td>30.800000</td>\n",
       "      <td>15.800000</td>\n",
       "      <td>42.200000</td>\n",
       "      <td>25.600000</td>\n",
       "      <td>543.300000</td>\n",
       "    </tr>\n",
       "  </tbody>\n",
       "</table>\n",
       "<p>8 rows × 22 columns</p>\n",
       "</div>"
      ],
      "text/plain": [
       "              year   weekofyear      ndvi_ne      ndvi_nw      ndvi_se  \\\n",
       "count  1456.000000  1456.000000  1262.000000  1404.000000  1434.000000   \n",
       "mean   2001.031593    26.503434     0.142294     0.130553     0.203783   \n",
       "std       5.408314    15.019437     0.140531     0.119999     0.073860   \n",
       "min    1990.000000     1.000000    -0.406250    -0.456100    -0.015533   \n",
       "25%    1997.000000    13.750000     0.044950     0.049217     0.155087   \n",
       "50%    2002.000000    26.500000     0.128817     0.121429     0.196050   \n",
       "75%    2005.000000    39.250000     0.248483     0.216600     0.248846   \n",
       "max    2010.000000    53.000000     0.508357     0.454429     0.538314   \n",
       "\n",
       "           ndvi_sw  precipitation_amt_mm  reanalysis_air_temp_k  \\\n",
       "count  1434.000000           1443.000000            1446.000000   \n",
       "mean      0.202305             45.760388             298.701852   \n",
       "std       0.083903             43.715537               1.362420   \n",
       "min      -0.063457              0.000000             294.635714   \n",
       "25%       0.144209              9.800000             297.658929   \n",
       "50%       0.189450             38.340000             298.646429   \n",
       "75%       0.246982             70.235000             299.833571   \n",
       "max       0.546017            390.600000             302.200000   \n",
       "\n",
       "       reanalysis_avg_temp_k  reanalysis_dew_point_temp_k  ...  \\\n",
       "count            1446.000000                  1446.000000  ...   \n",
       "mean              299.225578                   295.246356  ...   \n",
       "std                 1.261715                     1.527810  ...   \n",
       "min               294.892857                   289.642857  ...   \n",
       "25%               298.257143                   294.118929  ...   \n",
       "50%               299.289286                   295.640714  ...   \n",
       "75%               300.207143                   296.460000  ...   \n",
       "max               302.928571                   298.450000  ...   \n",
       "\n",
       "       reanalysis_precip_amt_kg_per_m2  reanalysis_relative_humidity_percent  \\\n",
       "count                      1446.000000                           1446.000000   \n",
       "mean                         40.151819                             82.161959   \n",
       "std                          43.434399                              7.153897   \n",
       "min                           0.000000                             57.787143   \n",
       "25%                          13.055000                             77.177143   \n",
       "50%                          27.245000                             80.301429   \n",
       "75%                          52.200000                             86.357857   \n",
       "max                         570.500000                             98.610000   \n",
       "\n",
       "       reanalysis_sat_precip_amt_mm  reanalysis_specific_humidity_g_per_kg  \\\n",
       "count                   1443.000000                            1446.000000   \n",
       "mean                      45.760388                              16.746427   \n",
       "std                       43.715537                               1.542494   \n",
       "min                        0.000000                              11.715714   \n",
       "25%                        9.800000                              15.557143   \n",
       "50%                       38.340000                              17.087143   \n",
       "75%                       70.235000                              17.978214   \n",
       "max                      390.600000                              20.461429   \n",
       "\n",
       "       reanalysis_tdtr_k  station_avg_temp_c  station_diur_temp_rng_c  \\\n",
       "count        1446.000000         1413.000000              1413.000000   \n",
       "mean            4.903754           27.185783                 8.059328   \n",
       "std             3.546445            1.292347                 2.128568   \n",
       "min             1.357143           21.400000                 4.528571   \n",
       "25%             2.328571           26.300000                 6.514286   \n",
       "50%             2.857143           27.414286                 7.300000   \n",
       "75%             7.625000           28.157143                 9.566667   \n",
       "max            16.028571           30.800000                15.800000   \n",
       "\n",
       "       station_max_temp_c  station_min_temp_c  station_precip_mm  \n",
       "count         1436.000000         1442.000000        1434.000000  \n",
       "mean            32.452437           22.102150          39.326360  \n",
       "std              1.959318            1.574066          47.455314  \n",
       "min             26.700000           14.700000           0.000000  \n",
       "25%             31.100000           21.100000           8.700000  \n",
       "50%             32.800000           22.200000          23.850000  \n",
       "75%             33.900000           23.300000          53.900000  \n",
       "max             42.200000           25.600000         543.300000  \n",
       "\n",
       "[8 rows x 22 columns]"
      ]
     },
     "execution_count": 109,
     "metadata": {},
     "output_type": "execute_result"
    }
   ],
   "source": [
    "#looking mean, count, Standard deviation and other details\n",
    "IRD_MLR.describe()"
   ]
  },
  {
   "cell_type": "code",
   "execution_count": 110,
   "metadata": {},
   "outputs": [
    {
     "name": "stdout",
     "output_type": "stream",
     "text": [
      "<class 'pandas.core.frame.DataFrame'>\n",
      "RangeIndex: 1456 entries, 0 to 1455\n",
      "Data columns (total 24 columns):\n",
      "city                                     1456 non-null object\n",
      "year                                     1456 non-null int64\n",
      "weekofyear                               1456 non-null int64\n",
      "week_start_date                          1456 non-null object\n",
      "ndvi_ne                                  1262 non-null float64\n",
      "ndvi_nw                                  1404 non-null float64\n",
      "ndvi_se                                  1434 non-null float64\n",
      "ndvi_sw                                  1434 non-null float64\n",
      "precipitation_amt_mm                     1443 non-null float64\n",
      "reanalysis_air_temp_k                    1446 non-null float64\n",
      "reanalysis_avg_temp_k                    1446 non-null float64\n",
      "reanalysis_dew_point_temp_k              1446 non-null float64\n",
      "reanalysis_max_air_temp_k                1446 non-null float64\n",
      "reanalysis_min_air_temp_k                1446 non-null float64\n",
      "reanalysis_precip_amt_kg_per_m2          1446 non-null float64\n",
      "reanalysis_relative_humidity_percent     1446 non-null float64\n",
      "reanalysis_sat_precip_amt_mm             1443 non-null float64\n",
      "reanalysis_specific_humidity_g_per_kg    1446 non-null float64\n",
      "reanalysis_tdtr_k                        1446 non-null float64\n",
      "station_avg_temp_c                       1413 non-null float64\n",
      "station_diur_temp_rng_c                  1413 non-null float64\n",
      "station_max_temp_c                       1436 non-null float64\n",
      "station_min_temp_c                       1442 non-null float64\n",
      "station_precip_mm                        1434 non-null float64\n",
      "dtypes: float64(20), int64(2), object(2)\n",
      "memory usage: 273.1+ KB\n"
     ]
    }
   ],
   "source": [
    "IRD_MLR.info()"
   ]
  },
  {
   "cell_type": "code",
   "execution_count": 111,
   "metadata": {},
   "outputs": [
    {
     "data": {
      "text/html": [
       "<div>\n",
       "<style scoped>\n",
       "    .dataframe tbody tr th:only-of-type {\n",
       "        vertical-align: middle;\n",
       "    }\n",
       "\n",
       "    .dataframe tbody tr th {\n",
       "        vertical-align: top;\n",
       "    }\n",
       "\n",
       "    .dataframe thead th {\n",
       "        text-align: right;\n",
       "    }\n",
       "</style>\n",
       "<table border=\"1\" class=\"dataframe\">\n",
       "  <thead>\n",
       "    <tr style=\"text-align: right;\">\n",
       "      <th></th>\n",
       "      <th>city</th>\n",
       "      <th>year</th>\n",
       "      <th>weekofyear</th>\n",
       "      <th>week_start_date</th>\n",
       "      <th>ndvi_ne</th>\n",
       "      <th>ndvi_nw</th>\n",
       "      <th>ndvi_se</th>\n",
       "      <th>ndvi_sw</th>\n",
       "      <th>precipitation_amt_mm</th>\n",
       "      <th>reanalysis_air_temp_k</th>\n",
       "      <th>...</th>\n",
       "      <th>reanalysis_relative_humidity_percent</th>\n",
       "      <th>reanalysis_sat_precip_amt_mm</th>\n",
       "      <th>reanalysis_specific_humidity_g_per_kg</th>\n",
       "      <th>reanalysis_tdtr_k</th>\n",
       "      <th>station_avg_temp_c</th>\n",
       "      <th>station_diur_temp_rng_c</th>\n",
       "      <th>station_max_temp_c</th>\n",
       "      <th>station_min_temp_c</th>\n",
       "      <th>station_precip_mm</th>\n",
       "      <th>Total_Cases</th>\n",
       "    </tr>\n",
       "  </thead>\n",
       "  <tbody>\n",
       "    <tr>\n",
       "      <td>0</td>\n",
       "      <td>sj</td>\n",
       "      <td>1990</td>\n",
       "      <td>18</td>\n",
       "      <td>1990-04-30</td>\n",
       "      <td>0.122600</td>\n",
       "      <td>0.103725</td>\n",
       "      <td>0.198483</td>\n",
       "      <td>0.177617</td>\n",
       "      <td>12.42</td>\n",
       "      <td>297.572857</td>\n",
       "      <td>...</td>\n",
       "      <td>73.365714</td>\n",
       "      <td>12.42</td>\n",
       "      <td>14.012857</td>\n",
       "      <td>2.628571</td>\n",
       "      <td>25.442857</td>\n",
       "      <td>6.900000</td>\n",
       "      <td>29.4</td>\n",
       "      <td>20.0</td>\n",
       "      <td>16.0</td>\n",
       "      <td>4</td>\n",
       "    </tr>\n",
       "    <tr>\n",
       "      <td>1</td>\n",
       "      <td>sj</td>\n",
       "      <td>1990</td>\n",
       "      <td>19</td>\n",
       "      <td>1990-05-07</td>\n",
       "      <td>0.169900</td>\n",
       "      <td>0.142175</td>\n",
       "      <td>0.162357</td>\n",
       "      <td>0.155486</td>\n",
       "      <td>22.82</td>\n",
       "      <td>298.211429</td>\n",
       "      <td>...</td>\n",
       "      <td>77.368571</td>\n",
       "      <td>22.82</td>\n",
       "      <td>15.372857</td>\n",
       "      <td>2.371429</td>\n",
       "      <td>26.714286</td>\n",
       "      <td>6.371429</td>\n",
       "      <td>31.7</td>\n",
       "      <td>22.2</td>\n",
       "      <td>8.6</td>\n",
       "      <td>5</td>\n",
       "    </tr>\n",
       "    <tr>\n",
       "      <td>2</td>\n",
       "      <td>sj</td>\n",
       "      <td>1990</td>\n",
       "      <td>20</td>\n",
       "      <td>1990-05-14</td>\n",
       "      <td>0.032250</td>\n",
       "      <td>0.172967</td>\n",
       "      <td>0.157200</td>\n",
       "      <td>0.170843</td>\n",
       "      <td>34.54</td>\n",
       "      <td>298.781429</td>\n",
       "      <td>...</td>\n",
       "      <td>82.052857</td>\n",
       "      <td>34.54</td>\n",
       "      <td>16.848571</td>\n",
       "      <td>2.300000</td>\n",
       "      <td>26.714286</td>\n",
       "      <td>6.485714</td>\n",
       "      <td>32.2</td>\n",
       "      <td>22.8</td>\n",
       "      <td>41.4</td>\n",
       "      <td>4</td>\n",
       "    </tr>\n",
       "    <tr>\n",
       "      <td>3</td>\n",
       "      <td>sj</td>\n",
       "      <td>1990</td>\n",
       "      <td>21</td>\n",
       "      <td>1990-05-21</td>\n",
       "      <td>0.128633</td>\n",
       "      <td>0.245067</td>\n",
       "      <td>0.227557</td>\n",
       "      <td>0.235886</td>\n",
       "      <td>15.36</td>\n",
       "      <td>298.987143</td>\n",
       "      <td>...</td>\n",
       "      <td>80.337143</td>\n",
       "      <td>15.36</td>\n",
       "      <td>16.672857</td>\n",
       "      <td>2.428571</td>\n",
       "      <td>27.471429</td>\n",
       "      <td>6.771429</td>\n",
       "      <td>33.3</td>\n",
       "      <td>23.3</td>\n",
       "      <td>4.0</td>\n",
       "      <td>3</td>\n",
       "    </tr>\n",
       "    <tr>\n",
       "      <td>4</td>\n",
       "      <td>sj</td>\n",
       "      <td>1990</td>\n",
       "      <td>22</td>\n",
       "      <td>1990-05-28</td>\n",
       "      <td>0.196200</td>\n",
       "      <td>0.262200</td>\n",
       "      <td>0.251200</td>\n",
       "      <td>0.247340</td>\n",
       "      <td>7.52</td>\n",
       "      <td>299.518571</td>\n",
       "      <td>...</td>\n",
       "      <td>80.460000</td>\n",
       "      <td>7.52</td>\n",
       "      <td>17.210000</td>\n",
       "      <td>3.014286</td>\n",
       "      <td>28.942857</td>\n",
       "      <td>9.371429</td>\n",
       "      <td>35.0</td>\n",
       "      <td>23.9</td>\n",
       "      <td>5.8</td>\n",
       "      <td>6</td>\n",
       "    </tr>\n",
       "    <tr>\n",
       "      <td>5</td>\n",
       "      <td>sj</td>\n",
       "      <td>1990</td>\n",
       "      <td>23</td>\n",
       "      <td>1990-06-04</td>\n",
       "      <td>NaN</td>\n",
       "      <td>0.174850</td>\n",
       "      <td>0.254314</td>\n",
       "      <td>0.181743</td>\n",
       "      <td>9.58</td>\n",
       "      <td>299.630000</td>\n",
       "      <td>...</td>\n",
       "      <td>79.891429</td>\n",
       "      <td>9.58</td>\n",
       "      <td>17.212857</td>\n",
       "      <td>2.100000</td>\n",
       "      <td>28.114286</td>\n",
       "      <td>6.942857</td>\n",
       "      <td>34.4</td>\n",
       "      <td>23.9</td>\n",
       "      <td>39.1</td>\n",
       "      <td>2</td>\n",
       "    </tr>\n",
       "    <tr>\n",
       "      <td>6</td>\n",
       "      <td>sj</td>\n",
       "      <td>1990</td>\n",
       "      <td>24</td>\n",
       "      <td>1990-06-11</td>\n",
       "      <td>0.112900</td>\n",
       "      <td>0.092800</td>\n",
       "      <td>0.205071</td>\n",
       "      <td>0.210271</td>\n",
       "      <td>3.48</td>\n",
       "      <td>299.207143</td>\n",
       "      <td>...</td>\n",
       "      <td>82.000000</td>\n",
       "      <td>3.48</td>\n",
       "      <td>17.234286</td>\n",
       "      <td>2.042857</td>\n",
       "      <td>27.414286</td>\n",
       "      <td>6.771429</td>\n",
       "      <td>32.2</td>\n",
       "      <td>23.3</td>\n",
       "      <td>29.7</td>\n",
       "      <td>4</td>\n",
       "    </tr>\n",
       "    <tr>\n",
       "      <td>7</td>\n",
       "      <td>sj</td>\n",
       "      <td>1990</td>\n",
       "      <td>25</td>\n",
       "      <td>1990-06-18</td>\n",
       "      <td>0.072500</td>\n",
       "      <td>0.072500</td>\n",
       "      <td>0.151471</td>\n",
       "      <td>0.133029</td>\n",
       "      <td>151.12</td>\n",
       "      <td>299.591429</td>\n",
       "      <td>...</td>\n",
       "      <td>83.375714</td>\n",
       "      <td>151.12</td>\n",
       "      <td>17.977143</td>\n",
       "      <td>1.571429</td>\n",
       "      <td>28.371429</td>\n",
       "      <td>7.685714</td>\n",
       "      <td>33.9</td>\n",
       "      <td>22.8</td>\n",
       "      <td>21.1</td>\n",
       "      <td>5</td>\n",
       "    </tr>\n",
       "    <tr>\n",
       "      <td>8</td>\n",
       "      <td>sj</td>\n",
       "      <td>1990</td>\n",
       "      <td>26</td>\n",
       "      <td>1990-06-25</td>\n",
       "      <td>0.102450</td>\n",
       "      <td>0.146175</td>\n",
       "      <td>0.125571</td>\n",
       "      <td>0.123600</td>\n",
       "      <td>19.32</td>\n",
       "      <td>299.578571</td>\n",
       "      <td>...</td>\n",
       "      <td>82.768571</td>\n",
       "      <td>19.32</td>\n",
       "      <td>17.790000</td>\n",
       "      <td>1.885714</td>\n",
       "      <td>28.328571</td>\n",
       "      <td>7.385714</td>\n",
       "      <td>33.9</td>\n",
       "      <td>22.8</td>\n",
       "      <td>21.1</td>\n",
       "      <td>10</td>\n",
       "    </tr>\n",
       "    <tr>\n",
       "      <td>9</td>\n",
       "      <td>sj</td>\n",
       "      <td>1990</td>\n",
       "      <td>27</td>\n",
       "      <td>1990-07-02</td>\n",
       "      <td>NaN</td>\n",
       "      <td>0.121550</td>\n",
       "      <td>0.160683</td>\n",
       "      <td>0.202567</td>\n",
       "      <td>14.41</td>\n",
       "      <td>300.154286</td>\n",
       "      <td>...</td>\n",
       "      <td>81.281429</td>\n",
       "      <td>14.41</td>\n",
       "      <td>18.071429</td>\n",
       "      <td>2.014286</td>\n",
       "      <td>28.328571</td>\n",
       "      <td>6.514286</td>\n",
       "      <td>33.9</td>\n",
       "      <td>24.4</td>\n",
       "      <td>1.1</td>\n",
       "      <td>6</td>\n",
       "    </tr>\n",
       "  </tbody>\n",
       "</table>\n",
       "<p>10 rows × 25 columns</p>\n",
       "</div>"
      ],
      "text/plain": [
       "  city  year  weekofyear week_start_date   ndvi_ne   ndvi_nw   ndvi_se  \\\n",
       "0   sj  1990          18      1990-04-30  0.122600  0.103725  0.198483   \n",
       "1   sj  1990          19      1990-05-07  0.169900  0.142175  0.162357   \n",
       "2   sj  1990          20      1990-05-14  0.032250  0.172967  0.157200   \n",
       "3   sj  1990          21      1990-05-21  0.128633  0.245067  0.227557   \n",
       "4   sj  1990          22      1990-05-28  0.196200  0.262200  0.251200   \n",
       "5   sj  1990          23      1990-06-04       NaN  0.174850  0.254314   \n",
       "6   sj  1990          24      1990-06-11  0.112900  0.092800  0.205071   \n",
       "7   sj  1990          25      1990-06-18  0.072500  0.072500  0.151471   \n",
       "8   sj  1990          26      1990-06-25  0.102450  0.146175  0.125571   \n",
       "9   sj  1990          27      1990-07-02       NaN  0.121550  0.160683   \n",
       "\n",
       "    ndvi_sw  precipitation_amt_mm  reanalysis_air_temp_k  ...  \\\n",
       "0  0.177617                 12.42             297.572857  ...   \n",
       "1  0.155486                 22.82             298.211429  ...   \n",
       "2  0.170843                 34.54             298.781429  ...   \n",
       "3  0.235886                 15.36             298.987143  ...   \n",
       "4  0.247340                  7.52             299.518571  ...   \n",
       "5  0.181743                  9.58             299.630000  ...   \n",
       "6  0.210271                  3.48             299.207143  ...   \n",
       "7  0.133029                151.12             299.591429  ...   \n",
       "8  0.123600                 19.32             299.578571  ...   \n",
       "9  0.202567                 14.41             300.154286  ...   \n",
       "\n",
       "   reanalysis_relative_humidity_percent  reanalysis_sat_precip_amt_mm  \\\n",
       "0                             73.365714                         12.42   \n",
       "1                             77.368571                         22.82   \n",
       "2                             82.052857                         34.54   \n",
       "3                             80.337143                         15.36   \n",
       "4                             80.460000                          7.52   \n",
       "5                             79.891429                          9.58   \n",
       "6                             82.000000                          3.48   \n",
       "7                             83.375714                        151.12   \n",
       "8                             82.768571                         19.32   \n",
       "9                             81.281429                         14.41   \n",
       "\n",
       "   reanalysis_specific_humidity_g_per_kg  reanalysis_tdtr_k  \\\n",
       "0                              14.012857           2.628571   \n",
       "1                              15.372857           2.371429   \n",
       "2                              16.848571           2.300000   \n",
       "3                              16.672857           2.428571   \n",
       "4                              17.210000           3.014286   \n",
       "5                              17.212857           2.100000   \n",
       "6                              17.234286           2.042857   \n",
       "7                              17.977143           1.571429   \n",
       "8                              17.790000           1.885714   \n",
       "9                              18.071429           2.014286   \n",
       "\n",
       "   station_avg_temp_c  station_diur_temp_rng_c  station_max_temp_c  \\\n",
       "0           25.442857                 6.900000                29.4   \n",
       "1           26.714286                 6.371429                31.7   \n",
       "2           26.714286                 6.485714                32.2   \n",
       "3           27.471429                 6.771429                33.3   \n",
       "4           28.942857                 9.371429                35.0   \n",
       "5           28.114286                 6.942857                34.4   \n",
       "6           27.414286                 6.771429                32.2   \n",
       "7           28.371429                 7.685714                33.9   \n",
       "8           28.328571                 7.385714                33.9   \n",
       "9           28.328571                 6.514286                33.9   \n",
       "\n",
       "   station_min_temp_c  station_precip_mm  Total_Cases  \n",
       "0                20.0               16.0            4  \n",
       "1                22.2                8.6            5  \n",
       "2                22.8               41.4            4  \n",
       "3                23.3                4.0            3  \n",
       "4                23.9                5.8            6  \n",
       "5                23.9               39.1            2  \n",
       "6                23.3               29.7            4  \n",
       "7                22.8               21.1            5  \n",
       "8                22.8               21.1           10  \n",
       "9                24.4                1.1            6  \n",
       "\n",
       "[10 rows x 25 columns]"
      ]
     },
     "execution_count": 111,
     "metadata": {},
     "output_type": "execute_result"
    }
   ],
   "source": [
    "# Importing the Total Number of cases \n",
    "IRD_MLR['Total_Cases'] = dn_cases['total_cases']\n",
    "IRD_MLR.head(10)"
   ]
  },
  {
   "cell_type": "code",
   "execution_count": 112,
   "metadata": {},
   "outputs": [
    {
     "data": {
      "text/html": [
       "<div>\n",
       "<style scoped>\n",
       "    .dataframe tbody tr th:only-of-type {\n",
       "        vertical-align: middle;\n",
       "    }\n",
       "\n",
       "    .dataframe tbody tr th {\n",
       "        vertical-align: top;\n",
       "    }\n",
       "\n",
       "    .dataframe thead th {\n",
       "        text-align: right;\n",
       "    }\n",
       "</style>\n",
       "<table border=\"1\" class=\"dataframe\">\n",
       "  <thead>\n",
       "    <tr style=\"text-align: right;\">\n",
       "      <th></th>\n",
       "      <th>city</th>\n",
       "      <th>year</th>\n",
       "      <th>weekofyear</th>\n",
       "      <th>week_start_date</th>\n",
       "      <th>ndvi_ne</th>\n",
       "      <th>ndvi_nw</th>\n",
       "      <th>ndvi_se</th>\n",
       "      <th>ndvi_sw</th>\n",
       "      <th>precipitation_amt_mm</th>\n",
       "      <th>reanalysis_air_temp_k</th>\n",
       "      <th>...</th>\n",
       "      <th>reanalysis_relative_humidity_percent</th>\n",
       "      <th>reanalysis_sat_precip_amt_mm</th>\n",
       "      <th>reanalysis_specific_humidity_g_per_kg</th>\n",
       "      <th>reanalysis_tdtr_k</th>\n",
       "      <th>station_avg_temp_c</th>\n",
       "      <th>station_diur_temp_rng_c</th>\n",
       "      <th>station_max_temp_c</th>\n",
       "      <th>station_min_temp_c</th>\n",
       "      <th>station_precip_mm</th>\n",
       "      <th>Total_Cases</th>\n",
       "    </tr>\n",
       "  </thead>\n",
       "  <tbody>\n",
       "    <tr>\n",
       "      <td>936</td>\n",
       "      <td>iq</td>\n",
       "      <td>2000</td>\n",
       "      <td>26</td>\n",
       "      <td>2000-07-01</td>\n",
       "      <td>0.192886</td>\n",
       "      <td>0.132257</td>\n",
       "      <td>0.340886</td>\n",
       "      <td>0.247200</td>\n",
       "      <td>25.41</td>\n",
       "      <td>296.740000</td>\n",
       "      <td>...</td>\n",
       "      <td>92.418571</td>\n",
       "      <td>25.41</td>\n",
       "      <td>16.651429</td>\n",
       "      <td>8.928571</td>\n",
       "      <td>26.400000</td>\n",
       "      <td>10.775000</td>\n",
       "      <td>32.5</td>\n",
       "      <td>20.7</td>\n",
       "      <td>3.0</td>\n",
       "      <td>0</td>\n",
       "    </tr>\n",
       "    <tr>\n",
       "      <td>937</td>\n",
       "      <td>iq</td>\n",
       "      <td>2000</td>\n",
       "      <td>27</td>\n",
       "      <td>2000-07-08</td>\n",
       "      <td>0.216833</td>\n",
       "      <td>0.276100</td>\n",
       "      <td>0.289457</td>\n",
       "      <td>0.241657</td>\n",
       "      <td>60.61</td>\n",
       "      <td>296.634286</td>\n",
       "      <td>...</td>\n",
       "      <td>93.581429</td>\n",
       "      <td>60.61</td>\n",
       "      <td>16.862857</td>\n",
       "      <td>10.314286</td>\n",
       "      <td>26.900000</td>\n",
       "      <td>11.566667</td>\n",
       "      <td>34.0</td>\n",
       "      <td>20.8</td>\n",
       "      <td>55.6</td>\n",
       "      <td>0</td>\n",
       "    </tr>\n",
       "    <tr>\n",
       "      <td>938</td>\n",
       "      <td>iq</td>\n",
       "      <td>2000</td>\n",
       "      <td>28</td>\n",
       "      <td>2000-07-15</td>\n",
       "      <td>0.176757</td>\n",
       "      <td>0.173129</td>\n",
       "      <td>0.204114</td>\n",
       "      <td>0.128014</td>\n",
       "      <td>55.52</td>\n",
       "      <td>296.415714</td>\n",
       "      <td>...</td>\n",
       "      <td>95.848571</td>\n",
       "      <td>55.52</td>\n",
       "      <td>17.120000</td>\n",
       "      <td>7.385714</td>\n",
       "      <td>26.800000</td>\n",
       "      <td>11.466667</td>\n",
       "      <td>33.0</td>\n",
       "      <td>20.7</td>\n",
       "      <td>38.1</td>\n",
       "      <td>0</td>\n",
       "    </tr>\n",
       "    <tr>\n",
       "      <td>939</td>\n",
       "      <td>iq</td>\n",
       "      <td>2000</td>\n",
       "      <td>29</td>\n",
       "      <td>2000-07-22</td>\n",
       "      <td>0.227729</td>\n",
       "      <td>0.145429</td>\n",
       "      <td>0.254200</td>\n",
       "      <td>0.200314</td>\n",
       "      <td>5.60</td>\n",
       "      <td>295.357143</td>\n",
       "      <td>...</td>\n",
       "      <td>87.234286</td>\n",
       "      <td>5.60</td>\n",
       "      <td>14.431429</td>\n",
       "      <td>9.114286</td>\n",
       "      <td>25.766667</td>\n",
       "      <td>10.533333</td>\n",
       "      <td>31.5</td>\n",
       "      <td>14.7</td>\n",
       "      <td>30.0</td>\n",
       "      <td>0</td>\n",
       "    </tr>\n",
       "    <tr>\n",
       "      <td>940</td>\n",
       "      <td>iq</td>\n",
       "      <td>2000</td>\n",
       "      <td>30</td>\n",
       "      <td>2000-07-29</td>\n",
       "      <td>0.328643</td>\n",
       "      <td>0.322129</td>\n",
       "      <td>0.254371</td>\n",
       "      <td>0.361043</td>\n",
       "      <td>62.76</td>\n",
       "      <td>296.432857</td>\n",
       "      <td>...</td>\n",
       "      <td>88.161429</td>\n",
       "      <td>62.76</td>\n",
       "      <td>15.444286</td>\n",
       "      <td>9.500000</td>\n",
       "      <td>26.600000</td>\n",
       "      <td>11.480000</td>\n",
       "      <td>33.3</td>\n",
       "      <td>19.1</td>\n",
       "      <td>4.0</td>\n",
       "      <td>0</td>\n",
       "    </tr>\n",
       "  </tbody>\n",
       "</table>\n",
       "<p>5 rows × 25 columns</p>\n",
       "</div>"
      ],
      "text/plain": [
       "    city  year  weekofyear week_start_date   ndvi_ne   ndvi_nw   ndvi_se  \\\n",
       "936   iq  2000          26      2000-07-01  0.192886  0.132257  0.340886   \n",
       "937   iq  2000          27      2000-07-08  0.216833  0.276100  0.289457   \n",
       "938   iq  2000          28      2000-07-15  0.176757  0.173129  0.204114   \n",
       "939   iq  2000          29      2000-07-22  0.227729  0.145429  0.254200   \n",
       "940   iq  2000          30      2000-07-29  0.328643  0.322129  0.254371   \n",
       "\n",
       "      ndvi_sw  precipitation_amt_mm  reanalysis_air_temp_k  ...  \\\n",
       "936  0.247200                 25.41             296.740000  ...   \n",
       "937  0.241657                 60.61             296.634286  ...   \n",
       "938  0.128014                 55.52             296.415714  ...   \n",
       "939  0.200314                  5.60             295.357143  ...   \n",
       "940  0.361043                 62.76             296.432857  ...   \n",
       "\n",
       "     reanalysis_relative_humidity_percent  reanalysis_sat_precip_amt_mm  \\\n",
       "936                             92.418571                         25.41   \n",
       "937                             93.581429                         60.61   \n",
       "938                             95.848571                         55.52   \n",
       "939                             87.234286                          5.60   \n",
       "940                             88.161429                         62.76   \n",
       "\n",
       "     reanalysis_specific_humidity_g_per_kg  reanalysis_tdtr_k  \\\n",
       "936                              16.651429           8.928571   \n",
       "937                              16.862857          10.314286   \n",
       "938                              17.120000           7.385714   \n",
       "939                              14.431429           9.114286   \n",
       "940                              15.444286           9.500000   \n",
       "\n",
       "     station_avg_temp_c  station_diur_temp_rng_c  station_max_temp_c  \\\n",
       "936           26.400000                10.775000                32.5   \n",
       "937           26.900000                11.566667                34.0   \n",
       "938           26.800000                11.466667                33.0   \n",
       "939           25.766667                10.533333                31.5   \n",
       "940           26.600000                11.480000                33.3   \n",
       "\n",
       "     station_min_temp_c  station_precip_mm  Total_Cases  \n",
       "936                20.7                3.0            0  \n",
       "937                20.8               55.6            0  \n",
       "938                20.7               38.1            0  \n",
       "939                14.7               30.0            0  \n",
       "940                19.1                4.0            0  \n",
       "\n",
       "[5 rows x 25 columns]"
      ]
     },
     "execution_count": 112,
     "metadata": {},
     "output_type": "execute_result"
    }
   ],
   "source": [
    "#dn_iq represents Iquitos\n",
    "dn_iq = IRD_MLR[IRD_MLR['city']=='iq']\n",
    "dn_iq.head(5)"
   ]
  },
  {
   "cell_type": "code",
   "execution_count": 113,
   "metadata": {},
   "outputs": [
    {
     "data": {
      "text/html": [
       "<div>\n",
       "<style scoped>\n",
       "    .dataframe tbody tr th:only-of-type {\n",
       "        vertical-align: middle;\n",
       "    }\n",
       "\n",
       "    .dataframe tbody tr th {\n",
       "        vertical-align: top;\n",
       "    }\n",
       "\n",
       "    .dataframe thead th {\n",
       "        text-align: right;\n",
       "    }\n",
       "</style>\n",
       "<table border=\"1\" class=\"dataframe\">\n",
       "  <thead>\n",
       "    <tr style=\"text-align: right;\">\n",
       "      <th></th>\n",
       "      <th>city</th>\n",
       "      <th>year</th>\n",
       "      <th>weekofyear</th>\n",
       "      <th>week_start_date</th>\n",
       "      <th>ndvi_ne</th>\n",
       "      <th>ndvi_nw</th>\n",
       "      <th>ndvi_se</th>\n",
       "      <th>ndvi_sw</th>\n",
       "      <th>precipitation_amt_mm</th>\n",
       "      <th>reanalysis_air_temp_k</th>\n",
       "      <th>...</th>\n",
       "      <th>reanalysis_relative_humidity_percent</th>\n",
       "      <th>reanalysis_sat_precip_amt_mm</th>\n",
       "      <th>reanalysis_specific_humidity_g_per_kg</th>\n",
       "      <th>reanalysis_tdtr_k</th>\n",
       "      <th>station_avg_temp_c</th>\n",
       "      <th>station_diur_temp_rng_c</th>\n",
       "      <th>station_max_temp_c</th>\n",
       "      <th>station_min_temp_c</th>\n",
       "      <th>station_precip_mm</th>\n",
       "      <th>Total_Cases</th>\n",
       "    </tr>\n",
       "  </thead>\n",
       "  <tbody>\n",
       "    <tr>\n",
       "      <td>936</td>\n",
       "      <td>iq</td>\n",
       "      <td>2000</td>\n",
       "      <td>26</td>\n",
       "      <td>2000-07-01</td>\n",
       "      <td>0.192886</td>\n",
       "      <td>0.132257</td>\n",
       "      <td>0.340886</td>\n",
       "      <td>0.247200</td>\n",
       "      <td>25.41</td>\n",
       "      <td>296.740000</td>\n",
       "      <td>...</td>\n",
       "      <td>92.418571</td>\n",
       "      <td>25.41</td>\n",
       "      <td>16.651429</td>\n",
       "      <td>8.928571</td>\n",
       "      <td>26.400000</td>\n",
       "      <td>10.775000</td>\n",
       "      <td>32.5</td>\n",
       "      <td>20.7</td>\n",
       "      <td>3.0</td>\n",
       "      <td>0</td>\n",
       "    </tr>\n",
       "    <tr>\n",
       "      <td>937</td>\n",
       "      <td>iq</td>\n",
       "      <td>2000</td>\n",
       "      <td>27</td>\n",
       "      <td>2000-07-08</td>\n",
       "      <td>0.216833</td>\n",
       "      <td>0.276100</td>\n",
       "      <td>0.289457</td>\n",
       "      <td>0.241657</td>\n",
       "      <td>60.61</td>\n",
       "      <td>296.634286</td>\n",
       "      <td>...</td>\n",
       "      <td>93.581429</td>\n",
       "      <td>60.61</td>\n",
       "      <td>16.862857</td>\n",
       "      <td>10.314286</td>\n",
       "      <td>26.900000</td>\n",
       "      <td>11.566667</td>\n",
       "      <td>34.0</td>\n",
       "      <td>20.8</td>\n",
       "      <td>55.6</td>\n",
       "      <td>0</td>\n",
       "    </tr>\n",
       "    <tr>\n",
       "      <td>938</td>\n",
       "      <td>iq</td>\n",
       "      <td>2000</td>\n",
       "      <td>28</td>\n",
       "      <td>2000-07-15</td>\n",
       "      <td>0.176757</td>\n",
       "      <td>0.173129</td>\n",
       "      <td>0.204114</td>\n",
       "      <td>0.128014</td>\n",
       "      <td>55.52</td>\n",
       "      <td>296.415714</td>\n",
       "      <td>...</td>\n",
       "      <td>95.848571</td>\n",
       "      <td>55.52</td>\n",
       "      <td>17.120000</td>\n",
       "      <td>7.385714</td>\n",
       "      <td>26.800000</td>\n",
       "      <td>11.466667</td>\n",
       "      <td>33.0</td>\n",
       "      <td>20.7</td>\n",
       "      <td>38.1</td>\n",
       "      <td>0</td>\n",
       "    </tr>\n",
       "    <tr>\n",
       "      <td>939</td>\n",
       "      <td>iq</td>\n",
       "      <td>2000</td>\n",
       "      <td>29</td>\n",
       "      <td>2000-07-22</td>\n",
       "      <td>0.227729</td>\n",
       "      <td>0.145429</td>\n",
       "      <td>0.254200</td>\n",
       "      <td>0.200314</td>\n",
       "      <td>5.60</td>\n",
       "      <td>295.357143</td>\n",
       "      <td>...</td>\n",
       "      <td>87.234286</td>\n",
       "      <td>5.60</td>\n",
       "      <td>14.431429</td>\n",
       "      <td>9.114286</td>\n",
       "      <td>25.766667</td>\n",
       "      <td>10.533333</td>\n",
       "      <td>31.5</td>\n",
       "      <td>14.7</td>\n",
       "      <td>30.0</td>\n",
       "      <td>0</td>\n",
       "    </tr>\n",
       "    <tr>\n",
       "      <td>940</td>\n",
       "      <td>iq</td>\n",
       "      <td>2000</td>\n",
       "      <td>30</td>\n",
       "      <td>2000-07-29</td>\n",
       "      <td>0.328643</td>\n",
       "      <td>0.322129</td>\n",
       "      <td>0.254371</td>\n",
       "      <td>0.361043</td>\n",
       "      <td>62.76</td>\n",
       "      <td>296.432857</td>\n",
       "      <td>...</td>\n",
       "      <td>88.161429</td>\n",
       "      <td>62.76</td>\n",
       "      <td>15.444286</td>\n",
       "      <td>9.500000</td>\n",
       "      <td>26.600000</td>\n",
       "      <td>11.480000</td>\n",
       "      <td>33.3</td>\n",
       "      <td>19.1</td>\n",
       "      <td>4.0</td>\n",
       "      <td>0</td>\n",
       "    </tr>\n",
       "  </tbody>\n",
       "</table>\n",
       "<p>5 rows × 25 columns</p>\n",
       "</div>"
      ],
      "text/plain": [
       "    city  year  weekofyear week_start_date   ndvi_ne   ndvi_nw   ndvi_se  \\\n",
       "936   iq  2000          26      2000-07-01  0.192886  0.132257  0.340886   \n",
       "937   iq  2000          27      2000-07-08  0.216833  0.276100  0.289457   \n",
       "938   iq  2000          28      2000-07-15  0.176757  0.173129  0.204114   \n",
       "939   iq  2000          29      2000-07-22  0.227729  0.145429  0.254200   \n",
       "940   iq  2000          30      2000-07-29  0.328643  0.322129  0.254371   \n",
       "\n",
       "      ndvi_sw  precipitation_amt_mm  reanalysis_air_temp_k  ...  \\\n",
       "936  0.247200                 25.41             296.740000  ...   \n",
       "937  0.241657                 60.61             296.634286  ...   \n",
       "938  0.128014                 55.52             296.415714  ...   \n",
       "939  0.200314                  5.60             295.357143  ...   \n",
       "940  0.361043                 62.76             296.432857  ...   \n",
       "\n",
       "     reanalysis_relative_humidity_percent  reanalysis_sat_precip_amt_mm  \\\n",
       "936                             92.418571                         25.41   \n",
       "937                             93.581429                         60.61   \n",
       "938                             95.848571                         55.52   \n",
       "939                             87.234286                          5.60   \n",
       "940                             88.161429                         62.76   \n",
       "\n",
       "     reanalysis_specific_humidity_g_per_kg  reanalysis_tdtr_k  \\\n",
       "936                              16.651429           8.928571   \n",
       "937                              16.862857          10.314286   \n",
       "938                              17.120000           7.385714   \n",
       "939                              14.431429           9.114286   \n",
       "940                              15.444286           9.500000   \n",
       "\n",
       "     station_avg_temp_c  station_diur_temp_rng_c  station_max_temp_c  \\\n",
       "936           26.400000                10.775000                32.5   \n",
       "937           26.900000                11.566667                34.0   \n",
       "938           26.800000                11.466667                33.0   \n",
       "939           25.766667                10.533333                31.5   \n",
       "940           26.600000                11.480000                33.3   \n",
       "\n",
       "     station_min_temp_c  station_precip_mm  Total_Cases  \n",
       "936                20.7                3.0            0  \n",
       "937                20.8               55.6            0  \n",
       "938                20.7               38.1            0  \n",
       "939                14.7               30.0            0  \n",
       "940                19.1                4.0            0  \n",
       "\n",
       "[5 rows x 25 columns]"
      ]
     },
     "execution_count": 113,
     "metadata": {},
     "output_type": "execute_result"
    }
   ],
   "source": [
    "#Filling the NULL values for the city Iquitos with the mean of each column\n",
    "dn_iq = dn_iq.fillna(value=dn_iq.mean())\n",
    "dn_iq.head(5)"
   ]
  },
  {
   "cell_type": "code",
   "execution_count": 114,
   "metadata": {},
   "outputs": [
    {
     "data": {
      "text/plain": [
       "<seaborn.axisgrid.JointGrid at 0x1eba520fb08>"
      ]
     },
     "execution_count": 114,
     "metadata": {},
     "output_type": "execute_result"
    },
    {
     "data": {
      "image/png": "[encoded data removed]",
      "text/plain": [
       "<Figure size 432x432 with 3 Axes>"
      ]
     },
     "metadata": {
      "needs_background": "light"
     },
     "output_type": "display_data"
    }
   ],
   "source": [
    "sns.jointplot(x = 'station_avg_temp_c', y = 'Total_Cases', data = dn_iq, kind = 'hex')"
   ]
  },
  {
   "cell_type": "code",
   "execution_count": 115,
   "metadata": {},
   "outputs": [
    {
     "data": {
      "text/plain": [
       "<seaborn.axisgrid.JointGrid at 0x1eba528b248>"
      ]
     },
     "execution_count": 115,
     "metadata": {},
     "output_type": "execute_result"
    },
    {
     "data": {
      "image/png": "[encoded data removed]",
      "text/plain": [
       "<Figure size 432x432 with 3 Axes>"
      ]
     },
     "metadata": {
      "needs_background": "light"
     },
     "output_type": "display_data"
    }
   ],
   "source": [
    "sns.jointplot(x = 'weekofyear', y = 'Total_Cases', data = dn_iq, color = 'green', kind = 'kde')"
   ]
  },
  {
   "cell_type": "code",
   "execution_count": 116,
   "metadata": {},
   "outputs": [
    {
     "data": {
      "text/plain": [
       "<seaborn.axisgrid.JointGrid at 0x1eba536e748>"
      ]
     },
     "execution_count": 116,
     "metadata": {},
     "output_type": "execute_result"
    },
    {
     "data": {
      "image/png": "[encoded data removed]",
      "text/plain": [
       "<Figure size 432x432 with 3 Axes>"
      ]
     },
     "metadata": {
      "needs_background": "light"
     },
     "output_type": "display_data"
    }
   ],
   "source": [
    "sns.jointplot(x = 'weekofyear', y = 'Total_Cases', data = dn_iq)"
   ]
  },
  {
   "cell_type": "code",
   "execution_count": 117,
   "metadata": {},
   "outputs": [
    {
     "data": {
      "text/plain": [
       "<matplotlib.axes._subplots.AxesSubplot at 0x1eba5577b88>"
      ]
     },
     "execution_count": 117,
     "metadata": {},
     "output_type": "execute_result"
    },
    {
     "data": {
      "image/png": "[encoded data removed]",
      "text/plain": [
       "<Figure size 432x288 with 1 Axes>"
      ]
     },
     "metadata": {
      "needs_background": "light"
     },
     "output_type": "display_data"
    }
   ],
   "source": [
    "sns.boxplot(x='year', y = 'Total_Cases', data = dn_iq)"
   ]
  },
  {
   "cell_type": "code",
   "execution_count": 118,
   "metadata": {},
   "outputs": [
    {
     "data": {
      "text/plain": [
       "<matplotlib.axes._subplots.AxesSubplot at 0x1eba56ccb08>"
      ]
     },
     "execution_count": 118,
     "metadata": {},
     "output_type": "execute_result"
    },
    {
     "data": {
      "image/png": "[encoded data removed]",
      "text/plain": [
       "<Figure size 432x288 with 1 Axes>"
      ]
     },
     "metadata": {
      "needs_background": "light"
     },
     "output_type": "display_data"
    }
   ],
   "source": [
    "sns.stripplot(x='year', y = 'Total_Cases', data = dn_iq)"
   ]
  },
  {
   "cell_type": "markdown",
   "metadata": {},
   "source": [
    "# "
   ]
  },
  {
   "cell_type": "code",
   "execution_count": 119,
   "metadata": {},
   "outputs": [
    {
     "data": {
      "text/plain": [
       "<matplotlib.axes._subplots.AxesSubplot at 0x1eba56fa508>"
      ]
     },
     "execution_count": 119,
     "metadata": {},
     "output_type": "execute_result"
    },
    {
     "data": {
      "image/png": "[encoded data removed]",
      "text/plain": [
       "<Figure size 432x288 with 1 Axes>"
      ]
     },
     "metadata": {
      "needs_background": "light"
     },
     "output_type": "display_data"
    }
   ],
   "source": [
    "sns.distplot(dn_iq['Total_Cases'])"
   ]
  },
  {
   "cell_type": "code",
   "execution_count": 120,
   "metadata": {},
   "outputs": [
    {
     "data": {
      "text/plain": [
       "<seaborn.axisgrid.JointGrid at 0x1eba5746148>"
      ]
     },
     "execution_count": 120,
     "metadata": {},
     "output_type": "execute_result"
    },
    {
     "data": {
      "image/png": "[encoded data removed]",
      "text/plain": [
       "<Figure size 432x432 with 3 Axes>"
      ]
     },
     "metadata": {
      "needs_background": "light"
     },
     "output_type": "display_data"
    }
   ],
   "source": [
    "sns.jointplot(data = dn_iq, x = 'weekofyear', y = 'Total_Cases')"
   ]
  },
  {
   "cell_type": "code",
   "execution_count": 121,
   "metadata": {},
   "outputs": [],
   "source": [
    "PP = dn_iq.drop(['city', 'year','week_start_date'], axis =1)"
   ]
  },
  {
   "cell_type": "code",
   "execution_count": 122,
   "metadata": {},
   "outputs": [],
   "source": [
    "#sns.pairplot(PP, hue = 'Total_Cases')\n",
    "#fig.set_size_inches(15,15)"
   ]
  },
  {
   "cell_type": "code",
   "execution_count": 125,
   "metadata": {},
   "outputs": [
    {
     "data": {
      "text/plain": [
       "Text(0, 0.5, 'Frequency')"
      ]
     },
     "execution_count": 125,
     "metadata": {},
     "output_type": "execute_result"
    },
    {
     "data": {
      "image/png": "[encoded data removed]",
      "text/plain": [
       "<Figure size 720x504 with 1 Axes>"
      ]
     },
     "metadata": {
      "needs_background": "light"
     },
     "output_type": "display_data"
    }
   ],
   "source": [
    "dn_iq.Total_Cases.plot(kind='hist', color='purple', edgecolor='black', figsize=(10,7))\n",
    "plt.title('Distribution of Total Cases', size=24)\n",
    "plt.xlabel('#of Cases', size=18)\n",
    "plt.ylabel('Frequency', size=18)"
   ]
  },
  {
   "cell_type": "code",
   "execution_count": 100,
   "metadata": {},
   "outputs": [],
   "source": [
    "hm = dn_sj.pivot_table(index = 'weekofyear', columns = ['station_avg_temp_c','station_precip_mm'], values = 'Total_Cases')"
   ]
  },
  {
   "cell_type": "code",
   "execution_count": 126,
   "metadata": {},
   "outputs": [
    {
     "data": {
      "text/plain": [
       "<matplotlib.axes._subplots.AxesSubplot at 0x1eba5dc6ec8>"
      ]
     },
     "execution_count": 126,
     "metadata": {},
     "output_type": "execute_result"
    },
    {
     "data": {
      "image/png": "[encoded data removed]",
      "text/plain": [
       "<Figure size 864x576 with 2 Axes>"
      ]
     },
     "metadata": {
      "needs_background": "light"
     },
     "output_type": "display_data"
    }
   ],
   "source": [
    "plt.rcParams['figure.figsize'] = (12,8)\n",
    "sns.heatmap(hm)"
   ]
  },
  {
   "cell_type": "code",
   "execution_count": 127,
   "metadata": {},
   "outputs": [
    {
     "data": {
      "text/plain": [
       "<matplotlib.axes._subplots.AxesSubplot at 0x1eba73e7508>"
      ]
     },
     "execution_count": 127,
     "metadata": {},
     "output_type": "execute_result"
    },
    {
     "data": {
      "image/png": "[encoded data removed]",
      "text/plain": [
       "<Figure size 864x576 with 2 Axes>"
      ]
     },
     "metadata": {
      "needs_background": "light"
     },
     "output_type": "display_data"
    }
   ],
   "source": [
    "sns.heatmap(dn_sj.corr())"
   ]
  },
  {
   "cell_type": "code",
   "execution_count": 128,
   "metadata": {},
   "outputs": [],
   "source": [
    "import statsmodels.formula.api as smf\n",
    "model = smf.ols(\"\"\"Total_Cases ~ ndvi_ne + ndvi_nw + ndvi_se + ndvi_sw + precipitation_amt_mm + \n",
    "reanalysis_air_temp_k + reanalysis_avg_temp_k + reanalysis_dew_point_temp_k + reanalysis_max_air_temp_k +\n",
    "reanalysis_min_air_temp_k + reanalysis_precip_amt_kg_per_m2 + reanalysis_relative_humidity_percent + \n",
    "reanalysis_sat_precip_amt_mm + reanalysis_specific_humidity_g_per_kg + reanalysis_tdtr_k +\n",
    "station_avg_temp_c + station_diur_temp_rng_c + station_max_temp_c + station_min_temp_c + station_precip_mm\"\"\",\n",
    "                data = dn_sj).fit()"
   ]
  },
  {
   "cell_type": "code",
   "execution_count": 129,
   "metadata": {},
   "outputs": [
    {
     "data": {
      "text/plain": [
       "Intercept                                5985.636813\n",
       "ndvi_ne                                    -1.781055\n",
       "ndvi_nw                                    15.389848\n",
       "ndvi_se                                     8.826240\n",
       "ndvi_sw                                    -9.584717\n",
       "precipitation_amt_mm                       -0.037868\n",
       "reanalysis_air_temp_k                      81.887225\n",
       "reanalysis_avg_temp_k                     -45.629828\n",
       "reanalysis_dew_point_temp_k               -81.979681\n",
       "reanalysis_max_air_temp_k                  16.550163\n",
       "reanalysis_min_air_temp_k                   3.586864\n",
       "reanalysis_precip_amt_kg_per_m2             0.055036\n",
       "reanalysis_relative_humidity_percent       10.186222\n",
       "reanalysis_sat_precip_amt_mm               -0.037868\n",
       "reanalysis_specific_humidity_g_per_kg      34.305130\n",
       "reanalysis_tdtr_k                         -17.577365\n",
       "station_avg_temp_c                         -5.230944\n",
       "station_diur_temp_rng_c                     3.896681\n",
       "station_max_temp_c                          3.065956\n",
       "station_min_temp_c                          1.757203\n",
       "station_precip_mm                          -0.010559\n",
       "dtype: float64"
      ]
     },
     "execution_count": 129,
     "metadata": {},
     "output_type": "execute_result"
    }
   ],
   "source": [
    "model.params"
   ]
  },
  {
   "cell_type": "code",
   "execution_count": 130,
   "metadata": {},
   "outputs": [
    {
     "data": {
      "text/html": [
       "<table class=\"simpletable\">\n",
       "<caption>OLS Regression Results</caption>\n",
       "<tr>\n",
       "  <th>Dep. Variable:</th>       <td>Total_Cases</td>   <th>  R-squared:         </th> <td>   0.082</td> \n",
       "</tr>\n",
       "<tr>\n",
       "  <th>Model:</th>                   <td>OLS</td>       <th>  Adj. R-squared:    </th> <td>   0.063</td> \n",
       "</tr>\n",
       "<tr>\n",
       "  <th>Method:</th>             <td>Least Squares</td>  <th>  F-statistic:       </th> <td>   4.334</td> \n",
       "</tr>\n",
       "<tr>\n",
       "  <th>Date:</th>             <td>Sun, 14 Mar 2021</td> <th>  Prob (F-statistic):</th> <td>2.20e-09</td> \n",
       "</tr>\n",
       "<tr>\n",
       "  <th>Time:</th>                 <td>22:43:11</td>     <th>  Log-Likelihood:    </th> <td> -4974.5</td> \n",
       "</tr>\n",
       "<tr>\n",
       "  <th>No. Observations:</th>      <td>   936</td>      <th>  AIC:               </th> <td>   9989.</td> \n",
       "</tr>\n",
       "<tr>\n",
       "  <th>Df Residuals:</th>          <td>   916</td>      <th>  BIC:               </th> <td>1.009e+04</td>\n",
       "</tr>\n",
       "<tr>\n",
       "  <th>Df Model:</th>              <td>    19</td>      <th>                     </th>     <td> </td>    \n",
       "</tr>\n",
       "<tr>\n",
       "  <th>Covariance Type:</th>      <td>nonrobust</td>    <th>                     </th>     <td> </td>    \n",
       "</tr>\n",
       "</table>\n",
       "<table class=\"simpletable\">\n",
       "<tr>\n",
       "                    <td></td>                       <th>coef</th>     <th>std err</th>      <th>t</th>      <th>P>|t|</th>  <th>[0.025</th>    <th>0.975]</th>  \n",
       "</tr>\n",
       "<tr>\n",
       "  <th>Intercept</th>                             <td> 5985.6368</td> <td> 6973.012</td> <td>    0.858</td> <td> 0.391</td> <td>-7699.298</td> <td> 1.97e+04</td>\n",
       "</tr>\n",
       "<tr>\n",
       "  <th>ndvi_ne</th>                               <td>   -1.7811</td> <td>   22.011</td> <td>   -0.081</td> <td> 0.936</td> <td>  -44.978</td> <td>   41.416</td>\n",
       "</tr>\n",
       "<tr>\n",
       "  <th>ndvi_nw</th>                               <td>   15.3898</td> <td>   24.003</td> <td>    0.641</td> <td> 0.522</td> <td>  -31.718</td> <td>   62.498</td>\n",
       "</tr>\n",
       "<tr>\n",
       "  <th>ndvi_se</th>                               <td>    8.8262</td> <td>   52.450</td> <td>    0.168</td> <td> 0.866</td> <td>  -94.110</td> <td>  111.762</td>\n",
       "</tr>\n",
       "<tr>\n",
       "  <th>ndvi_sw</th>                               <td>   -9.5847</td> <td>   53.376</td> <td>   -0.180</td> <td> 0.858</td> <td> -114.338</td> <td>   95.169</td>\n",
       "</tr>\n",
       "<tr>\n",
       "  <th>precipitation_amt_mm</th>                  <td>   -0.0379</td> <td>    0.025</td> <td>   -1.502</td> <td> 0.133</td> <td>   -0.087</td> <td>    0.012</td>\n",
       "</tr>\n",
       "<tr>\n",
       "  <th>reanalysis_air_temp_k</th>                 <td>   81.8872</td> <td>   88.725</td> <td>    0.923</td> <td> 0.356</td> <td>  -92.240</td> <td>  256.015</td>\n",
       "</tr>\n",
       "<tr>\n",
       "  <th>reanalysis_avg_temp_k</th>                 <td>  -45.6298</td> <td>   22.052</td> <td>   -2.069</td> <td> 0.039</td> <td>  -88.908</td> <td>   -2.351</td>\n",
       "</tr>\n",
       "<tr>\n",
       "  <th>reanalysis_dew_point_temp_k</th>           <td>  -81.9797</td> <td>   82.581</td> <td>   -0.993</td> <td> 0.321</td> <td> -244.049</td> <td>   80.089</td>\n",
       "</tr>\n",
       "<tr>\n",
       "  <th>reanalysis_max_air_temp_k</th>             <td>   16.5502</td> <td>    5.317</td> <td>    3.113</td> <td> 0.002</td> <td>    6.115</td> <td>   26.985</td>\n",
       "</tr>\n",
       "<tr>\n",
       "  <th>reanalysis_min_air_temp_k</th>             <td>    3.5869</td> <td>    5.473</td> <td>    0.655</td> <td> 0.512</td> <td>   -7.155</td> <td>   14.329</td>\n",
       "</tr>\n",
       "<tr>\n",
       "  <th>reanalysis_precip_amt_kg_per_m2</th>       <td>    0.0550</td> <td>    0.067</td> <td>    0.827</td> <td> 0.408</td> <td>   -0.076</td> <td>    0.186</td>\n",
       "</tr>\n",
       "<tr>\n",
       "  <th>reanalysis_relative_humidity_percent</th>  <td>   10.1862</td> <td>   18.310</td> <td>    0.556</td> <td> 0.578</td> <td>  -25.749</td> <td>   46.121</td>\n",
       "</tr>\n",
       "<tr>\n",
       "  <th>reanalysis_sat_precip_amt_mm</th>          <td>   -0.0379</td> <td>    0.025</td> <td>   -1.502</td> <td> 0.133</td> <td>   -0.087</td> <td>    0.012</td>\n",
       "</tr>\n",
       "<tr>\n",
       "  <th>reanalysis_specific_humidity_g_per_kg</th> <td>   34.3051</td> <td>   23.123</td> <td>    1.484</td> <td> 0.138</td> <td>  -11.074</td> <td>   79.685</td>\n",
       "</tr>\n",
       "<tr>\n",
       "  <th>reanalysis_tdtr_k</th>                     <td>  -17.5774</td> <td>    5.792</td> <td>   -3.035</td> <td> 0.002</td> <td>  -28.945</td> <td>   -6.210</td>\n",
       "</tr>\n",
       "<tr>\n",
       "  <th>station_avg_temp_c</th>                    <td>   -5.2309</td> <td>    5.579</td> <td>   -0.938</td> <td> 0.349</td> <td>  -16.180</td> <td>    5.718</td>\n",
       "</tr>\n",
       "<tr>\n",
       "  <th>station_diur_temp_rng_c</th>               <td>    3.8967</td> <td>    3.475</td> <td>    1.122</td> <td> 0.262</td> <td>   -2.922</td> <td>   10.716</td>\n",
       "</tr>\n",
       "<tr>\n",
       "  <th>station_max_temp_c</th>                    <td>    3.0660</td> <td>    2.854</td> <td>    1.074</td> <td> 0.283</td> <td>   -2.535</td> <td>    8.667</td>\n",
       "</tr>\n",
       "<tr>\n",
       "  <th>station_min_temp_c</th>                    <td>    1.7572</td> <td>    3.426</td> <td>    0.513</td> <td> 0.608</td> <td>   -4.967</td> <td>    8.481</td>\n",
       "</tr>\n",
       "<tr>\n",
       "  <th>station_precip_mm</th>                     <td>   -0.0106</td> <td>    0.076</td> <td>   -0.140</td> <td> 0.889</td> <td>   -0.159</td> <td>    0.138</td>\n",
       "</tr>\n",
       "</table>\n",
       "<table class=\"simpletable\">\n",
       "<tr>\n",
       "  <th>Omnibus:</th>       <td>866.510</td> <th>  Durbin-Watson:     </th> <td>   0.139</td> \n",
       "</tr>\n",
       "<tr>\n",
       "  <th>Prob(Omnibus):</th> <td> 0.000</td>  <th>  Jarque-Bera (JB):  </th> <td>26510.640</td>\n",
       "</tr>\n",
       "<tr>\n",
       "  <th>Skew:</th>          <td> 4.317</td>  <th>  Prob(JB):          </th> <td>    0.00</td> \n",
       "</tr>\n",
       "<tr>\n",
       "  <th>Kurtosis:</th>      <td>27.601</td>  <th>  Cond. No.          </th> <td>3.95e+17</td> \n",
       "</tr>\n",
       "</table><br/><br/>Warnings:<br/>[1] Standard Errors assume that the covariance matrix of the errors is correctly specified.<br/>[2] The smallest eigenvalue is 2.75e-27. This might indicate that there are<br/>strong multicollinearity problems or that the design matrix is singular."
      ],
      "text/plain": [
       "<class 'statsmodels.iolib.summary.Summary'>\n",
       "\"\"\"\n",
       "                            OLS Regression Results                            \n",
       "==============================================================================\n",
       "Dep. Variable:            Total_Cases   R-squared:                       0.082\n",
       "Model:                            OLS   Adj. R-squared:                  0.063\n",
       "Method:                 Least Squares   F-statistic:                     4.334\n",
       "Date:                Sun, 14 Mar 2021   Prob (F-statistic):           2.20e-09\n",
       "Time:                        22:43:11   Log-Likelihood:                -4974.5\n",
       "No. Observations:                 936   AIC:                             9989.\n",
       "Df Residuals:                     916   BIC:                         1.009e+04\n",
       "Df Model:                          19                                         \n",
       "Covariance Type:            nonrobust                                         \n",
       "=========================================================================================================\n",
       "                                            coef    std err          t      P>|t|      [0.025      0.975]\n",
       "---------------------------------------------------------------------------------------------------------\n",
       "Intercept                              5985.6368   6973.012      0.858      0.391   -7699.298    1.97e+04\n",
       "ndvi_ne                                  -1.7811     22.011     -0.081      0.936     -44.978      41.416\n",
       "ndvi_nw                                  15.3898     24.003      0.641      0.522     -31.718      62.498\n",
       "ndvi_se                                   8.8262     52.450      0.168      0.866     -94.110     111.762\n",
       "ndvi_sw                                  -9.5847     53.376     -0.180      0.858    -114.338      95.169\n",
       "precipitation_amt_mm                     -0.0379      0.025     -1.502      0.133      -0.087       0.012\n",
       "reanalysis_air_temp_k                    81.8872     88.725      0.923      0.356     -92.240     256.015\n",
       "reanalysis_avg_temp_k                   -45.6298     22.052     -2.069      0.039     -88.908      -2.351\n",
       "reanalysis_dew_point_temp_k             -81.9797     82.581     -0.993      0.321    -244.049      80.089\n",
       "reanalysis_max_air_temp_k                16.5502      5.317      3.113      0.002       6.115      26.985\n",
       "reanalysis_min_air_temp_k                 3.5869      5.473      0.655      0.512      -7.155      14.329\n",
       "reanalysis_precip_amt_kg_per_m2           0.0550      0.067      0.827      0.408      -0.076       0.186\n",
       "reanalysis_relative_humidity_percent     10.1862     18.310      0.556      0.578     -25.749      46.121\n",
       "reanalysis_sat_precip_amt_mm             -0.0379      0.025     -1.502      0.133      -0.087       0.012\n",
       "reanalysis_specific_humidity_g_per_kg    34.3051     23.123      1.484      0.138     -11.074      79.685\n",
       "reanalysis_tdtr_k                       -17.5774      5.792     -3.035      0.002     -28.945      -6.210\n",
       "station_avg_temp_c                       -5.2309      5.579     -0.938      0.349     -16.180       5.718\n",
       "station_diur_temp_rng_c                   3.8967      3.475      1.122      0.262      -2.922      10.716\n",
       "station_max_temp_c                        3.0660      2.854      1.074      0.283      -2.535       8.667\n",
       "station_min_temp_c                        1.7572      3.426      0.513      0.608      -4.967       8.481\n",
       "station_precip_mm                        -0.0106      0.076     -0.140      0.889      -0.159       0.138\n",
       "==============================================================================\n",
       "Omnibus:                      866.510   Durbin-Watson:                   0.139\n",
       "Prob(Omnibus):                  0.000   Jarque-Bera (JB):            26510.640\n",
       "Skew:                           4.317   Prob(JB):                         0.00\n",
       "Kurtosis:                      27.601   Cond. No.                     3.95e+17\n",
       "==============================================================================\n",
       "\n",
       "Warnings:\n",
       "[1] Standard Errors assume that the covariance matrix of the errors is correctly specified.\n",
       "[2] The smallest eigenvalue is 2.75e-27. This might indicate that there are\n",
       "strong multicollinearity problems or that the design matrix is singular.\n",
       "\"\"\""
      ]
     },
     "execution_count": 130,
     "metadata": {},
     "output_type": "execute_result"
    }
   ],
   "source": [
    "model.summary()"
   ]
  },
  {
   "cell_type": "code",
   "execution_count": 132,
   "metadata": {},
   "outputs": [
    {
     "data": {
      "text/plain": [
       "Index(['city', 'year', 'weekofyear', 'week_start_date', 'ndvi_ne', 'ndvi_nw',\n",
       "       'ndvi_se', 'ndvi_sw', 'precipitation_amt_mm', 'reanalysis_air_temp_k',\n",
       "       'reanalysis_avg_temp_k', 'reanalysis_dew_point_temp_k',\n",
       "       'reanalysis_max_air_temp_k', 'reanalysis_min_air_temp_k',\n",
       "       'reanalysis_precip_amt_kg_per_m2',\n",
       "       'reanalysis_relative_humidity_percent', 'reanalysis_sat_precip_amt_mm',\n",
       "       'reanalysis_specific_humidity_g_per_kg', 'reanalysis_tdtr_k',\n",
       "       'station_avg_temp_c', 'station_diur_temp_rng_c', 'station_max_temp_c',\n",
       "       'station_min_temp_c', 'station_precip_mm', 'Total_Cases'],\n",
       "      dtype='object')"
      ]
     },
     "execution_count": 132,
     "metadata": {},
     "output_type": "execute_result"
    }
   ],
   "source": [
    "#Since we are predicting the Total Cases we are droping the Total_cases column as this will be \"Y\" value - San Juan\n",
    "x1 = dn_iq.drop(['Total_Cases'], axis = 1).values\n",
    "x1\n",
    "dn_iq.columns"
   ]
  },
  {
   "cell_type": "code",
   "execution_count": 133,
   "metadata": {},
   "outputs": [],
   "source": [
    "#WE are removing the Yean and City Column as they do mot hae any correlation with the rest of the data\n",
    "#x = np.delete(x1,[0,3],1)\n",
    "#x = np.delete(x,0,1)\n",
    "x = dn_iq[[ 'weekofyear', 'ndvi_ne', 'ndvi_nw',\n",
    "       'ndvi_se', 'ndvi_sw', 'precipitation_amt_mm', 'reanalysis_air_temp_k',\n",
    "       'reanalysis_dew_point_temp_k',\n",
    "       'reanalysis_max_air_temp_k', 'reanalysis_min_air_temp_k',\n",
    "       'reanalysis_precip_amt_kg_per_m2',\n",
    "       'reanalysis_relative_humidity_percent', 'reanalysis_sat_precip_amt_mm',\n",
    "       'reanalysis_specific_humidity_g_per_kg', 'reanalysis_tdtr_k',\n",
    "       'station_diur_temp_rng_c', 'station_max_temp_c',\n",
    "       'station_min_temp_c', 'station_precip_mm',]]"
   ]
  },
  {
   "cell_type": "code",
   "execution_count": 134,
   "metadata": {},
   "outputs": [],
   "source": [
    "# We are assigning the Y values to the Total Cases as we need to train the Data for running the model on TEST dataset\n",
    "y = dn_iq['Total_Cases'].values"
   ]
  },
  {
   "cell_type": "code",
   "execution_count": 138,
   "metadata": {},
   "outputs": [],
   "source": [
    "#importing the train_test_split Library from Python library to train assign test group \n",
    "from sklearn.model_selection import train_test_split\n",
    "x_train, x_test, y_train, y_test = train_test_split(x,y, test_size = 0.3, random_state = 101)"
   ]
  },
  {
   "cell_type": "code",
   "execution_count": 139,
   "metadata": {},
   "outputs": [
    {
     "data": {
      "text/plain": [
       "LinearRegression(copy_X=True, fit_intercept=True, n_jobs=None, normalize=False)"
      ]
     },
     "execution_count": 139,
     "metadata": {},
     "output_type": "execute_result"
    }
   ],
   "source": [
    "#running the model on assigned Train data\n",
    "from sklearn.linear_model import LinearRegression\n",
    "ml = LinearRegression()\n",
    "ml.fit(x_train, y_train)"
   ]
  },
  {
   "cell_type": "code",
   "execution_count": 140,
   "metadata": {},
   "outputs": [
    {
     "data": {
      "text/plain": [
       "array([ 3.61214718, 11.65402105,  3.22117403,  5.11721663,  6.70235664,\n",
       "        9.25667419,  3.88283481,  4.1460521 , 11.98597659,  6.87860843,\n",
       "        9.97128279,  8.51908147,  8.11202272,  6.49143674,  9.39886288,\n",
       "        3.90383296, 10.36850271,  6.68935747, 12.33800717,  7.75909046,\n",
       "        7.70196023,  3.23972735,  1.15523568,  6.25981578,  3.3541003 ,\n",
       "        3.75445447,  6.32051525, 11.51075779,  7.09784519, 10.50882684,\n",
       "        9.36775162,  2.41220441,  6.16472645,  6.59692827,  4.06994084,\n",
       "        3.63362761,  9.76916328, 15.68694413,  8.86734709,  6.31831173,\n",
       "        3.16581881,  6.17520682, 12.20667881,  7.30081489,  5.42206252,\n",
       "        8.13318398,  3.76097711,  6.54266236, -2.07715598,  9.07274617,\n",
       "        0.59050485,  8.97613919,  7.79946201,  6.80018233,  9.46422353,\n",
       "       -0.96631168,  8.8449555 ,  8.00311455, 10.52558182,  6.69838132,\n",
       "        6.73446734,  3.21407995,  3.64408088, 12.85736409,  2.65136754,\n",
       "       10.92991526, 12.39664477,  7.86281663,  9.82131394,  3.26774262,\n",
       "        6.10320192,  6.83872161,  6.1684069 ,  7.90212376, 13.93517327,\n",
       "        7.43132759,  8.60900097,  5.6848881 ,  4.79302004,  8.29963845,\n",
       "        9.74333395,  4.64323354, 10.41335511, 13.99200361, 10.03504828,\n",
       "        1.71521369,  5.36422667,  7.91442625,  3.69221057,  0.76545842,\n",
       "       16.51643513,  8.91988534,  6.30074659,  7.66951966, 10.32711406,\n",
       "        6.6526127 ,  5.73473847,  8.17309631, 12.39097809,  8.30701343,\n",
       "        7.51105262,  9.08594789,  6.49007224,  5.79870605,  3.56136608,\n",
       "        6.4542043 ,  9.73906093,  4.62265881, 11.35805221,  3.27568913,\n",
       "       10.75379625,  8.38440528, 10.5536894 , 13.05873179,  5.31762632,\n",
       "        0.59067224,  9.68989623,  2.09499552,  6.90601425,  8.68095459,\n",
       "        7.46047479, 11.12506802,  8.39071479,  4.03007757, 10.05108673,\n",
       "        8.64735586, 11.5628486 ,  4.41211099,  3.78798722,  7.71807057,\n",
       "        3.3898709 ,  8.93264207,  7.87357865,  5.62724697,  1.9984924 ,\n",
       "        7.55656036, 11.4619633 ,  7.7766344 , 10.18271362,  5.45828382,\n",
       "        3.37153374,  5.51001828,  3.45184006,  4.49829826,  9.92151031,\n",
       "        8.07246926, 10.93671051,  3.30615456, 10.4041151 ,  3.60968255,\n",
       "        7.78373861,  7.16325272,  0.83577718,  8.91867962, 12.83177876,\n",
       "       -1.71606941])"
      ]
     },
     "execution_count": 140,
     "metadata": {},
     "output_type": "execute_result"
    }
   ],
   "source": [
    "#predictin the Y value for the test data\n",
    "y_pred=ml.predict(x_test)\n",
    "y_pred"
   ]
  },
  {
   "cell_type": "code",
   "execution_count": 141,
   "metadata": {},
   "outputs": [
    {
     "data": {
      "text/plain": [
       "array([  8,   7,   5,   0,   2,  10,   5,   0,  10,   1,   6,   7,   1,\n",
       "         5,  35,   4,  33,   3,   1,   9,  21,   0,   0,   0,   0,   0,\n",
       "         1,   3,   0,   5,  10,   3,   3,  29,  14,   0,   7,   3,   6,\n",
       "        21,   5,   9,   5,  24,  29,  16,   0,   6,   0,   6,   8,  44,\n",
       "         0,   9,  20,   7,   2,  21,  28,   0,  11,   0,   4,  13,   2,\n",
       "        11,   0,  23,   0,   2,   0,   4,   2,   6,   2,   2,   5,   5,\n",
       "         0,   7,  28,   1,  10,   9,   0,   0,   6,  11,  17,   2,  16,\n",
       "         5,   4,  12,  37,   1,   6, 116,  11,  58,   2,   5,  16,   8,\n",
       "         0,   1,   9,   9,   4,   1,   0,   6,   1,   6,   4,   0,   5,\n",
       "         3,   4,   0,   0,  11,   3,   3,  11,   0,   6,  25,   0,   4,\n",
       "         5,  34,   0,   7,   5,   5,  35,   1,  10,   0,   0,   1,   2,\n",
       "         7,   5,   3,   0,   3,   6,   0,   1,   0,   0,   6,  19,   3],\n",
       "      dtype=int64)"
      ]
     },
     "execution_count": 141,
     "metadata": {},
     "output_type": "execute_result"
    }
   ],
   "source": [
    "(y_test)"
   ]
  },
  {
   "cell_type": "code",
   "execution_count": 142,
   "metadata": {},
   "outputs": [
    {
     "data": {
      "text/plain": [
       "6.902117477911326"
      ]
     },
     "execution_count": 142,
     "metadata": {},
     "output_type": "execute_result"
    }
   ],
   "source": [
    "from sklearn import metrics\n",
    "metrics.mean_absolute_error(y_test, y_pred)"
   ]
  },
  {
   "cell_type": "code",
   "execution_count": 143,
   "metadata": {},
   "outputs": [
    {
     "data": {
      "text/plain": [
       "162.9446537082377"
      ]
     },
     "execution_count": 143,
     "metadata": {},
     "output_type": "execute_result"
    }
   ],
   "source": [
    "metrics.mean_squared_error(y_test, y_pred)"
   ]
  },
  {
   "cell_type": "code",
   "execution_count": 144,
   "metadata": {},
   "outputs": [
    {
     "data": {
      "text/plain": [
       "12.764977622708066"
      ]
     },
     "execution_count": 144,
     "metadata": {},
     "output_type": "execute_result"
    }
   ],
   "source": [
    "np.sqrt(metrics.mean_squared_error(y_test, y_pred))"
   ]
  },
  {
   "cell_type": "code",
   "execution_count": 145,
   "metadata": {},
   "outputs": [],
   "source": [
    "#round_to_tenths = [round(num, 0) for num in y_pred]\n",
    "#round_to_tenths "
   ]
  },
  {
   "cell_type": "code",
   "execution_count": 146,
   "metadata": {},
   "outputs": [
    {
     "name": "stdout",
     "output_type": "stream",
     "text": [
      "<class 'pandas.core.frame.DataFrame'>\n",
      "Int64Index: 936 entries, 0 to 935\n",
      "Data columns (total 25 columns):\n",
      "city                                     936 non-null object\n",
      "year                                     936 non-null int64\n",
      "weekofyear                               936 non-null int64\n",
      "week_start_date                          936 non-null object\n",
      "ndvi_ne                                  936 non-null float64\n",
      "ndvi_nw                                  936 non-null float64\n",
      "ndvi_se                                  936 non-null float64\n",
      "ndvi_sw                                  936 non-null float64\n",
      "precipitation_amt_mm                     936 non-null float64\n",
      "reanalysis_air_temp_k                    936 non-null float64\n",
      "reanalysis_avg_temp_k                    936 non-null float64\n",
      "reanalysis_dew_point_temp_k              936 non-null float64\n",
      "reanalysis_max_air_temp_k                936 non-null float64\n",
      "reanalysis_min_air_temp_k                936 non-null float64\n",
      "reanalysis_precip_amt_kg_per_m2          936 non-null float64\n",
      "reanalysis_relative_humidity_percent     936 non-null float64\n",
      "reanalysis_sat_precip_amt_mm             936 non-null float64\n",
      "reanalysis_specific_humidity_g_per_kg    936 non-null float64\n",
      "reanalysis_tdtr_k                        936 non-null float64\n",
      "station_avg_temp_c                       936 non-null float64\n",
      "station_diur_temp_rng_c                  936 non-null float64\n",
      "station_max_temp_c                       936 non-null float64\n",
      "station_min_temp_c                       936 non-null float64\n",
      "station_precip_mm                        936 non-null float64\n",
      "Total_Cases                              936 non-null int64\n",
      "dtypes: float64(20), int64(3), object(2)\n",
      "memory usage: 230.1+ KB\n"
     ]
    }
   ],
   "source": [
    "dn_sj.info()"
   ]
  },
  {
   "cell_type": "code",
   "execution_count": 74,
   "metadata": {},
   "outputs": [],
   "source": [
    "from statsmodels.stats.anova import anova_lm"
   ]
  },
  {
   "cell_type": "code",
   "execution_count": 75,
   "metadata": {},
   "outputs": [
    {
     "data": {
      "text/plain": [
       "Index(['city', 'year', 'weekofyear', 'week_start_date', 'ndvi_ne', 'ndvi_nw',\n",
       "       'ndvi_se', 'ndvi_sw', 'precipitation_amt_mm', 'reanalysis_air_temp_k',\n",
       "       'reanalysis_avg_temp_k', 'reanalysis_dew_point_temp_k',\n",
       "       'reanalysis_max_air_temp_k', 'reanalysis_min_air_temp_k',\n",
       "       'reanalysis_precip_amt_kg_per_m2',\n",
       "       'reanalysis_relative_humidity_percent', 'reanalysis_sat_precip_amt_mm',\n",
       "       'reanalysis_specific_humidity_g_per_kg', 'reanalysis_tdtr_k',\n",
       "       'station_avg_temp_c', 'station_diur_temp_rng_c', 'station_max_temp_c',\n",
       "       'station_min_temp_c', 'station_precip_mm', 'Total_Cases'],\n",
       "      dtype='object')"
      ]
     },
     "execution_count": 75,
     "metadata": {},
     "output_type": "execute_result"
    }
   ],
   "source": [
    "#Since we are predicting the Total Cases we are droping the Total_cases column as this will be \"Y\" value - Iquitos\n",
    "x1 = dn_iq.drop(['Total_Cases'], axis = 1).values\n",
    "x1\n",
    "dn_iq.columns"
   ]
  },
  {
   "cell_type": "code",
   "execution_count": 76,
   "metadata": {},
   "outputs": [
    {
     "data": {
      "text/plain": [
       "<matplotlib.collections.PathCollection at 0x1eb92e0b108>"
      ]
     },
     "execution_count": 76,
     "metadata": {},
     "output_type": "execute_result"
    },
    {
     "data": {
      "image/png": "[encoded data removed]",
      "text/plain": [
       "<Figure size 432x288 with 1 Axes>"
      ]
     },
     "metadata": {
      "needs_background": "light"
     },
     "output_type": "display_data"
    }
   ],
   "source": [
    "plt.scatter(y_test,y_pred)"
   ]
  },
  {
   "cell_type": "code",
   "execution_count": 77,
   "metadata": {},
   "outputs": [
    {
     "data": {
      "text/plain": [
       "<matplotlib.axes._subplots.AxesSubplot at 0x1eb92dcdbc8>"
      ]
     },
     "execution_count": 77,
     "metadata": {},
     "output_type": "execute_result"
    },
    {
     "data": {
      "image/png": "[encoded data removed]",
      "text/plain": [
       "<Figure size 432x288 with 1 Axes>"
      ]
     },
     "metadata": {
      "needs_background": "light"
     },
     "output_type": "display_data"
    }
   ],
   "source": [
    "sns.distplot(y_test-y_pred)"
   ]
  },
  {
   "cell_type": "code",
   "execution_count": null,
   "metadata": {},
   "outputs": [],
   "source": []
  }
 ],
 "metadata": {
  "kernelspec": {
   "display_name": "Python 3",
   "language": "python",
   "name": "python3"
  },
  "language_info": {
   "codemirror_mode": {
    "name": "ipython",
    "version": 3
   },
   "file_extension": ".py",
   "mimetype": "text/x-python",
   "name": "python",
   "nbconvert_exporter": "python",
   "pygments_lexer": "ipython3",
   "version": "3.7.4"
  }
 },
 "nbformat": 4,
 "nbformat_minor": 4
}
