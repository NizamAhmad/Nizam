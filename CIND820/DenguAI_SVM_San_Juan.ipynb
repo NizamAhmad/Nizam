{
 "cells": [
  {
   "cell_type": "code",
   "execution_count": 1,
   "metadata": {},
   "outputs": [],
   "source": [
    "#importing the python libraries for ML\n",
    "import pandas as pd\n",
    "import numpy as np\n",
    "import matplotlib.pyplot as plt\n",
    "import seaborn as sns\n",
    "%matplotlib inline"
   ]
  },
  {
   "cell_type": "code",
   "execution_count": 2,
   "metadata": {},
   "outputs": [],
   "source": [
    "# Reading the training file\n",
    "RawData= pd.read_csv('DengAI_Predicting_Disease_Spread_-_Training_Data_Features.csv')"
   ]
  },
  {
   "cell_type": "code",
   "execution_count": 3,
   "metadata": {},
   "outputs": [
    {
     "data": {
      "text/html": [
       "<div>\n",
       "<style scoped>\n",
       "    .dataframe tbody tr th:only-of-type {\n",
       "        vertical-align: middle;\n",
       "    }\n",
       "\n",
       "    .dataframe tbody tr th {\n",
       "        vertical-align: top;\n",
       "    }\n",
       "\n",
       "    .dataframe thead th {\n",
       "        text-align: right;\n",
       "    }\n",
       "</style>\n",
       "<table border=\"1\" class=\"dataframe\">\n",
       "  <thead>\n",
       "    <tr style=\"text-align: right;\">\n",
       "      <th></th>\n",
       "      <th>city</th>\n",
       "      <th>year</th>\n",
       "      <th>weekofyear</th>\n",
       "      <th>total_cases</th>\n",
       "    </tr>\n",
       "  </thead>\n",
       "  <tbody>\n",
       "    <tr>\n",
       "      <td>0</td>\n",
       "      <td>sj</td>\n",
       "      <td>1990</td>\n",
       "      <td>18</td>\n",
       "      <td>4</td>\n",
       "    </tr>\n",
       "    <tr>\n",
       "      <td>1</td>\n",
       "      <td>sj</td>\n",
       "      <td>1990</td>\n",
       "      <td>19</td>\n",
       "      <td>5</td>\n",
       "    </tr>\n",
       "    <tr>\n",
       "      <td>2</td>\n",
       "      <td>sj</td>\n",
       "      <td>1990</td>\n",
       "      <td>20</td>\n",
       "      <td>4</td>\n",
       "    </tr>\n",
       "    <tr>\n",
       "      <td>3</td>\n",
       "      <td>sj</td>\n",
       "      <td>1990</td>\n",
       "      <td>21</td>\n",
       "      <td>3</td>\n",
       "    </tr>\n",
       "    <tr>\n",
       "      <td>4</td>\n",
       "      <td>sj</td>\n",
       "      <td>1990</td>\n",
       "      <td>22</td>\n",
       "      <td>6</td>\n",
       "    </tr>\n",
       "    <tr>\n",
       "      <td>5</td>\n",
       "      <td>sj</td>\n",
       "      <td>1990</td>\n",
       "      <td>23</td>\n",
       "      <td>2</td>\n",
       "    </tr>\n",
       "    <tr>\n",
       "      <td>6</td>\n",
       "      <td>sj</td>\n",
       "      <td>1990</td>\n",
       "      <td>24</td>\n",
       "      <td>4</td>\n",
       "    </tr>\n",
       "    <tr>\n",
       "      <td>7</td>\n",
       "      <td>sj</td>\n",
       "      <td>1990</td>\n",
       "      <td>25</td>\n",
       "      <td>5</td>\n",
       "    </tr>\n",
       "    <tr>\n",
       "      <td>8</td>\n",
       "      <td>sj</td>\n",
       "      <td>1990</td>\n",
       "      <td>26</td>\n",
       "      <td>10</td>\n",
       "    </tr>\n",
       "    <tr>\n",
       "      <td>9</td>\n",
       "      <td>sj</td>\n",
       "      <td>1990</td>\n",
       "      <td>27</td>\n",
       "      <td>6</td>\n",
       "    </tr>\n",
       "  </tbody>\n",
       "</table>\n",
       "</div>"
      ],
      "text/plain": [
       "  city  year  weekofyear  total_cases\n",
       "0   sj  1990          18            4\n",
       "1   sj  1990          19            5\n",
       "2   sj  1990          20            4\n",
       "3   sj  1990          21            3\n",
       "4   sj  1990          22            6\n",
       "5   sj  1990          23            2\n",
       "6   sj  1990          24            4\n",
       "7   sj  1990          25            5\n",
       "8   sj  1990          26           10\n",
       "9   sj  1990          27            6"
      ]
     },
     "execution_count": 3,
     "metadata": {},
     "output_type": "execute_result"
    }
   ],
   "source": [
    "#Importing Total number of cases from the Total cases file\n",
    "dn_cases= pd.read_csv('DengAI_Predicting_Disease_Spread_-_Training_Data_Labels.csv')\n",
    "dn_cases.head(10)"
   ]
  },
  {
   "cell_type": "code",
   "execution_count": 4,
   "metadata": {},
   "outputs": [],
   "source": [
    "#importing the Test Data\n",
    "#TestData = pd.read_csv('DengAI_Predicting_Disease_Spread_-_Test_Data_Features.csv')"
   ]
  },
  {
   "cell_type": "code",
   "execution_count": 5,
   "metadata": {},
   "outputs": [
    {
     "data": {
      "text/html": [
       "<div>\n",
       "<style scoped>\n",
       "    .dataframe tbody tr th:only-of-type {\n",
       "        vertical-align: middle;\n",
       "    }\n",
       "\n",
       "    .dataframe tbody tr th {\n",
       "        vertical-align: top;\n",
       "    }\n",
       "\n",
       "    .dataframe thead th {\n",
       "        text-align: right;\n",
       "    }\n",
       "</style>\n",
       "<table border=\"1\" class=\"dataframe\">\n",
       "  <thead>\n",
       "    <tr style=\"text-align: right;\">\n",
       "      <th></th>\n",
       "      <th>city</th>\n",
       "      <th>year</th>\n",
       "      <th>weekofyear</th>\n",
       "      <th>week_start_date</th>\n",
       "      <th>ndvi_ne</th>\n",
       "      <th>ndvi_nw</th>\n",
       "      <th>ndvi_se</th>\n",
       "      <th>ndvi_sw</th>\n",
       "      <th>precipitation_amt_mm</th>\n",
       "      <th>reanalysis_air_temp_k</th>\n",
       "      <th>...</th>\n",
       "      <th>reanalysis_precip_amt_kg_per_m2</th>\n",
       "      <th>reanalysis_relative_humidity_percent</th>\n",
       "      <th>reanalysis_sat_precip_amt_mm</th>\n",
       "      <th>reanalysis_specific_humidity_g_per_kg</th>\n",
       "      <th>reanalysis_tdtr_k</th>\n",
       "      <th>station_avg_temp_c</th>\n",
       "      <th>station_diur_temp_rng_c</th>\n",
       "      <th>station_max_temp_c</th>\n",
       "      <th>station_min_temp_c</th>\n",
       "      <th>station_precip_mm</th>\n",
       "    </tr>\n",
       "  </thead>\n",
       "  <tbody>\n",
       "    <tr>\n",
       "      <td>0</td>\n",
       "      <td>sj</td>\n",
       "      <td>1990</td>\n",
       "      <td>18</td>\n",
       "      <td>1990-04-30</td>\n",
       "      <td>0.122600</td>\n",
       "      <td>0.103725</td>\n",
       "      <td>0.198483</td>\n",
       "      <td>0.177617</td>\n",
       "      <td>12.42</td>\n",
       "      <td>297.572857</td>\n",
       "      <td>...</td>\n",
       "      <td>32.00</td>\n",
       "      <td>73.365714</td>\n",
       "      <td>12.42</td>\n",
       "      <td>14.012857</td>\n",
       "      <td>2.628571</td>\n",
       "      <td>25.442857</td>\n",
       "      <td>6.900000</td>\n",
       "      <td>29.4</td>\n",
       "      <td>20.0</td>\n",
       "      <td>16.0</td>\n",
       "    </tr>\n",
       "    <tr>\n",
       "      <td>1</td>\n",
       "      <td>sj</td>\n",
       "      <td>1990</td>\n",
       "      <td>19</td>\n",
       "      <td>1990-05-07</td>\n",
       "      <td>0.169900</td>\n",
       "      <td>0.142175</td>\n",
       "      <td>0.162357</td>\n",
       "      <td>0.155486</td>\n",
       "      <td>22.82</td>\n",
       "      <td>298.211429</td>\n",
       "      <td>...</td>\n",
       "      <td>17.94</td>\n",
       "      <td>77.368571</td>\n",
       "      <td>22.82</td>\n",
       "      <td>15.372857</td>\n",
       "      <td>2.371429</td>\n",
       "      <td>26.714286</td>\n",
       "      <td>6.371429</td>\n",
       "      <td>31.7</td>\n",
       "      <td>22.2</td>\n",
       "      <td>8.6</td>\n",
       "    </tr>\n",
       "    <tr>\n",
       "      <td>2</td>\n",
       "      <td>sj</td>\n",
       "      <td>1990</td>\n",
       "      <td>20</td>\n",
       "      <td>1990-05-14</td>\n",
       "      <td>0.032250</td>\n",
       "      <td>0.172967</td>\n",
       "      <td>0.157200</td>\n",
       "      <td>0.170843</td>\n",
       "      <td>34.54</td>\n",
       "      <td>298.781429</td>\n",
       "      <td>...</td>\n",
       "      <td>26.10</td>\n",
       "      <td>82.052857</td>\n",
       "      <td>34.54</td>\n",
       "      <td>16.848571</td>\n",
       "      <td>2.300000</td>\n",
       "      <td>26.714286</td>\n",
       "      <td>6.485714</td>\n",
       "      <td>32.2</td>\n",
       "      <td>22.8</td>\n",
       "      <td>41.4</td>\n",
       "    </tr>\n",
       "    <tr>\n",
       "      <td>3</td>\n",
       "      <td>sj</td>\n",
       "      <td>1990</td>\n",
       "      <td>21</td>\n",
       "      <td>1990-05-21</td>\n",
       "      <td>0.128633</td>\n",
       "      <td>0.245067</td>\n",
       "      <td>0.227557</td>\n",
       "      <td>0.235886</td>\n",
       "      <td>15.36</td>\n",
       "      <td>298.987143</td>\n",
       "      <td>...</td>\n",
       "      <td>13.90</td>\n",
       "      <td>80.337143</td>\n",
       "      <td>15.36</td>\n",
       "      <td>16.672857</td>\n",
       "      <td>2.428571</td>\n",
       "      <td>27.471429</td>\n",
       "      <td>6.771429</td>\n",
       "      <td>33.3</td>\n",
       "      <td>23.3</td>\n",
       "      <td>4.0</td>\n",
       "    </tr>\n",
       "    <tr>\n",
       "      <td>4</td>\n",
       "      <td>sj</td>\n",
       "      <td>1990</td>\n",
       "      <td>22</td>\n",
       "      <td>1990-05-28</td>\n",
       "      <td>0.196200</td>\n",
       "      <td>0.262200</td>\n",
       "      <td>0.251200</td>\n",
       "      <td>0.247340</td>\n",
       "      <td>7.52</td>\n",
       "      <td>299.518571</td>\n",
       "      <td>...</td>\n",
       "      <td>12.20</td>\n",
       "      <td>80.460000</td>\n",
       "      <td>7.52</td>\n",
       "      <td>17.210000</td>\n",
       "      <td>3.014286</td>\n",
       "      <td>28.942857</td>\n",
       "      <td>9.371429</td>\n",
       "      <td>35.0</td>\n",
       "      <td>23.9</td>\n",
       "      <td>5.8</td>\n",
       "    </tr>\n",
       "  </tbody>\n",
       "</table>\n",
       "<p>5 rows × 24 columns</p>\n",
       "</div>"
      ],
      "text/plain": [
       "  city  year  weekofyear week_start_date   ndvi_ne   ndvi_nw   ndvi_se  \\\n",
       "0   sj  1990          18      1990-04-30  0.122600  0.103725  0.198483   \n",
       "1   sj  1990          19      1990-05-07  0.169900  0.142175  0.162357   \n",
       "2   sj  1990          20      1990-05-14  0.032250  0.172967  0.157200   \n",
       "3   sj  1990          21      1990-05-21  0.128633  0.245067  0.227557   \n",
       "4   sj  1990          22      1990-05-28  0.196200  0.262200  0.251200   \n",
       "\n",
       "    ndvi_sw  precipitation_amt_mm  reanalysis_air_temp_k  ...  \\\n",
       "0  0.177617                 12.42             297.572857  ...   \n",
       "1  0.155486                 22.82             298.211429  ...   \n",
       "2  0.170843                 34.54             298.781429  ...   \n",
       "3  0.235886                 15.36             298.987143  ...   \n",
       "4  0.247340                  7.52             299.518571  ...   \n",
       "\n",
       "   reanalysis_precip_amt_kg_per_m2  reanalysis_relative_humidity_percent  \\\n",
       "0                            32.00                             73.365714   \n",
       "1                            17.94                             77.368571   \n",
       "2                            26.10                             82.052857   \n",
       "3                            13.90                             80.337143   \n",
       "4                            12.20                             80.460000   \n",
       "\n",
       "   reanalysis_sat_precip_amt_mm  reanalysis_specific_humidity_g_per_kg  \\\n",
       "0                         12.42                              14.012857   \n",
       "1                         22.82                              15.372857   \n",
       "2                         34.54                              16.848571   \n",
       "3                         15.36                              16.672857   \n",
       "4                          7.52                              17.210000   \n",
       "\n",
       "   reanalysis_tdtr_k  station_avg_temp_c  station_diur_temp_rng_c  \\\n",
       "0           2.628571           25.442857                 6.900000   \n",
       "1           2.371429           26.714286                 6.371429   \n",
       "2           2.300000           26.714286                 6.485714   \n",
       "3           2.428571           27.471429                 6.771429   \n",
       "4           3.014286           28.942857                 9.371429   \n",
       "\n",
       "   station_max_temp_c  station_min_temp_c  station_precip_mm  \n",
       "0                29.4                20.0               16.0  \n",
       "1                31.7                22.2                8.6  \n",
       "2                32.2                22.8               41.4  \n",
       "3                33.3                23.3                4.0  \n",
       "4                35.0                23.9                5.8  \n",
       "\n",
       "[5 rows x 24 columns]"
      ]
     },
     "execution_count": 5,
     "metadata": {},
     "output_type": "execute_result"
    }
   ],
   "source": [
    "RawData.head(5)"
   ]
  },
  {
   "cell_type": "code",
   "execution_count": 6,
   "metadata": {},
   "outputs": [],
   "source": [
    "#TestData.head(5)"
   ]
  },
  {
   "cell_type": "code",
   "execution_count": 7,
   "metadata": {},
   "outputs": [
    {
     "data": {
      "text/plain": [
       "city                                     1456\n",
       "year                                     1456\n",
       "weekofyear                               1456\n",
       "week_start_date                          1456\n",
       "ndvi_ne                                  1262\n",
       "ndvi_nw                                  1404\n",
       "ndvi_se                                  1434\n",
       "ndvi_sw                                  1434\n",
       "precipitation_amt_mm                     1443\n",
       "reanalysis_air_temp_k                    1446\n",
       "reanalysis_avg_temp_k                    1446\n",
       "reanalysis_dew_point_temp_k              1446\n",
       "reanalysis_max_air_temp_k                1446\n",
       "reanalysis_min_air_temp_k                1446\n",
       "reanalysis_precip_amt_kg_per_m2          1446\n",
       "reanalysis_relative_humidity_percent     1446\n",
       "reanalysis_sat_precip_amt_mm             1443\n",
       "reanalysis_specific_humidity_g_per_kg    1446\n",
       "reanalysis_tdtr_k                        1446\n",
       "station_avg_temp_c                       1413\n",
       "station_diur_temp_rng_c                  1413\n",
       "station_max_temp_c                       1436\n",
       "station_min_temp_c                       1442\n",
       "station_precip_mm                        1434\n",
       "dtype: int64"
      ]
     },
     "execution_count": 7,
     "metadata": {},
     "output_type": "execute_result"
    }
   ],
   "source": [
    "RawData.count()"
   ]
  },
  {
   "cell_type": "code",
   "execution_count": 8,
   "metadata": {},
   "outputs": [],
   "source": [
    "#RawData = pd.concat([RawData1,TestData], axis = 0) \n",
    "#RawData.tail(10)"
   ]
  },
  {
   "cell_type": "code",
   "execution_count": 9,
   "metadata": {},
   "outputs": [
    {
     "data": {
      "text/plain": [
       "city                                     1456\n",
       "year                                     1456\n",
       "weekofyear                               1456\n",
       "week_start_date                          1456\n",
       "ndvi_ne                                  1262\n",
       "ndvi_nw                                  1404\n",
       "ndvi_se                                  1434\n",
       "ndvi_sw                                  1434\n",
       "precipitation_amt_mm                     1443\n",
       "reanalysis_air_temp_k                    1446\n",
       "reanalysis_avg_temp_k                    1446\n",
       "reanalysis_dew_point_temp_k              1446\n",
       "reanalysis_max_air_temp_k                1446\n",
       "reanalysis_min_air_temp_k                1446\n",
       "reanalysis_precip_amt_kg_per_m2          1446\n",
       "reanalysis_relative_humidity_percent     1446\n",
       "reanalysis_sat_precip_amt_mm             1443\n",
       "reanalysis_specific_humidity_g_per_kg    1446\n",
       "reanalysis_tdtr_k                        1446\n",
       "station_avg_temp_c                       1413\n",
       "station_diur_temp_rng_c                  1413\n",
       "station_max_temp_c                       1436\n",
       "station_min_temp_c                       1442\n",
       "station_precip_mm                        1434\n",
       "Total_Cases                              1456\n",
       "dtype: int64"
      ]
     },
     "execution_count": 9,
     "metadata": {},
     "output_type": "execute_result"
    }
   ],
   "source": [
    "# Importing the Total Number of cases \n",
    "RawData['Total_Cases'] = dn_cases['total_cases']\n",
    "RawData.count()"
   ]
  },
  {
   "cell_type": "code",
   "execution_count": 10,
   "metadata": {},
   "outputs": [
    {
     "data": {
      "text/plain": [
       "city                                             sj\n",
       "year                                           2008\n",
       "weekofyear                                       17\n",
       "week_start_date                          2008-04-22\n",
       "ndvi_ne                                      -0.037\n",
       "ndvi_nw                                  -0.0103667\n",
       "ndvi_se                                   0.0773143\n",
       "ndvi_sw                                   0.0905857\n",
       "precipitation_amt_mm                              0\n",
       "reanalysis_air_temp_k                       298.673\n",
       "reanalysis_avg_temp_k                       298.693\n",
       "reanalysis_dew_point_temp_k                  294.28\n",
       "reanalysis_max_air_temp_k                     300.9\n",
       "reanalysis_min_air_temp_k                     295.9\n",
       "reanalysis_precip_amt_kg_per_m2                2.17\n",
       "reanalysis_relative_humidity_percent          76.96\n",
       "reanalysis_sat_precip_amt_mm                      0\n",
       "reanalysis_specific_humidity_g_per_kg       15.6714\n",
       "reanalysis_tdtr_k                           3.95714\n",
       "station_avg_temp_c                          27.0429\n",
       "station_diur_temp_rng_c                     7.51429\n",
       "station_max_temp_c                             31.7\n",
       "station_min_temp_c                             23.3\n",
       "station_precip_mm                               0.3\n",
       "Total_Cases                                       5\n",
       "Name: 935, dtype: object"
      ]
     },
     "execution_count": 10,
     "metadata": {},
     "output_type": "execute_result"
    }
   ],
   "source": [
    "# Spliting the  Cities, San Juan and Iquitos.\n",
    "#dn_sj represents San Juan\n",
    "dn_sj = RawData[RawData['city']=='sj']\n",
    "dn_sj.iloc[935]"
   ]
  },
  {
   "cell_type": "code",
   "execution_count": 11,
   "metadata": {},
   "outputs": [
    {
     "data": {
      "text/html": [
       "<div>\n",
       "<style scoped>\n",
       "    .dataframe tbody tr th:only-of-type {\n",
       "        vertical-align: middle;\n",
       "    }\n",
       "\n",
       "    .dataframe tbody tr th {\n",
       "        vertical-align: top;\n",
       "    }\n",
       "\n",
       "    .dataframe thead th {\n",
       "        text-align: right;\n",
       "    }\n",
       "</style>\n",
       "<table border=\"1\" class=\"dataframe\">\n",
       "  <thead>\n",
       "    <tr style=\"text-align: right;\">\n",
       "      <th></th>\n",
       "      <th>city</th>\n",
       "      <th>year</th>\n",
       "      <th>weekofyear</th>\n",
       "      <th>week_start_date</th>\n",
       "      <th>ndvi_ne</th>\n",
       "      <th>ndvi_nw</th>\n",
       "      <th>ndvi_se</th>\n",
       "      <th>ndvi_sw</th>\n",
       "      <th>precipitation_amt_mm</th>\n",
       "      <th>reanalysis_air_temp_k</th>\n",
       "      <th>...</th>\n",
       "      <th>reanalysis_relative_humidity_percent</th>\n",
       "      <th>reanalysis_sat_precip_amt_mm</th>\n",
       "      <th>reanalysis_specific_humidity_g_per_kg</th>\n",
       "      <th>reanalysis_tdtr_k</th>\n",
       "      <th>station_avg_temp_c</th>\n",
       "      <th>station_diur_temp_rng_c</th>\n",
       "      <th>station_max_temp_c</th>\n",
       "      <th>station_min_temp_c</th>\n",
       "      <th>station_precip_mm</th>\n",
       "      <th>Total_Cases</th>\n",
       "    </tr>\n",
       "  </thead>\n",
       "  <tbody>\n",
       "    <tr>\n",
       "      <td>936</td>\n",
       "      <td>iq</td>\n",
       "      <td>2000</td>\n",
       "      <td>26</td>\n",
       "      <td>2000-07-01</td>\n",
       "      <td>0.192886</td>\n",
       "      <td>0.132257</td>\n",
       "      <td>0.340886</td>\n",
       "      <td>0.247200</td>\n",
       "      <td>25.41</td>\n",
       "      <td>296.740000</td>\n",
       "      <td>...</td>\n",
       "      <td>92.418571</td>\n",
       "      <td>25.41</td>\n",
       "      <td>16.651429</td>\n",
       "      <td>8.928571</td>\n",
       "      <td>26.400000</td>\n",
       "      <td>10.775000</td>\n",
       "      <td>32.5</td>\n",
       "      <td>20.7</td>\n",
       "      <td>3.0</td>\n",
       "      <td>0</td>\n",
       "    </tr>\n",
       "    <tr>\n",
       "      <td>937</td>\n",
       "      <td>iq</td>\n",
       "      <td>2000</td>\n",
       "      <td>27</td>\n",
       "      <td>2000-07-08</td>\n",
       "      <td>0.216833</td>\n",
       "      <td>0.276100</td>\n",
       "      <td>0.289457</td>\n",
       "      <td>0.241657</td>\n",
       "      <td>60.61</td>\n",
       "      <td>296.634286</td>\n",
       "      <td>...</td>\n",
       "      <td>93.581429</td>\n",
       "      <td>60.61</td>\n",
       "      <td>16.862857</td>\n",
       "      <td>10.314286</td>\n",
       "      <td>26.900000</td>\n",
       "      <td>11.566667</td>\n",
       "      <td>34.0</td>\n",
       "      <td>20.8</td>\n",
       "      <td>55.6</td>\n",
       "      <td>0</td>\n",
       "    </tr>\n",
       "    <tr>\n",
       "      <td>938</td>\n",
       "      <td>iq</td>\n",
       "      <td>2000</td>\n",
       "      <td>28</td>\n",
       "      <td>2000-07-15</td>\n",
       "      <td>0.176757</td>\n",
       "      <td>0.173129</td>\n",
       "      <td>0.204114</td>\n",
       "      <td>0.128014</td>\n",
       "      <td>55.52</td>\n",
       "      <td>296.415714</td>\n",
       "      <td>...</td>\n",
       "      <td>95.848571</td>\n",
       "      <td>55.52</td>\n",
       "      <td>17.120000</td>\n",
       "      <td>7.385714</td>\n",
       "      <td>26.800000</td>\n",
       "      <td>11.466667</td>\n",
       "      <td>33.0</td>\n",
       "      <td>20.7</td>\n",
       "      <td>38.1</td>\n",
       "      <td>0</td>\n",
       "    </tr>\n",
       "    <tr>\n",
       "      <td>939</td>\n",
       "      <td>iq</td>\n",
       "      <td>2000</td>\n",
       "      <td>29</td>\n",
       "      <td>2000-07-22</td>\n",
       "      <td>0.227729</td>\n",
       "      <td>0.145429</td>\n",
       "      <td>0.254200</td>\n",
       "      <td>0.200314</td>\n",
       "      <td>5.60</td>\n",
       "      <td>295.357143</td>\n",
       "      <td>...</td>\n",
       "      <td>87.234286</td>\n",
       "      <td>5.60</td>\n",
       "      <td>14.431429</td>\n",
       "      <td>9.114286</td>\n",
       "      <td>25.766667</td>\n",
       "      <td>10.533333</td>\n",
       "      <td>31.5</td>\n",
       "      <td>14.7</td>\n",
       "      <td>30.0</td>\n",
       "      <td>0</td>\n",
       "    </tr>\n",
       "    <tr>\n",
       "      <td>940</td>\n",
       "      <td>iq</td>\n",
       "      <td>2000</td>\n",
       "      <td>30</td>\n",
       "      <td>2000-07-29</td>\n",
       "      <td>0.328643</td>\n",
       "      <td>0.322129</td>\n",
       "      <td>0.254371</td>\n",
       "      <td>0.361043</td>\n",
       "      <td>62.76</td>\n",
       "      <td>296.432857</td>\n",
       "      <td>...</td>\n",
       "      <td>88.161429</td>\n",
       "      <td>62.76</td>\n",
       "      <td>15.444286</td>\n",
       "      <td>9.500000</td>\n",
       "      <td>26.600000</td>\n",
       "      <td>11.480000</td>\n",
       "      <td>33.3</td>\n",
       "      <td>19.1</td>\n",
       "      <td>4.0</td>\n",
       "      <td>0</td>\n",
       "    </tr>\n",
       "  </tbody>\n",
       "</table>\n",
       "<p>5 rows × 25 columns</p>\n",
       "</div>"
      ],
      "text/plain": [
       "    city  year  weekofyear week_start_date   ndvi_ne   ndvi_nw   ndvi_se  \\\n",
       "936   iq  2000          26      2000-07-01  0.192886  0.132257  0.340886   \n",
       "937   iq  2000          27      2000-07-08  0.216833  0.276100  0.289457   \n",
       "938   iq  2000          28      2000-07-15  0.176757  0.173129  0.204114   \n",
       "939   iq  2000          29      2000-07-22  0.227729  0.145429  0.254200   \n",
       "940   iq  2000          30      2000-07-29  0.328643  0.322129  0.254371   \n",
       "\n",
       "      ndvi_sw  precipitation_amt_mm  reanalysis_air_temp_k  ...  \\\n",
       "936  0.247200                 25.41             296.740000  ...   \n",
       "937  0.241657                 60.61             296.634286  ...   \n",
       "938  0.128014                 55.52             296.415714  ...   \n",
       "939  0.200314                  5.60             295.357143  ...   \n",
       "940  0.361043                 62.76             296.432857  ...   \n",
       "\n",
       "     reanalysis_relative_humidity_percent  reanalysis_sat_precip_amt_mm  \\\n",
       "936                             92.418571                         25.41   \n",
       "937                             93.581429                         60.61   \n",
       "938                             95.848571                         55.52   \n",
       "939                             87.234286                          5.60   \n",
       "940                             88.161429                         62.76   \n",
       "\n",
       "     reanalysis_specific_humidity_g_per_kg  reanalysis_tdtr_k  \\\n",
       "936                              16.651429           8.928571   \n",
       "937                              16.862857          10.314286   \n",
       "938                              17.120000           7.385714   \n",
       "939                              14.431429           9.114286   \n",
       "940                              15.444286           9.500000   \n",
       "\n",
       "     station_avg_temp_c  station_diur_temp_rng_c  station_max_temp_c  \\\n",
       "936           26.400000                10.775000                32.5   \n",
       "937           26.900000                11.566667                34.0   \n",
       "938           26.800000                11.466667                33.0   \n",
       "939           25.766667                10.533333                31.5   \n",
       "940           26.600000                11.480000                33.3   \n",
       "\n",
       "     station_min_temp_c  station_precip_mm  Total_Cases  \n",
       "936                20.7                3.0            0  \n",
       "937                20.8               55.6            0  \n",
       "938                20.7               38.1            0  \n",
       "939                14.7               30.0            0  \n",
       "940                19.1                4.0            0  \n",
       "\n",
       "[5 rows x 25 columns]"
      ]
     },
     "execution_count": 11,
     "metadata": {},
     "output_type": "execute_result"
    }
   ],
   "source": [
    "#dn_iq represents Iquitos\n",
    "dn_iq = RawData[RawData['city']=='iq']\n",
    "dn_iq.head(5)"
   ]
  },
  {
   "cell_type": "code",
   "execution_count": 12,
   "metadata": {},
   "outputs": [
    {
     "data": {
      "text/html": [
       "<div>\n",
       "<style scoped>\n",
       "    .dataframe tbody tr th:only-of-type {\n",
       "        vertical-align: middle;\n",
       "    }\n",
       "\n",
       "    .dataframe tbody tr th {\n",
       "        vertical-align: top;\n",
       "    }\n",
       "\n",
       "    .dataframe thead th {\n",
       "        text-align: right;\n",
       "    }\n",
       "</style>\n",
       "<table border=\"1\" class=\"dataframe\">\n",
       "  <thead>\n",
       "    <tr style=\"text-align: right;\">\n",
       "      <th></th>\n",
       "      <th>city</th>\n",
       "      <th>year</th>\n",
       "      <th>weekofyear</th>\n",
       "      <th>week_start_date</th>\n",
       "      <th>ndvi_ne</th>\n",
       "      <th>ndvi_nw</th>\n",
       "      <th>ndvi_se</th>\n",
       "      <th>ndvi_sw</th>\n",
       "      <th>precipitation_amt_mm</th>\n",
       "      <th>reanalysis_air_temp_k</th>\n",
       "      <th>...</th>\n",
       "      <th>reanalysis_relative_humidity_percent</th>\n",
       "      <th>reanalysis_sat_precip_amt_mm</th>\n",
       "      <th>reanalysis_specific_humidity_g_per_kg</th>\n",
       "      <th>reanalysis_tdtr_k</th>\n",
       "      <th>station_avg_temp_c</th>\n",
       "      <th>station_diur_temp_rng_c</th>\n",
       "      <th>station_max_temp_c</th>\n",
       "      <th>station_min_temp_c</th>\n",
       "      <th>station_precip_mm</th>\n",
       "      <th>Total_Cases</th>\n",
       "    </tr>\n",
       "  </thead>\n",
       "  <tbody>\n",
       "    <tr>\n",
       "      <td>0</td>\n",
       "      <td>sj</td>\n",
       "      <td>1990</td>\n",
       "      <td>18</td>\n",
       "      <td>1990-04-30</td>\n",
       "      <td>0.122600</td>\n",
       "      <td>0.103725</td>\n",
       "      <td>0.198483</td>\n",
       "      <td>0.177617</td>\n",
       "      <td>12.42</td>\n",
       "      <td>297.572857</td>\n",
       "      <td>...</td>\n",
       "      <td>73.365714</td>\n",
       "      <td>12.42</td>\n",
       "      <td>14.012857</td>\n",
       "      <td>2.628571</td>\n",
       "      <td>25.442857</td>\n",
       "      <td>6.900000</td>\n",
       "      <td>29.4</td>\n",
       "      <td>20.0</td>\n",
       "      <td>16.0</td>\n",
       "      <td>4</td>\n",
       "    </tr>\n",
       "    <tr>\n",
       "      <td>1</td>\n",
       "      <td>sj</td>\n",
       "      <td>1990</td>\n",
       "      <td>19</td>\n",
       "      <td>1990-05-07</td>\n",
       "      <td>0.169900</td>\n",
       "      <td>0.142175</td>\n",
       "      <td>0.162357</td>\n",
       "      <td>0.155486</td>\n",
       "      <td>22.82</td>\n",
       "      <td>298.211429</td>\n",
       "      <td>...</td>\n",
       "      <td>77.368571</td>\n",
       "      <td>22.82</td>\n",
       "      <td>15.372857</td>\n",
       "      <td>2.371429</td>\n",
       "      <td>26.714286</td>\n",
       "      <td>6.371429</td>\n",
       "      <td>31.7</td>\n",
       "      <td>22.2</td>\n",
       "      <td>8.6</td>\n",
       "      <td>5</td>\n",
       "    </tr>\n",
       "    <tr>\n",
       "      <td>2</td>\n",
       "      <td>sj</td>\n",
       "      <td>1990</td>\n",
       "      <td>20</td>\n",
       "      <td>1990-05-14</td>\n",
       "      <td>0.032250</td>\n",
       "      <td>0.172967</td>\n",
       "      <td>0.157200</td>\n",
       "      <td>0.170843</td>\n",
       "      <td>34.54</td>\n",
       "      <td>298.781429</td>\n",
       "      <td>...</td>\n",
       "      <td>82.052857</td>\n",
       "      <td>34.54</td>\n",
       "      <td>16.848571</td>\n",
       "      <td>2.300000</td>\n",
       "      <td>26.714286</td>\n",
       "      <td>6.485714</td>\n",
       "      <td>32.2</td>\n",
       "      <td>22.8</td>\n",
       "      <td>41.4</td>\n",
       "      <td>4</td>\n",
       "    </tr>\n",
       "    <tr>\n",
       "      <td>3</td>\n",
       "      <td>sj</td>\n",
       "      <td>1990</td>\n",
       "      <td>21</td>\n",
       "      <td>1990-05-21</td>\n",
       "      <td>0.128633</td>\n",
       "      <td>0.245067</td>\n",
       "      <td>0.227557</td>\n",
       "      <td>0.235886</td>\n",
       "      <td>15.36</td>\n",
       "      <td>298.987143</td>\n",
       "      <td>...</td>\n",
       "      <td>80.337143</td>\n",
       "      <td>15.36</td>\n",
       "      <td>16.672857</td>\n",
       "      <td>2.428571</td>\n",
       "      <td>27.471429</td>\n",
       "      <td>6.771429</td>\n",
       "      <td>33.3</td>\n",
       "      <td>23.3</td>\n",
       "      <td>4.0</td>\n",
       "      <td>3</td>\n",
       "    </tr>\n",
       "    <tr>\n",
       "      <td>4</td>\n",
       "      <td>sj</td>\n",
       "      <td>1990</td>\n",
       "      <td>22</td>\n",
       "      <td>1990-05-28</td>\n",
       "      <td>0.196200</td>\n",
       "      <td>0.262200</td>\n",
       "      <td>0.251200</td>\n",
       "      <td>0.247340</td>\n",
       "      <td>7.52</td>\n",
       "      <td>299.518571</td>\n",
       "      <td>...</td>\n",
       "      <td>80.460000</td>\n",
       "      <td>7.52</td>\n",
       "      <td>17.210000</td>\n",
       "      <td>3.014286</td>\n",
       "      <td>28.942857</td>\n",
       "      <td>9.371429</td>\n",
       "      <td>35.0</td>\n",
       "      <td>23.9</td>\n",
       "      <td>5.8</td>\n",
       "      <td>6</td>\n",
       "    </tr>\n",
       "  </tbody>\n",
       "</table>\n",
       "<p>5 rows × 25 columns</p>\n",
       "</div>"
      ],
      "text/plain": [
       "  city  year  weekofyear week_start_date   ndvi_ne   ndvi_nw   ndvi_se  \\\n",
       "0   sj  1990          18      1990-04-30  0.122600  0.103725  0.198483   \n",
       "1   sj  1990          19      1990-05-07  0.169900  0.142175  0.162357   \n",
       "2   sj  1990          20      1990-05-14  0.032250  0.172967  0.157200   \n",
       "3   sj  1990          21      1990-05-21  0.128633  0.245067  0.227557   \n",
       "4   sj  1990          22      1990-05-28  0.196200  0.262200  0.251200   \n",
       "\n",
       "    ndvi_sw  precipitation_amt_mm  reanalysis_air_temp_k  ...  \\\n",
       "0  0.177617                 12.42             297.572857  ...   \n",
       "1  0.155486                 22.82             298.211429  ...   \n",
       "2  0.170843                 34.54             298.781429  ...   \n",
       "3  0.235886                 15.36             298.987143  ...   \n",
       "4  0.247340                  7.52             299.518571  ...   \n",
       "\n",
       "   reanalysis_relative_humidity_percent  reanalysis_sat_precip_amt_mm  \\\n",
       "0                             73.365714                         12.42   \n",
       "1                             77.368571                         22.82   \n",
       "2                             82.052857                         34.54   \n",
       "3                             80.337143                         15.36   \n",
       "4                             80.460000                          7.52   \n",
       "\n",
       "   reanalysis_specific_humidity_g_per_kg  reanalysis_tdtr_k  \\\n",
       "0                              14.012857           2.628571   \n",
       "1                              15.372857           2.371429   \n",
       "2                              16.848571           2.300000   \n",
       "3                              16.672857           2.428571   \n",
       "4                              17.210000           3.014286   \n",
       "\n",
       "   station_avg_temp_c  station_diur_temp_rng_c  station_max_temp_c  \\\n",
       "0           25.442857                 6.900000                29.4   \n",
       "1           26.714286                 6.371429                31.7   \n",
       "2           26.714286                 6.485714                32.2   \n",
       "3           27.471429                 6.771429                33.3   \n",
       "4           28.942857                 9.371429                35.0   \n",
       "\n",
       "   station_min_temp_c  station_precip_mm  Total_Cases  \n",
       "0                20.0               16.0            4  \n",
       "1                22.2                8.6            5  \n",
       "2                22.8               41.4            4  \n",
       "3                23.3                4.0            3  \n",
       "4                23.9                5.8            6  \n",
       "\n",
       "[5 rows x 25 columns]"
      ]
     },
     "execution_count": 12,
     "metadata": {},
     "output_type": "execute_result"
    }
   ],
   "source": [
    "#Filling the NULL values for San Juan city with the mean of each column\n",
    "dn_sj = dn_sj.fillna(value=dn_sj.mean())\n",
    "dn_sj.head(5)"
   ]
  },
  {
   "cell_type": "code",
   "execution_count": 13,
   "metadata": {},
   "outputs": [
    {
     "data": {
      "text/html": [
       "<div>\n",
       "<style scoped>\n",
       "    .dataframe tbody tr th:only-of-type {\n",
       "        vertical-align: middle;\n",
       "    }\n",
       "\n",
       "    .dataframe tbody tr th {\n",
       "        vertical-align: top;\n",
       "    }\n",
       "\n",
       "    .dataframe thead th {\n",
       "        text-align: right;\n",
       "    }\n",
       "</style>\n",
       "<table border=\"1\" class=\"dataframe\">\n",
       "  <thead>\n",
       "    <tr style=\"text-align: right;\">\n",
       "      <th></th>\n",
       "      <th>city</th>\n",
       "      <th>year</th>\n",
       "      <th>weekofyear</th>\n",
       "      <th>week_start_date</th>\n",
       "      <th>ndvi_ne</th>\n",
       "      <th>ndvi_nw</th>\n",
       "      <th>ndvi_se</th>\n",
       "      <th>ndvi_sw</th>\n",
       "      <th>precipitation_amt_mm</th>\n",
       "      <th>reanalysis_air_temp_k</th>\n",
       "      <th>...</th>\n",
       "      <th>reanalysis_relative_humidity_percent</th>\n",
       "      <th>reanalysis_sat_precip_amt_mm</th>\n",
       "      <th>reanalysis_specific_humidity_g_per_kg</th>\n",
       "      <th>reanalysis_tdtr_k</th>\n",
       "      <th>station_avg_temp_c</th>\n",
       "      <th>station_diur_temp_rng_c</th>\n",
       "      <th>station_max_temp_c</th>\n",
       "      <th>station_min_temp_c</th>\n",
       "      <th>station_precip_mm</th>\n",
       "      <th>Total_Cases</th>\n",
       "    </tr>\n",
       "  </thead>\n",
       "  <tbody>\n",
       "    <tr>\n",
       "      <td>936</td>\n",
       "      <td>iq</td>\n",
       "      <td>2000</td>\n",
       "      <td>26</td>\n",
       "      <td>2000-07-01</td>\n",
       "      <td>0.192886</td>\n",
       "      <td>0.132257</td>\n",
       "      <td>0.340886</td>\n",
       "      <td>0.247200</td>\n",
       "      <td>25.41</td>\n",
       "      <td>296.740000</td>\n",
       "      <td>...</td>\n",
       "      <td>92.418571</td>\n",
       "      <td>25.41</td>\n",
       "      <td>16.651429</td>\n",
       "      <td>8.928571</td>\n",
       "      <td>26.400000</td>\n",
       "      <td>10.775000</td>\n",
       "      <td>32.5</td>\n",
       "      <td>20.7</td>\n",
       "      <td>3.0</td>\n",
       "      <td>0</td>\n",
       "    </tr>\n",
       "    <tr>\n",
       "      <td>937</td>\n",
       "      <td>iq</td>\n",
       "      <td>2000</td>\n",
       "      <td>27</td>\n",
       "      <td>2000-07-08</td>\n",
       "      <td>0.216833</td>\n",
       "      <td>0.276100</td>\n",
       "      <td>0.289457</td>\n",
       "      <td>0.241657</td>\n",
       "      <td>60.61</td>\n",
       "      <td>296.634286</td>\n",
       "      <td>...</td>\n",
       "      <td>93.581429</td>\n",
       "      <td>60.61</td>\n",
       "      <td>16.862857</td>\n",
       "      <td>10.314286</td>\n",
       "      <td>26.900000</td>\n",
       "      <td>11.566667</td>\n",
       "      <td>34.0</td>\n",
       "      <td>20.8</td>\n",
       "      <td>55.6</td>\n",
       "      <td>0</td>\n",
       "    </tr>\n",
       "    <tr>\n",
       "      <td>938</td>\n",
       "      <td>iq</td>\n",
       "      <td>2000</td>\n",
       "      <td>28</td>\n",
       "      <td>2000-07-15</td>\n",
       "      <td>0.176757</td>\n",
       "      <td>0.173129</td>\n",
       "      <td>0.204114</td>\n",
       "      <td>0.128014</td>\n",
       "      <td>55.52</td>\n",
       "      <td>296.415714</td>\n",
       "      <td>...</td>\n",
       "      <td>95.848571</td>\n",
       "      <td>55.52</td>\n",
       "      <td>17.120000</td>\n",
       "      <td>7.385714</td>\n",
       "      <td>26.800000</td>\n",
       "      <td>11.466667</td>\n",
       "      <td>33.0</td>\n",
       "      <td>20.7</td>\n",
       "      <td>38.1</td>\n",
       "      <td>0</td>\n",
       "    </tr>\n",
       "    <tr>\n",
       "      <td>939</td>\n",
       "      <td>iq</td>\n",
       "      <td>2000</td>\n",
       "      <td>29</td>\n",
       "      <td>2000-07-22</td>\n",
       "      <td>0.227729</td>\n",
       "      <td>0.145429</td>\n",
       "      <td>0.254200</td>\n",
       "      <td>0.200314</td>\n",
       "      <td>5.60</td>\n",
       "      <td>295.357143</td>\n",
       "      <td>...</td>\n",
       "      <td>87.234286</td>\n",
       "      <td>5.60</td>\n",
       "      <td>14.431429</td>\n",
       "      <td>9.114286</td>\n",
       "      <td>25.766667</td>\n",
       "      <td>10.533333</td>\n",
       "      <td>31.5</td>\n",
       "      <td>14.7</td>\n",
       "      <td>30.0</td>\n",
       "      <td>0</td>\n",
       "    </tr>\n",
       "    <tr>\n",
       "      <td>940</td>\n",
       "      <td>iq</td>\n",
       "      <td>2000</td>\n",
       "      <td>30</td>\n",
       "      <td>2000-07-29</td>\n",
       "      <td>0.328643</td>\n",
       "      <td>0.322129</td>\n",
       "      <td>0.254371</td>\n",
       "      <td>0.361043</td>\n",
       "      <td>62.76</td>\n",
       "      <td>296.432857</td>\n",
       "      <td>...</td>\n",
       "      <td>88.161429</td>\n",
       "      <td>62.76</td>\n",
       "      <td>15.444286</td>\n",
       "      <td>9.500000</td>\n",
       "      <td>26.600000</td>\n",
       "      <td>11.480000</td>\n",
       "      <td>33.3</td>\n",
       "      <td>19.1</td>\n",
       "      <td>4.0</td>\n",
       "      <td>0</td>\n",
       "    </tr>\n",
       "  </tbody>\n",
       "</table>\n",
       "<p>5 rows × 25 columns</p>\n",
       "</div>"
      ],
      "text/plain": [
       "    city  year  weekofyear week_start_date   ndvi_ne   ndvi_nw   ndvi_se  \\\n",
       "936   iq  2000          26      2000-07-01  0.192886  0.132257  0.340886   \n",
       "937   iq  2000          27      2000-07-08  0.216833  0.276100  0.289457   \n",
       "938   iq  2000          28      2000-07-15  0.176757  0.173129  0.204114   \n",
       "939   iq  2000          29      2000-07-22  0.227729  0.145429  0.254200   \n",
       "940   iq  2000          30      2000-07-29  0.328643  0.322129  0.254371   \n",
       "\n",
       "      ndvi_sw  precipitation_amt_mm  reanalysis_air_temp_k  ...  \\\n",
       "936  0.247200                 25.41             296.740000  ...   \n",
       "937  0.241657                 60.61             296.634286  ...   \n",
       "938  0.128014                 55.52             296.415714  ...   \n",
       "939  0.200314                  5.60             295.357143  ...   \n",
       "940  0.361043                 62.76             296.432857  ...   \n",
       "\n",
       "     reanalysis_relative_humidity_percent  reanalysis_sat_precip_amt_mm  \\\n",
       "936                             92.418571                         25.41   \n",
       "937                             93.581429                         60.61   \n",
       "938                             95.848571                         55.52   \n",
       "939                             87.234286                          5.60   \n",
       "940                             88.161429                         62.76   \n",
       "\n",
       "     reanalysis_specific_humidity_g_per_kg  reanalysis_tdtr_k  \\\n",
       "936                              16.651429           8.928571   \n",
       "937                              16.862857          10.314286   \n",
       "938                              17.120000           7.385714   \n",
       "939                              14.431429           9.114286   \n",
       "940                              15.444286           9.500000   \n",
       "\n",
       "     station_avg_temp_c  station_diur_temp_rng_c  station_max_temp_c  \\\n",
       "936           26.400000                10.775000                32.5   \n",
       "937           26.900000                11.566667                34.0   \n",
       "938           26.800000                11.466667                33.0   \n",
       "939           25.766667                10.533333                31.5   \n",
       "940           26.600000                11.480000                33.3   \n",
       "\n",
       "     station_min_temp_c  station_precip_mm  Total_Cases  \n",
       "936                20.7                3.0            0  \n",
       "937                20.8               55.6            0  \n",
       "938                20.7               38.1            0  \n",
       "939                14.7               30.0            0  \n",
       "940                19.1                4.0            0  \n",
       "\n",
       "[5 rows x 25 columns]"
      ]
     },
     "execution_count": 13,
     "metadata": {},
     "output_type": "execute_result"
    }
   ],
   "source": [
    "#Filling the NULL values for the city Iquitos with the mean of each column\n",
    "dn_iq = dn_iq.fillna(value=dn_iq.mean())\n",
    "dn_iq.head(5)"
   ]
  },
  {
   "cell_type": "code",
   "execution_count": 14,
   "metadata": {},
   "outputs": [
    {
     "data": {
      "text/plain": [
       "<seaborn.axisgrid.JointGrid at 0x26da2f36b48>"
      ]
     },
     "execution_count": 14,
     "metadata": {},
     "output_type": "execute_result"
    },
    {
     "data": {
      "image/png": "[encoded data removed]",
      "text/plain": [
       "<Figure size 432x432 with 3 Axes>"
      ]
     },
     "metadata": {
      "needs_background": "light"
     },
     "output_type": "display_data"
    }
   ],
   "source": [
    "sns.jointplot(x = 'station_avg_temp_c', y = 'Total_Cases', data = dn_iq, kind = 'hex')"
   ]
  },
  {
   "cell_type": "code",
   "execution_count": 15,
   "metadata": {},
   "outputs": [
    {
     "data": {
      "text/plain": [
       "<matplotlib.axes._subplots.AxesSubplot at 0x26da33e5e08>"
      ]
     },
     "execution_count": 15,
     "metadata": {},
     "output_type": "execute_result"
    },
    {
     "data": {
      "image/png": "[encoded data removed]",
      "text/plain": [
       "<Figure size 432x288 with 1 Axes>"
      ]
     },
     "metadata": {
      "needs_background": "light"
     },
     "output_type": "display_data"
    }
   ],
   "source": [
    "sns.boxplot(x='year', y = 'Total_Cases', data = dn_sj)"
   ]
  },
  {
   "cell_type": "code",
   "execution_count": 118,
   "metadata": {},
   "outputs": [
    {
     "data": {
      "text/plain": [
       "<matplotlib.axes._subplots.AxesSubplot at 0x2893aa9d448>"
      ]
     },
     "execution_count": 118,
     "metadata": {},
     "output_type": "execute_result"
    },
    {
     "data": {
      "image/png": "[encoded data removed]",
      "text/plain": [
       "<Figure size 432x288 with 1 Axes>"
      ]
     },
     "metadata": {
      "needs_background": "light"
     },
     "output_type": "display_data"
    }
   ],
   "source": [
    "sns.stripplot(x='year', y = 'Total_Cases', data = dn_sj)"
   ]
  },
  {
   "cell_type": "code",
   "execution_count": 119,
   "metadata": {},
   "outputs": [
    {
     "data": {
      "text/plain": [
       "<matplotlib.axes._subplots.AxesSubplot at 0x2893b02b588>"
      ]
     },
     "execution_count": 119,
     "metadata": {},
     "output_type": "execute_result"
    },
    {
     "data": {
      "image/png": "[encoded data removed]",
      "text/plain": [
       "<Figure size 432x288 with 1 Axes>"
      ]
     },
     "metadata": {
      "needs_background": "light"
     },
     "output_type": "display_data"
    }
   ],
   "source": [
    "sns.distplot(dn_cases['total_cases'])"
   ]
  },
  {
   "cell_type": "code",
   "execution_count": 16,
   "metadata": {},
   "outputs": [
    {
     "data": {
      "text/plain": [
       "Index(['city', 'year', 'weekofyear', 'week_start_date', 'ndvi_ne', 'ndvi_nw',\n",
       "       'ndvi_se', 'ndvi_sw', 'precipitation_amt_mm', 'reanalysis_air_temp_k',\n",
       "       'reanalysis_avg_temp_k', 'reanalysis_dew_point_temp_k',\n",
       "       'reanalysis_max_air_temp_k', 'reanalysis_min_air_temp_k',\n",
       "       'reanalysis_precip_amt_kg_per_m2',\n",
       "       'reanalysis_relative_humidity_percent', 'reanalysis_sat_precip_amt_mm',\n",
       "       'reanalysis_specific_humidity_g_per_kg', 'reanalysis_tdtr_k',\n",
       "       'station_avg_temp_c', 'station_diur_temp_rng_c', 'station_max_temp_c',\n",
       "       'station_min_temp_c', 'station_precip_mm', 'Total_Cases'],\n",
       "      dtype='object')"
      ]
     },
     "execution_count": 16,
     "metadata": {},
     "output_type": "execute_result"
    }
   ],
   "source": [
    "#Since we are predicting the Total Cases we are droping the Total_cases column as this will be \"Y\" value\n",
    "x1 = dn_sj.drop(['Total_Cases'], axis = 1).values\n",
    "x1\n",
    "dn_sj.columns"
   ]
  },
  {
   "cell_type": "code",
   "execution_count": 155,
   "metadata": {},
   "outputs": [],
   "source": [
    "#WE are removing the Yean and City Column as they do mot hae any correlation with the rest of the data\n",
    "#x = np.delete(x1,[0,3],1)\n",
    "#x = np.delete(x,0,1)\n",
    "X = dn_sj[[  'ndvi_ne', 'ndvi_nw',\n",
    "       'ndvi_se', 'ndvi_sw', 'precipitation_amt_mm', 'reanalysis_air_temp_k',\n",
    "       'reanalysis_avg_temp_k', 'reanalysis_dew_point_temp_k',\n",
    "       'reanalysis_max_air_temp_k', 'reanalysis_min_air_temp_k',\n",
    "       'reanalysis_precip_amt_kg_per_m2',\n",
    "       'reanalysis_relative_humidity_percent', 'reanalysis_sat_precip_amt_mm',\n",
    "       'reanalysis_specific_humidity_g_per_kg', 'reanalysis_tdtr_k',\n",
    "       'station_avg_temp_c', 'station_diur_temp_rng_c', 'station_max_temp_c',\n",
    "       'station_min_temp_c', 'station_precip_mm',]]"
   ]
  },
  {
   "cell_type": "code",
   "execution_count": 156,
   "metadata": {},
   "outputs": [
    {
     "data": {
      "text/plain": [
       "array([[18, 0.1226, 0.103725, ..., 29.4, 20.0, 16.0],\n",
       "       [19, 0.1699, 0.142175, ..., 31.7, 22.2, 8.6],\n",
       "       [20, 0.03225, 0.1729667, ..., 32.2, 22.8, 41.4],\n",
       "       ...,\n",
       "       [15, -0.1552, -0.05275, ..., 29.4, 21.7, 30.7],\n",
       "       [16, 0.0018, 0.06746906815219837, ..., 29.4, 21.7, 11.2],\n",
       "       [17, -0.037000000000000005, -0.01036667, ..., 31.7, 23.3, 0.3]],\n",
       "      dtype=object)"
      ]
     },
     "execution_count": 156,
     "metadata": {},
     "output_type": "execute_result"
    }
   ],
   "source": [
    "x"
   ]
  },
  {
   "cell_type": "code",
   "execution_count": 124,
   "metadata": {},
   "outputs": [],
   "source": [
    "# We are assigning the Y values to the Total Cases as we need to train the Data for running the model on TEST dataset\n",
    "y = dn_sj['Total_Cases'].values"
   ]
  },
  {
   "cell_type": "code",
   "execution_count": 157,
   "metadata": {},
   "outputs": [
    {
     "data": {
      "text/plain": [
       "array([  4,   5,   4,   3,   6,   2,   4,   5,  10,   6,   8,   2,   6,\n",
       "        17,  23,  13,  21,  28,  24,  20,  40,  27,  42,  33,  43,  37,\n",
       "        57,  71,  44,  56,  53,  52,  47,  26,  27,  21,  21,  26,  34,\n",
       "        37,  17,  19,  25,  18,  21,  17,  17,  16,  16,  15,  23,  16,\n",
       "        17,  12,  17,  10,  15,  19,  21,  14,  18,  13,  14,  18,  23,\n",
       "        25,  62,  60,  76,  66,  64,  68,  89,  92, 140, 116, 142, 129,\n",
       "       140, 140, 127, 129, 169, 141, 108,  78,  70,  81, 104,  90,  85,\n",
       "        55,  53,  65,  33,  38,  59,  40,  37,  29,  30,  30,  28,  23,\n",
       "        24,  29,  26,  23,  20,  19,  20,  26,  29,  31,  28,  26,  32,\n",
       "        35,  33,  30,  52,  59,  67,  65,  74,  70,  61,  53,  76,  61,\n",
       "        57,  44,  34,  47,  60,  60,  53,  36,  31,  30,  32,  28,  33,\n",
       "        33,  35,  22,  13,  13,  21,  17,  11,   8,   8,   6,   6,   7,\n",
       "        12,  17,  10,  10,  18,  19,  12,  22,  12,  21,  18,  16,  16,\n",
       "        22,  17,  25,  23,  12,  25,  28,  27,  18,  23,  23,  29,  38,\n",
       "        36,  43,  46,  31,  25,  40,  31,  38,  30,  22,  31,  26,  35,\n",
       "        36,  39,  25,  31,  37,  33,  25,  24,  18,  23,  13,  18,  14,\n",
       "        17,  22,  13,  24,  31,  34,  31,  31,  38,  49,  42,  49,  55,\n",
       "        80,  84,  72,  89, 115, 179, 202, 272, 302, 395, 426, 461, 381,\n",
       "       333, 353, 410, 364, 359, 288, 221, 149, 112, 154,  91,  72,  56,\n",
       "        46,  37,  26,  17,  17,  20,  11,   7,  16,  14,  16,   5,   2,\n",
       "         6,   5,   4,   3,   4,  16,   8,   7,  10,  14,   7,   9,  11,\n",
       "        23,  17,  19,  24,  17,  28,  40,  33,  31,  33,  29,  30,  36,\n",
       "        48,  40,  28,  36,  19,  34,  23,  17,  17,  23,  14,  20,  13,\n",
       "        23,  20,  16,  16,  23,  14,  15,   4,   5,   5,  11,  11,   7,\n",
       "         4,   6,   5,   2,   4,   2,   4,   6,   6,   4,   6,  11,  16,\n",
       "         9,  12,  13,  27,  21,  19,  17,  24,  27,  30,  29,  25,  35,\n",
       "        33,  30,  29,  31,  29,  22,  27,  24,  26,  29,  22,  33,  24,\n",
       "        30,  20,  17,  24,  28,  18,  13,   9,  14,  11,  11,  19,  10,\n",
       "         8,   8,   9,   3,   7,  14,   4,   9,  14,   7,   9,   3,   3,\n",
       "        14,  12,  10,  21,  26,  47,  42,  31,  34,  33,  52,  56,  70,\n",
       "       112,  70,  47,  48,  49,  66,  56,  61,  67,  64,  68,  49,  50,\n",
       "        56,  75,  63,  62,  41,  50,  34,  31,  38,  30,  32,  26,  30,\n",
       "        36,  35,  46,  48,  44,  51,  59,  71, 102, 128, 127, 150, 191,\n",
       "       256, 329, 263, 220, 204, 181,  99,  54,  80, 102, 127,  73,  68,\n",
       "        64,  55,  67,  84,  85,  67,  73,  89,  68,  59,  56,  77,  75,\n",
       "        47,  50,  42,  28,  37,  37,  27,  12,  15,  22,   8,  15,  17,\n",
       "        10,   9,  11,  20,  13,  11,  16,  11,   7,  17,  14,  13,  15,\n",
       "        30,  25,  40,  44,  25,  21,  48,  56,  60,  45,  55,  32,  46,\n",
       "        61,  42,  37,  43,  34,  40,  25,  16,  17,  17,  16,  23,  18,\n",
       "        18,   9,   7,   7,   4,   3,   2,   8,   3,   1,   1,   2,   3,\n",
       "         3,   2,   0,   0,   2,   2,   0,   6,   3,   6,   2,   3,   2,\n",
       "         4,   5,   2,   9,   2,   4,   8,   6,   3,  11,  14,  15,  20,\n",
       "         9,  20,  28,  38,  30,  30,  23,  16,  22,  28,  14,  17,  20,\n",
       "        17,  10,  13,  20,   9,  18,   9,   8,  19,  11,   4,   6,   6,\n",
       "         8,  13,   8,   8,   5,  16,  12,  11,  18,  10,  22,  14,  16,\n",
       "        18,  27,  38,  35,  41,  51,  65,  55,  54,  62,  64,  56,  65,\n",
       "        71,  75,  71,  72,  47,  27,  35,  25,  19,  37,  38,  34,  26,\n",
       "        19,  18,  22,  16,  18,   6,  12,   6,   6,   3,   7,   6,   1,\n",
       "         3,   2,   2,   1,  10,   3,   3,   1,   1,   2,   6,   3,   3,\n",
       "         5,   4,   7,   6,   5,   7,   6,   4,   4,   7,   9,   5,   5,\n",
       "        10,   6,  13,   6,   5,   5,   9,   3,   6,  11,   7,   7,  15,\n",
       "         9,   6,   6,   6,   7,  10,   8,   7,  12,   3,   2,   7,   5,\n",
       "         5,   7,   7,   7,   7,  10,  13,  10,  14,  11,  20,  25,  17,\n",
       "        18,  25,  21,  31,  32,  26,  35,  28,  37,  41,  34,  30,  39,\n",
       "        39,  39,  34,  30,  37,  29,  26,  15,  22,  15,  20,  14,  10,\n",
       "        21,  14,  14,   9,  11,   5,   6,   7,  11,   4,   3,   2,   6,\n",
       "        10,   7,   5,   3,  12,  13,  10,  13,  13,   8,  21,  18,   8,\n",
       "         7,  20,  14,  14,   7,  14,  10,  13,  27,  13,  18,  16,  16,\n",
       "        20,  17,   4,  15,   8,   6,  12,  15,  11,  10,  15,  17,   7,\n",
       "         7,   8,   9,  12,  12,   5,   4,  11,   4,   5,   7,   1,   1,\n",
       "         4,   2,   6,   3,   4,  10,  12,  21,  26,  21,  30,  45,  56,\n",
       "        75,  83,  82, 126, 119, 137, 131, 112,  82,  73,  43,  55,  55,\n",
       "        53,  46,  43,  29,  22,  26,  13,  17,   8,  13,  10,  17,  19,\n",
       "         9,   9,   9,   3,   7,   7,   0,   2,   3,   3,   1,   3,   3,\n",
       "         3,   7,   3,   5,  11,   5,   5,   6,   6,   4,   4,   8,  14,\n",
       "        12,  16,  10,  16,  18,  15,  23,  17,  33,  15,  13,  11,  14,\n",
       "        17,  19,  20,  12,  21,   7,  19,  10,  13,  10,   8,  21,  11,\n",
       "         9,  14,  14,  15,  18,  16,  12,  20,   8,   3,  13,   4,   1,\n",
       "        10,   8,  13,  10,  21,  18,  21,  34,  25,  34,  33,  40,  42,\n",
       "        36,  72,  75,  76,  92,  71, 112, 106, 101, 170, 135, 106,  68,\n",
       "        48,  48,  26,  33,  29,  17,  12,  13,  17,  15,  14,  15,  10,\n",
       "         9,   2,   6,   8,   5,   1,   2,   3,   4,   3,   1,   3,   5],\n",
       "      dtype=int64)"
      ]
     },
     "execution_count": 157,
     "metadata": {},
     "output_type": "execute_result"
    }
   ],
   "source": [
    "y"
   ]
  },
  {
   "cell_type": "code",
   "execution_count": 158,
   "metadata": {},
   "outputs": [
    {
     "data": {
      "text/plain": [
       "array([ 14,  23,  16,  29,  44,   3,  19, 353,  61,  15,  65,  23,   8,\n",
       "         7,  17,  19,   5,  46,  71,  61,  10,   6,  10,  27,  13,  89,\n",
       "        30,   8,  59,  29,  33,   6,  49,  36,  40,  75,   5,  27,  37,\n",
       "        38,   6,  14,   4,  11,   0,  21,  18,  17,  59,  49,   6,  46,\n",
       "        14,  71,  26,   6,   8,  20,   7,  24,  25,   1,  34,  19,  53,\n",
       "         3,  35,  37,   7,  18,   3,  13,  12,   5,  10,   6,   9,  56,\n",
       "        30,   2,  56,  14,  52,  53,  18,   2,  15,  61,  29,  17,  47,\n",
       "        28,  75,   5,  44,  24,  49,  24,  11,   9,   7,  11,  25,   6,\n",
       "         7,  28,  16,  56, 140,  18,  11,  16,  28,  13,   7,   6,  23,\n",
       "        17,  26,  28,   9,  12, 461,   9,  10,  37, 104,  23,   5,  28,\n",
       "        36,  14,  23,   4,  80,  11,  23,   6,  20,  11,  15,  16,   2,\n",
       "         2,   7,  18,  50,  23, 191, 381,   9,  25,  16,  75,  66,   6,\n",
       "       221,  27,   3,  14,  34,  11,  26,   6,  42,  44,  24, 126,  11,\n",
       "        15,   4,  42,  65,  40,  99,   5,  10,  13,   7,  14,  41,  14,\n",
       "        33,  31,  48,   5,  33,   7,  33,  33,  10,  10,  14,   4,  15,\n",
       "        35, 179,   5,  14,  53,   7,  68,  17,  29,   3,  18,  12,  10,\n",
       "        18,  28,  41,   6,  19,  10,   3,  12,  21, 106,  16,   4,  38,\n",
       "        48,  68,  20,   5,  21,   3, 181,  70,  82,  14,   4,  32,  77],\n",
       "      dtype=int64)"
      ]
     },
     "execution_count": 158,
     "metadata": {},
     "output_type": "execute_result"
    }
   ],
   "source": [
    "from sklearn.model_selection import train_test_split\n",
    "x_train, x_test, y_train, y_test= train_test_split(x,y, test_size = 0.25, random_state = 200)\n",
    "y_test"
   ]
  },
  {
   "cell_type": "code",
   "execution_count": 159,
   "metadata": {},
   "outputs": [
    {
     "data": {
      "text/plain": [
       "LinearRegression(copy_X=True, fit_intercept=True, n_jobs=None, normalize=False)"
      ]
     },
     "execution_count": 159,
     "metadata": {},
     "output_type": "execute_result"
    }
   ],
   "source": [
    "# Linear Regression\n",
    "from sklearn.linear_model import LinearRegression\n",
    "ml = LinearRegression()\n",
    "ml.fit(x_train, y_train)"
   ]
  },
  {
   "cell_type": "code",
   "execution_count": 160,
   "metadata": {},
   "outputs": [
    {
     "name": "stdout",
     "output_type": "stream",
     "text": [
      "10202.696607753142\n"
     ]
    }
   ],
   "source": [
    "print(ml.intercept_)"
   ]
  },
  {
   "cell_type": "code",
   "execution_count": 161,
   "metadata": {},
   "outputs": [
    {
     "data": {
      "text/plain": [
       "array([ 8.81721777e-01,  9.54029476e+00,  1.20348278e+01, -3.13315016e+01,\n",
       "        3.51773555e+01, -4.20215894e-02, -4.30524171e+01, -2.93955558e+01,\n",
       "        2.91418687e+01,  9.89621734e+00,  1.09052060e+00,  6.06534930e-02,\n",
       "       -1.33554507e+01, -4.20215894e-02,  3.75001999e+01, -1.14644227e+01,\n",
       "       -1.15754171e+00, -2.65616657e-01,  4.62719335e+00, -3.39350872e+00,\n",
       "       -4.93043851e-02])"
      ]
     },
     "execution_count": 161,
     "metadata": {},
     "output_type": "execute_result"
    }
   ],
   "source": [
    "ml.coef_"
   ]
  },
  {
   "cell_type": "code",
   "execution_count": 167,
   "metadata": {},
   "outputs": [
    {
     "ename": "AttributeError",
     "evalue": "'numpy.ndarray' object has no attribute 'columns'",
     "output_type": "error",
     "traceback": [
      "\u001b[1;31m---------------------------------------------------------------------------\u001b[0m",
      "\u001b[1;31mAttributeError\u001b[0m                            Traceback (most recent call last)",
      "\u001b[1;32m<ipython-input-167-4391aa2eb072>\u001b[0m in \u001b[0;36m<module>\u001b[1;34m\u001b[0m\n\u001b[1;32m----> 1\u001b[1;33m \u001b[0mx_train\u001b[0m\u001b[1;33m.\u001b[0m\u001b[0mcolumns\u001b[0m\u001b[1;33m\u001b[0m\u001b[1;33m\u001b[0m\u001b[0m\n\u001b[0m",
      "\u001b[1;31mAttributeError\u001b[0m: 'numpy.ndarray' object has no attribute 'columns'"
     ]
    }
   ],
   "source": [
    "x_train.columns"
   ]
  },
  {
   "cell_type": "code",
   "execution_count": 163,
   "metadata": {},
   "outputs": [
    {
     "data": {
      "text/plain": [
       "array([ 43.14281258,  58.64677711,  30.51175102,  13.06359372,\n",
       "        49.44373098,  19.75368659,  37.2486045 ,  49.47055661,\n",
       "        59.41171097,   2.48976036,  59.30603381,  36.10141964,\n",
       "        14.7104434 ,  18.81184224,  45.38835098,  47.12120955,\n",
       "        50.18010265,   6.52782033,  46.0220597 ,  57.20275371,\n",
       "        15.76899917,  41.15336634, -13.58995559,  56.09809451,\n",
       "        46.76310069,  58.25343016,  51.27839729,   9.28758697,\n",
       "        40.24984757,  53.49994462,  57.96777781,  46.89528487,\n",
       "        35.64754871,  36.00517663,  54.62990788,   9.43726293,\n",
       "        29.48979485,  33.0515143 ,   9.74843397,   8.33160835,\n",
       "        60.63505165,   2.4449313 ,   0.49805711,  16.534114  ,\n",
       "        17.46287936,  50.4058238 ,  21.64157534,  26.58013403,\n",
       "        24.050558  ,  58.20638721,  45.01620246,  51.40057813,\n",
       "        48.85502595,  68.23181464,  48.86799805,  24.72352626,\n",
       "        20.28000851,  52.28056771,  40.85872827,  52.31150904,\n",
       "        33.93781666,  18.9172214 ,  63.81947803,  31.65738494,\n",
       "        64.81636445,  24.70232447,  51.41053626,  55.69862264,\n",
       "        24.36933286,  49.85920374,   6.81823446,  43.62534619,\n",
       "        27.94943858,   4.37811581,  38.87710157,   3.62945053,\n",
       "        55.27497958,  56.38371232,  43.03055167,  18.31039828,\n",
       "        15.22400991,  36.24786057,  50.87444326,  46.67477291,\n",
       "        42.56745588,  29.99009308,  49.92147563,  47.45489591,\n",
       "        26.41426859,  26.82418718,  53.38494851,  29.91109947,\n",
       "        39.93098003,  33.77968681,  64.74434888,  17.97784374,\n",
       "         6.2775943 ,   5.87906213,  21.32961192,  14.28414954,\n",
       "        33.29247376,  14.94077042,  46.03036967,  16.06408652,\n",
       "        21.47410822,  47.53596451,  14.23554338,  10.69056805,\n",
       "        62.55803551,  26.65438644,  34.34098735,  40.83699318,\n",
       "        52.94072871,  39.4297141 ,  59.20754697,  11.4820434 ,\n",
       "        61.24369732,  53.31871962,  58.16183636,  28.47173996,\n",
       "        42.20341334,  38.20418954,  68.8747199 ,   6.38327621,\n",
       "        -2.74529488,  49.35906466,  -1.988417  ,  -2.01379366,\n",
       "        34.01688894,  11.93551714,  54.27163531,  17.86048993,\n",
       "        64.81884339,  11.68032017,  32.9342316 ,  28.20340733,\n",
       "         7.64452863,  52.76398436,  30.76405921,  11.48341666,\n",
       "        42.83661045,  39.0782854 ,   7.33159061,  25.78375224,\n",
       "        21.63253047,  53.01396135,   6.13663743,  24.76119398,\n",
       "        45.12169453,  53.54705829,  -0.86971874,  48.48940897,\n",
       "        49.59085601,  35.39554824,  43.10255378,   9.66640666,\n",
       "        49.67802438,  55.35322101,  49.76684987,  40.36495962,\n",
       "        39.87213751,  20.30368983,   7.97675078,   2.49011878,\n",
       "        54.14488822,  38.54018872,   7.16065879,  39.63622347,\n",
       "        26.7911024 ,  13.12243056,  38.25834932,  59.49694031,\n",
       "        43.7515603 ,  54.23217718,  47.77719873,  43.48946829,\n",
       "        61.30789559,  29.48418466,  43.95921456,  37.22048636,\n",
       "        12.30027428,  16.53563453,  38.23584442,  11.02306633,\n",
       "        51.9444327 ,  32.32665487,  66.47072802,  19.42839728,\n",
       "        37.46757472,  13.44193053,   8.28134565,  57.17629263,\n",
       "        -5.36359894,  35.02945704,  -0.71237663,  47.22805472,\n",
       "        41.4255115 ,   5.1297684 ,  49.94412853,  25.53759378,\n",
       "        21.2763455 ,  50.60047831,  -2.52397   ,  57.30364863,\n",
       "        34.13471401,   7.21554042,   5.84102755,  21.13811556,\n",
       "        23.28969794,   3.67079339,  31.13974852,   9.44379215,\n",
       "        26.69972499,  33.51671299,   9.82346426,  43.83075468,\n",
       "        38.78597254,  37.8774398 ,  41.49666642,  29.95272672,\n",
       "        61.2265412 ,  48.22804903,  66.18061712,  14.20806914,\n",
       "        21.50750477,  43.19246622,  45.81655958,  63.7226413 ,\n",
       "        56.87312019,  42.82520743,  28.34978049,  11.91730166,\n",
       "        48.34001759,   7.36429377])"
      ]
     },
     "execution_count": 163,
     "metadata": {},
     "output_type": "execute_result"
    }
   ],
   "source": [
    "#predicting Linear Regression\n",
    "y_pred=ml.predict(x_test)\n",
    "y_pred"
   ]
  },
  {
   "cell_type": "code",
   "execution_count": 164,
   "metadata": {},
   "outputs": [
    {
     "data": {
      "text/plain": [
       "array([ 14,  23,  16,  29,  44,   3,  19, 353,  61,  15,  65,  23,   8,\n",
       "         7,  17,  19,   5,  46,  71,  61,  10,   6,  10,  27,  13,  89,\n",
       "        30,   8,  59,  29,  33,   6,  49,  36,  40,  75,   5,  27,  37,\n",
       "        38,   6,  14,   4,  11,   0,  21,  18,  17,  59,  49,   6,  46,\n",
       "        14,  71,  26,   6,   8,  20,   7,  24,  25,   1,  34,  19,  53,\n",
       "         3,  35,  37,   7,  18,   3,  13,  12,   5,  10,   6,   9,  56,\n",
       "        30,   2,  56,  14,  52,  53,  18,   2,  15,  61,  29,  17,  47,\n",
       "        28,  75,   5,  44,  24,  49,  24,  11,   9,   7,  11,  25,   6,\n",
       "         7,  28,  16,  56, 140,  18,  11,  16,  28,  13,   7,   6,  23,\n",
       "        17,  26,  28,   9,  12, 461,   9,  10,  37, 104,  23,   5,  28,\n",
       "        36,  14,  23,   4,  80,  11,  23,   6,  20,  11,  15,  16,   2,\n",
       "         2,   7,  18,  50,  23, 191, 381,   9,  25,  16,  75,  66,   6,\n",
       "       221,  27,   3,  14,  34,  11,  26,   6,  42,  44,  24, 126,  11,\n",
       "        15,   4,  42,  65,  40,  99,   5,  10,  13,   7,  14,  41,  14,\n",
       "        33,  31,  48,   5,  33,   7,  33,  33,  10,  10,  14,   4,  15,\n",
       "        35, 179,   5,  14,  53,   7,  68,  17,  29,   3,  18,  12,  10,\n",
       "        18,  28,  41,   6,  19,  10,   3,  12,  21, 106,  16,   4,  38,\n",
       "        48,  68,  20,   5,  21,   3, 181,  70,  82,  14,   4,  32,  77],\n",
       "      dtype=int64)"
      ]
     },
     "execution_count": 164,
     "metadata": {},
     "output_type": "execute_result"
    }
   ],
   "source": [
    "#Linear Regression\n",
    "(y_test)"
   ]
  },
  {
   "cell_type": "code",
   "execution_count": 165,
   "metadata": {},
   "outputs": [
    {
     "data": {
      "text/plain": [
       "<matplotlib.collections.PathCollection at 0x26da92d40c8>"
      ]
     },
     "execution_count": 165,
     "metadata": {},
     "output_type": "execute_result"
    },
    {
     "data": {
      "image/png": "[encoded data removed]",
      "text/plain": [
       "<Figure size 432x288 with 1 Axes>"
      ]
     },
     "metadata": {
      "needs_background": "light"
     },
     "output_type": "display_data"
    }
   ],
   "source": [
    "plt.scatter(y_test,y_pred)"
   ]
  },
  {
   "cell_type": "code",
   "execution_count": 166,
   "metadata": {},
   "outputs": [
    {
     "data": {
      "text/plain": [
       "<matplotlib.axes._subplots.AxesSubplot at 0x26da9680888>"
      ]
     },
     "execution_count": 166,
     "metadata": {},
     "output_type": "execute_result"
    },
    {
     "data": {
      "image/png": "[encoded data removed]",
      "text/plain": [
       "<Figure size 432x288 with 1 Axes>"
      ]
     },
     "metadata": {
      "needs_background": "light"
     },
     "output_type": "display_data"
    }
   ],
   "source": [
    "sns.distplot(y_test-y_pred)"
   ]
  },
  {
   "cell_type": "code",
   "execution_count": 140,
   "metadata": {},
   "outputs": [],
   "source": [
    "from sklearn import metrics"
   ]
  },
  {
   "cell_type": "code",
   "execution_count": 141,
   "metadata": {},
   "outputs": [
    {
     "data": {
      "text/plain": [
       "27.364993408834692"
      ]
     },
     "execution_count": 141,
     "metadata": {},
     "output_type": "execute_result"
    }
   ],
   "source": [
    "metrics.mean_absolute_error(y_test, y_pred)"
   ]
  },
  {
   "cell_type": "code",
   "execution_count": 142,
   "metadata": {},
   "outputs": [
    {
     "data": {
      "text/plain": [
       "2555.378530731865"
      ]
     },
     "execution_count": 142,
     "metadata": {},
     "output_type": "execute_result"
    }
   ],
   "source": [
    "metrics.mean_squared_error(y_test, y_pred)"
   ]
  },
  {
   "cell_type": "code",
   "execution_count": 143,
   "metadata": {},
   "outputs": [
    {
     "data": {
      "text/plain": [
       "50.55075202934042"
      ]
     },
     "execution_count": 143,
     "metadata": {},
     "output_type": "execute_result"
    }
   ],
   "source": [
    "np.sqrt(metrics.mean_squared_error(y_test, y_pred))"
   ]
  },
  {
   "cell_type": "code",
   "execution_count": 144,
   "metadata": {},
   "outputs": [],
   "source": [
    "from sklearn.model_selection import train_test_split"
   ]
  },
  {
   "cell_type": "code",
   "execution_count": 65,
   "metadata": {},
   "outputs": [],
   "source": [
    "from sklearn.ensemble import RandomForestRegressor "
   ]
  },
  {
   "cell_type": "code",
   "execution_count": 66,
   "metadata": {},
   "outputs": [],
   "source": [
    "regressor = RandomForestRegressor(n_estimators=300)"
   ]
  },
  {
   "cell_type": "code",
   "execution_count": 102,
   "metadata": {},
   "outputs": [],
   "source": [
    "#regressor.fit(x_train,y_train)"
   ]
  },
  {
   "cell_type": "code",
   "execution_count": 101,
   "metadata": {},
   "outputs": [],
   "source": [
    "#pr = regressor.predict(x_test)"
   ]
  },
  {
   "cell_type": "code",
   "execution_count": 119,
   "metadata": {},
   "outputs": [
    {
     "data": {
      "text/plain": [
       "numpy.ndarray"
      ]
     },
     "execution_count": 119,
     "metadata": {},
     "output_type": "execute_result"
    }
   ],
   "source": [
    "type(pr)"
   ]
  },
  {
   "cell_type": "code",
   "execution_count": 100,
   "metadata": {},
   "outputs": [],
   "source": [
    "#pr"
   ]
  },
  {
   "cell_type": "code",
   "execution_count": null,
   "metadata": {},
   "outputs": [],
   "source": []
  }
 ],
 "metadata": {
  "kernelspec": {
   "display_name": "Python 3",
   "language": "python",
   "name": "python3"
  },
  "language_info": {
   "codemirror_mode": {
    "name": "ipython",
    "version": 3
   },
   "file_extension": ".py",
   "mimetype": "text/x-python",
   "name": "python",
   "nbconvert_exporter": "python",
   "pygments_lexer": "ipython3",
   "version": "3.7.4"
  }
 },
 "nbformat": 4,
 "nbformat_minor": 4
}
